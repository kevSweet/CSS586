{
 "cells": [
  {
   "cell_type": "markdown",
   "id": "forward-midnight",
   "metadata": {},
   "source": [
    "# Data Collection\n",
    "Please note that the following data collection and aggregation was done on 2/6/2022. I will be collecting this public data from SEC filings through finsight.com. The collection process took approximately 1 day to complete due to network speed."
   ]
  },
  {
   "cell_type": "code",
   "execution_count": 29,
   "id": "sustainable-water",
   "metadata": {},
   "outputs": [],
   "source": [
    "from selenium import webdriver\n",
    "from selenium.webdriver.common.keys import Keys\n",
    "from bs4 import BeautifulSoup\n",
    "import re\n",
    "import requests\n",
    "import os\n",
    "import sys"
   ]
  },
  {
   "cell_type": "code",
   "execution_count": 30,
   "id": "multiple-import",
   "metadata": {},
   "outputs": [],
   "source": [
    "# create directory to hold data in location of this file\n",
    "os.chdir(sys.path[0])\n",
    "if not os.path.isdir('data'):\n",
    "    os.mkdir('data')\n",
    "\n",
    "os.chdir('data')"
   ]
  },
  {
   "cell_type": "markdown",
   "id": "australian-harris",
   "metadata": {},
   "source": [
    "Must install chrome and the appropriate web driver version and change path to locate it below"
   ]
  },
  {
   "cell_type": "code",
   "execution_count": 31,
   "id": "shaped-corpus",
   "metadata": {},
   "outputs": [
    {
     "name": "stderr",
     "output_type": "stream",
     "text": [
      "<ipython-input-31-976fb71c061a>:1: DeprecationWarning: executable_path has been deprecated, please pass in a Service object\n",
      "  driver = webdriver.Chrome('C:\\Program Files\\Google\\Chrome-Driver\\chromedriver.exe')\n"
     ]
    }
   ],
   "source": [
    "driver = webdriver.Chrome('C:\\Program Files\\Google\\Chrome-Driver\\chromedriver.exe')\n",
    "url = 'https://finsight.com/us-abs-loan-level-data-on-edgar'\n",
    "driver.get(url)\n",
    "driver.implicitly_wait(220)"
   ]
  },
  {
   "cell_type": "code",
   "execution_count": 32,
   "id": "round-surname",
   "metadata": {
    "scrolled": false
   },
   "outputs": [
    {
     "name": "stderr",
     "output_type": "stream",
     "text": [
      "<ipython-input-32-a9fdfc06d578>:1: DeprecationWarning: find_element_by_* commands are deprecated. Please use find_element() instead\n",
      "  filter_input = driver.find_element_by_xpath(\"/html/body/div[1]/div/div[1]/div[2]/div/div[2]/div[1]/div[1]/div/label/input\")\n"
     ]
    }
   ],
   "source": [
    "# Filter datasets to only include auto tags\n",
    "filter_input = driver.find_element_by_xpath(\"/html/body/div[1]/div/div[1]/div[2]/div/div[2]/div[1]/div[1]/div/label/input\")\n",
    "filter_input.send_keys(\"AUTO\")\n",
    "filter_input.send_keys(Keys.ENTER)\n",
    "driver.implicitly_wait(50)"
   ]
  },
  {
   "cell_type": "code",
   "execution_count": 33,
   "id": "english-virtue",
   "metadata": {
    "scrolled": true
   },
   "outputs": [
    {
     "name": "stderr",
     "output_type": "stream",
     "text": [
      "<ipython-input-33-ba979a4cc130>:3: DeprecationWarning: find_elements_by_* commands are deprecated. Please use find_elements() instead\n",
      "  rows = driver.find_elements_by_class_name(\"DJAQA0Bgt6HD8NwtPxQv\")\n",
      "<ipython-input-33-ba979a4cc130>:13: DeprecationWarning: find_element_by_* commands are deprecated. Please use find_element() instead\n",
      "  driver.find_element_by_xpath(\"/html/body/div[1]/div/div[1]/div[2]/div/div[2]/div[4]/div[2]/div[2]/div/div[3]/a\").click()\n"
     ]
    },
    {
     "ename": "PermissionError",
     "evalue": "[Errno 13] Permission denied: '2017.02.28_GM Financial Automobile Leasing Trust 2017-1 Data Tape.csv'",
     "output_type": "error",
     "traceback": [
      "\u001b[1;31m---------------------------------------------------------------------------\u001b[0m",
      "\u001b[1;31mPermissionError\u001b[0m                           Traceback (most recent call last)",
      "\u001b[1;32m<ipython-input-33-ba979a4cc130>\u001b[0m in \u001b[0;36m<module>\u001b[1;34m\u001b[0m\n\u001b[0;32m     10\u001b[0m         \u001b[0mheaders\u001b[0m \u001b[1;33m=\u001b[0m \u001b[0mr\u001b[0m\u001b[1;33m.\u001b[0m\u001b[0mheaders\u001b[0m\u001b[1;33m[\u001b[0m\u001b[1;34m'content-disposition'\u001b[0m\u001b[1;33m]\u001b[0m\u001b[1;33m\u001b[0m\u001b[1;33m\u001b[0m\u001b[0m\n\u001b[0;32m     11\u001b[0m         \u001b[0mfilename\u001b[0m \u001b[1;33m=\u001b[0m \u001b[0mre\u001b[0m\u001b[1;33m.\u001b[0m\u001b[0mfindall\u001b[0m\u001b[1;33m(\u001b[0m\u001b[1;34m\"filename=\\\"(.+)\\\"\"\u001b[0m\u001b[1;33m,\u001b[0m \u001b[0mheaders\u001b[0m\u001b[1;33m)\u001b[0m\u001b[1;33m[\u001b[0m\u001b[1;36m0\u001b[0m\u001b[1;33m]\u001b[0m\u001b[1;33m\u001b[0m\u001b[1;33m\u001b[0m\u001b[0m\n\u001b[1;32m---> 12\u001b[1;33m         \u001b[0mopen\u001b[0m\u001b[1;33m(\u001b[0m\u001b[0mfilename\u001b[0m\u001b[1;33m,\u001b[0m \u001b[1;34m'wb'\u001b[0m\u001b[1;33m)\u001b[0m\u001b[1;33m.\u001b[0m\u001b[0mwrite\u001b[0m\u001b[1;33m(\u001b[0m\u001b[0mr\u001b[0m\u001b[1;33m.\u001b[0m\u001b[0mcontent\u001b[0m\u001b[1;33m)\u001b[0m\u001b[1;33m\u001b[0m\u001b[1;33m\u001b[0m\u001b[0m\n\u001b[0m\u001b[0;32m     13\u001b[0m     \u001b[0mdriver\u001b[0m\u001b[1;33m.\u001b[0m\u001b[0mfind_element_by_xpath\u001b[0m\u001b[1;33m(\u001b[0m\u001b[1;34m\"/html/body/div[1]/div/div[1]/div[2]/div/div[2]/div[4]/div[2]/div[2]/div/div[3]/a\"\u001b[0m\u001b[1;33m)\u001b[0m\u001b[1;33m.\u001b[0m\u001b[0mclick\u001b[0m\u001b[1;33m(\u001b[0m\u001b[1;33m)\u001b[0m\u001b[1;33m\u001b[0m\u001b[1;33m\u001b[0m\u001b[0m\n",
      "\u001b[1;31mPermissionError\u001b[0m: [Errno 13] Permission denied: '2017.02.28_GM Financial Automobile Leasing Trust 2017-1 Data Tape.csv'"
     ]
    }
   ],
   "source": [
    "# Iterate through each page, retrieving the download link <a> tag\n",
    "# runs until manually exited. (or errors out due to no remaining pages)\n",
    "while True:\n",
    "    rows = driver.find_elements_by_class_name(\"DJAQA0Bgt6HD8NwtPxQv\")\n",
    "    for row in rows:\n",
    "        try:\n",
    "            link = row.find_element_by_xpath(\".//td[5]/span[1]/span/span/a\").get_attribute('href')\n",
    "        except:\n",
    "            continue\n",
    "        r = requests.get(link, allow_redirects=True)\n",
    "        headers = r.headers['content-disposition']\n",
    "        filename = re.findall(\"filename=\\\"(.+)\\\"\", headers)[0]\n",
    "        open(filename, 'wb').write(r.content)\n",
    "    #click next button\n",
    "    driver.find_element_by_xpath(\"/html/body/div[1]/div/div[1]/div[2]/div/div[2]/div[4]/div[2]/div[2]/div/div[3]/a\").click()"
   ]
  }
 ],
 "metadata": {
  "kernelspec": {
   "display_name": "Python 3",
   "language": "python",
   "name": "python3"
  },
  "language_info": {
   "codemirror_mode": {
    "name": "ipython",
    "version": 3
   },
   "file_extension": ".py",
   "mimetype": "text/x-python",
   "name": "python",
   "nbconvert_exporter": "python",
   "pygments_lexer": "ipython3",
   "version": "3.9.2"
  }
 },
 "nbformat": 4,
 "nbformat_minor": 5
}
