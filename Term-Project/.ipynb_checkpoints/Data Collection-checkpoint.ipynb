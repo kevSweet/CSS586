{
 "cells": [
  {
   "cell_type": "markdown",
   "id": "forward-midnight",
   "metadata": {},
   "source": [
    "# Data Collection\n",
    "Please note that the following data collection and aggregation was done on 2/6/2022. I will be collecting this public data from SEC filings through finsight.com. The collection process took approximately 1 day to complete due to network speed."
   ]
  },
  {
   "cell_type": "code",
   "execution_count": 1,
   "id": "sustainable-water",
   "metadata": {},
   "outputs": [],
   "source": [
    "from selenium import webdriver\n",
    "from selenium.webdriver.common.keys import Keys\n",
    "from bs4 import BeautifulSoup\n",
    "import re\n",
    "import requests\n",
    "import os\n",
    "import sys\n",
    "import time\n",
    "import random"
   ]
  },
  {
   "cell_type": "code",
   "execution_count": 2,
   "id": "multiple-import",
   "metadata": {},
   "outputs": [],
   "source": [
    "# create directory to hold data in location of this file\n",
    "os.chdir(sys.path[0])\n",
    "if not os.path.isdir('data'):\n",
    "    os.mkdir('data')\n",
    "\n",
    "os.chdir('data')"
   ]
  },
  {
   "cell_type": "markdown",
   "id": "australian-harris",
   "metadata": {},
   "source": [
    "Must install chrome and the appropriate web driver version and change path to locate it below"
   ]
  },
  {
   "cell_type": "code",
   "execution_count": 3,
   "id": "shaped-corpus",
   "metadata": {},
   "outputs": [
    {
     "name": "stderr",
     "output_type": "stream",
     "text": [
      "C:\\Users\\sweet\\AppData\\Local\\Temp\\ipykernel_32560\\143522589.py:1: DeprecationWarning: executable_path has been deprecated, please pass in a Service object\n",
      "  driver = webdriver.Chrome('C:\\Program Files\\Google\\Chrome-Driver\\chromedriver.exe')\n"
     ]
    }
   ],
   "source": [
    "driver = webdriver.Chrome('C:\\Program Files\\Google\\Chrome-Driver\\chromedriver.exe')\n",
    "url = 'https://finsight.com/us-abs-loan-level-data-on-edgar'\n",
    "driver.get(url)\n",
    "driver.implicitly_wait(220)"
   ]
  },
  {
   "cell_type": "code",
   "execution_count": 4,
   "id": "round-surname",
   "metadata": {
    "scrolled": true
   },
   "outputs": [
    {
     "name": "stderr",
     "output_type": "stream",
     "text": [
      "C:\\Users\\sweet\\AppData\\Local\\Temp\\ipykernel_32560\\3770264192.py:2: DeprecationWarning: find_element_by_xpath is deprecated. Please use find_element(by=By.XPATH, value=xpath) instead\n",
      "  filter_input = driver.find_element_by_xpath(\"/html/body/div[1]/div/div[1]/div[2]/div/div[2]/div[1]/div[1]/div/label/input\")\n"
     ]
    }
   ],
   "source": [
    "# Filter datasets to only include auto tags\n",
    "filter_input = driver.find_element_by_xpath(\"/html/body/div[1]/div/div[1]/div[2]/div/div[2]/div[1]/div[1]/div/label/input\")\n",
    "filter_input.send_keys(\"AUTO\")\n",
    "filter_input.send_keys(Keys.ENTER)\n",
    "driver.implicitly_wait(50)"
   ]
  },
  {
   "cell_type": "code",
   "execution_count": null,
   "id": "english-virtue",
   "metadata": {
    "scrolled": true
   },
   "outputs": [
    {
     "name": "stderr",
     "output_type": "stream",
     "text": [
      "C:\\Users\\sweet\\AppData\\Local\\Temp\\ipykernel_32560\\2693593647.py:4: DeprecationWarning: find_elements_by_class_name is deprecated. Please use find_elements(by=By.CLASS_NAME, value=name) instead\n",
      "  rows = driver.find_elements_by_class_name(\"DJAQA0Bgt6HD8NwtPxQv\")\n",
      "C:\\Users\\sweet\\AppData\\Local\\Temp\\ipykernel_32560\\2693593647.py:17: DeprecationWarning: find_element_by_xpath is deprecated. Please use find_element(by=By.XPATH, value=xpath) instead\n",
      "  driver.find_element_by_xpath(\"/html/body/div[1]/div/div[1]/div[2]/div/div[2]/div[4]/div[2]/div[2]/div/div[3]/a\").click()\n"
     ]
    }
   ],
   "source": [
    "# Iterate through each page, retrieving the download link <a> tag\n",
    "# runs until manually exited. (or errors out due to no remaining pages)\n",
    "while True:\n",
    "    rows = driver.find_elements_by_class_name(\"vHStBJkcATNImJRJJo2Q\")\n",
    "    for row in rows:\n",
    "        try:\n",
    "            link = row.find_element_by_xpath(\".//td[4]/span[1]/span/span/a\").get_attribute('href')\n",
    "        except:\n",
    "            continue\n",
    "        r = requests.get(link, allow_redirects=True)\n",
    "        headers = r.headers['content-disposition']\n",
    "        filename = re.findall(\"filename=\\\"(.+)\\\"\", headers)[0]\n",
    "        open(filename, 'wb').write(r.content)\n",
    "        # add random noise\n",
    "        time.sleep(random.uniform(0, 1.5))\n",
    "    #click next button\n",
    "    driver.find_element_by_xpath(\"/html/body/div[1]/div/div[1]/div[2]/div/div[2]/div[4]/div[2]/div[2]/div/div[3]/a\").click()"
   ]
  },
  {
   "cell_type": "code",
   "execution_count": null,
   "id": "db5f47d7",
   "metadata": {},
   "outputs": [],
   "source": []
  }
 ],
 "metadata": {
  "kernelspec": {
   "display_name": "Python 3 (ipykernel)",
   "language": "python",
   "name": "python3"
  },
  "language_info": {
   "codemirror_mode": {
    "name": "ipython",
    "version": 3
   },
   "file_extension": ".py",
   "mimetype": "text/x-python",
   "name": "python",
   "nbconvert_exporter": "python",
   "pygments_lexer": "ipython3",
   "version": "3.10.4"
  }
 },
 "nbformat": 4,
 "nbformat_minor": 5
}
