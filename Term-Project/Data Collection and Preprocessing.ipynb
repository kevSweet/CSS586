{
 "cells": [
  {
   "cell_type": "markdown",
   "id": "forward-midnight",
   "metadata": {},
   "source": [
    "# Data Collection\n",
    "Please note that the following data collection and aggregation was done on 2/6/2022. I will be collecting this public data from SEC filings through finsight.com. The collection process took approximately 1 day to complete due to network speed."
   ]
  },
  {
   "cell_type": "code",
   "execution_count": 29,
   "id": "sustainable-water",
   "metadata": {},
   "outputs": [],
   "source": [
    "from selenium import webdriver\n",
    "from selenium.webdriver.common.keys import Keys\n",
    "from bs4 import BeautifulSoup\n",
    "import re\n",
    "import requests\n",
    "import os\n",
    "import sys"
   ]
  },
  {
   "cell_type": "code",
   "execution_count": 30,
   "id": "multiple-import",
   "metadata": {},
   "outputs": [],
   "source": [
    "# create directory to hold data in location of this file\n",
    "os.chdir(sys.path[0])\n",
    "if not os.path.isdir('data'):\n",
    "    os.mkdir('data')\n",
    "\n",
    "os.chdir('data')"
   ]
  },
  {
   "cell_type": "markdown",
   "id": "australian-harris",
   "metadata": {},
   "source": [
    "Must install chrome and the appropriate web driver version and change path to locate it below"
   ]
  },
  {
   "cell_type": "code",
   "execution_count": 31,
   "id": "shaped-corpus",
   "metadata": {},
   "outputs": [
    {
     "name": "stderr",
     "output_type": "stream",
     "text": [
      "<ipython-input-31-976fb71c061a>:1: DeprecationWarning: executable_path has been deprecated, please pass in a Service object\n",
      "  driver = webdriver.Chrome('C:\\Program Files\\Google\\Chrome-Driver\\chromedriver.exe')\n"
     ]
    }
   ],
   "source": [
    "driver = webdriver.Chrome('C:\\Program Files\\Google\\Chrome-Driver\\chromedriver.exe')\n",
    "url = 'https://finsight.com/us-abs-loan-level-data-on-edgar'\n",
    "driver.get(url)\n",
    "driver.implicitly_wait(220)"
   ]
  },
  {
   "cell_type": "code",
   "execution_count": 32,
   "id": "round-surname",
   "metadata": {
    "scrolled": false
   },
   "outputs": [
    {
     "name": "stderr",
     "output_type": "stream",
     "text": [
      "<ipython-input-32-a9fdfc06d578>:1: DeprecationWarning: find_element_by_* commands are deprecated. Please use find_element() instead\n",
      "  filter_input = driver.find_element_by_xpath(\"/html/body/div[1]/div/div[1]/div[2]/div/div[2]/div[1]/div[1]/div/label/input\")\n"
     ]
    }
   ],
   "source": [
    "# Filter datasets to only include auto tags\n",
    "filter_input = driver.find_element_by_xpath(\"/html/body/div[1]/div/div[1]/div[2]/div/div[2]/div[1]/div[1]/div/label/input\")\n",
    "filter_input.send_keys(\"AUTO\")\n",
    "filter_input.send_keys(Keys.ENTER)\n",
    "driver.implicitly_wait(50)"
   ]
  },
  {
   "cell_type": "code",
   "execution_count": 33,
   "id": "english-virtue",
   "metadata": {
    "scrolled": true
   },
   "outputs": [
    {
     "name": "stderr",
     "output_type": "stream",
     "text": [
      "<ipython-input-33-ba979a4cc130>:3: DeprecationWarning: find_elements_by_* commands are deprecated. Please use find_elements() instead\n",
      "  rows = driver.find_elements_by_class_name(\"DJAQA0Bgt6HD8NwtPxQv\")\n",
      "<ipython-input-33-ba979a4cc130>:13: DeprecationWarning: find_element_by_* commands are deprecated. Please use find_element() instead\n",
      "  driver.find_element_by_xpath(\"/html/body/div[1]/div/div[1]/div[2]/div/div[2]/div[4]/div[2]/div[2]/div/div[3]/a\").click()\n"
     ]
    },
    {
     "ename": "PermissionError",
     "evalue": "[Errno 13] Permission denied: '2017.02.28_GM Financial Automobile Leasing Trust 2017-1 Data Tape.csv'",
     "output_type": "error",
     "traceback": [
      "\u001b[1;31m---------------------------------------------------------------------------\u001b[0m",
      "\u001b[1;31mPermissionError\u001b[0m                           Traceback (most recent call last)",
      "\u001b[1;32m<ipython-input-33-ba979a4cc130>\u001b[0m in \u001b[0;36m<module>\u001b[1;34m\u001b[0m\n\u001b[0;32m     10\u001b[0m         \u001b[0mheaders\u001b[0m \u001b[1;33m=\u001b[0m \u001b[0mr\u001b[0m\u001b[1;33m.\u001b[0m\u001b[0mheaders\u001b[0m\u001b[1;33m[\u001b[0m\u001b[1;34m'content-disposition'\u001b[0m\u001b[1;33m]\u001b[0m\u001b[1;33m\u001b[0m\u001b[1;33m\u001b[0m\u001b[0m\n\u001b[0;32m     11\u001b[0m         \u001b[0mfilename\u001b[0m \u001b[1;33m=\u001b[0m \u001b[0mre\u001b[0m\u001b[1;33m.\u001b[0m\u001b[0mfindall\u001b[0m\u001b[1;33m(\u001b[0m\u001b[1;34m\"filename=\\\"(.+)\\\"\"\u001b[0m\u001b[1;33m,\u001b[0m \u001b[0mheaders\u001b[0m\u001b[1;33m)\u001b[0m\u001b[1;33m[\u001b[0m\u001b[1;36m0\u001b[0m\u001b[1;33m]\u001b[0m\u001b[1;33m\u001b[0m\u001b[1;33m\u001b[0m\u001b[0m\n\u001b[1;32m---> 12\u001b[1;33m         \u001b[0mopen\u001b[0m\u001b[1;33m(\u001b[0m\u001b[0mfilename\u001b[0m\u001b[1;33m,\u001b[0m \u001b[1;34m'wb'\u001b[0m\u001b[1;33m)\u001b[0m\u001b[1;33m.\u001b[0m\u001b[0mwrite\u001b[0m\u001b[1;33m(\u001b[0m\u001b[0mr\u001b[0m\u001b[1;33m.\u001b[0m\u001b[0mcontent\u001b[0m\u001b[1;33m)\u001b[0m\u001b[1;33m\u001b[0m\u001b[1;33m\u001b[0m\u001b[0m\n\u001b[0m\u001b[0;32m     13\u001b[0m     \u001b[0mdriver\u001b[0m\u001b[1;33m.\u001b[0m\u001b[0mfind_element_by_xpath\u001b[0m\u001b[1;33m(\u001b[0m\u001b[1;34m\"/html/body/div[1]/div/div[1]/div[2]/div/div[2]/div[4]/div[2]/div[2]/div/div[3]/a\"\u001b[0m\u001b[1;33m)\u001b[0m\u001b[1;33m.\u001b[0m\u001b[0mclick\u001b[0m\u001b[1;33m(\u001b[0m\u001b[1;33m)\u001b[0m\u001b[1;33m\u001b[0m\u001b[1;33m\u001b[0m\u001b[0m\n",
      "\u001b[1;31mPermissionError\u001b[0m: [Errno 13] Permission denied: '2017.02.28_GM Financial Automobile Leasing Trust 2017-1 Data Tape.csv'"
     ]
    }
   ],
   "source": [
    "# Iterate through each page, retrieving the download link <a> tag\n",
    "# runs until manually exited. (or errors out due to no remaining pages)\n",
    "while True:\n",
    "    rows = driver.find_elements_by_class_name(\"DJAQA0Bgt6HD8NwtPxQv\")\n",
    "    for row in rows:\n",
    "        try:\n",
    "            link = row.find_element_by_xpath(\".//td[5]/span[1]/span/span/a\").get_attribute('href')\n",
    "        except:\n",
    "            continue\n",
    "        r = requests.get(link, allow_redirects=True)\n",
    "        headers = r.headers['content-disposition']\n",
    "        filename = re.findall(\"filename=\\\"(.+)\\\"\", headers)[0]\n",
    "        open(filename, 'wb').write(r.content)\n",
    "    #click next button\n",
    "    driver.find_element_by_xpath(\"/html/body/div[1]/div/div[1]/div[2]/div/div[2]/div[4]/div[2]/div[2]/div/div[3]/a\").click()"
   ]
  },
  {
   "cell_type": "markdown",
   "id": "canadian-concord",
   "metadata": {},
   "source": [
    "# Data Preprocessing"
   ]
  },
  {
   "cell_type": "markdown",
   "id": "occupied-sixth",
   "metadata": {},
   "source": [
    "Older data were snapshots of the performance of the loans at a time period. For the purposes of predicting probability of default, I only need the most recent performance of the loans. I recognize that I could have performed this during collection, but I wanted all the data for other purposes unrelated to this analysis.\n",
    "\n",
    "First I will filter out the files containing \"Lease\" or \"Leasing\". Leases are fundamentally different from car loan originations, so I will not consider them. "
   ]
  },
  {
   "cell_type": "code",
   "execution_count": 43,
   "id": "intelligent-teach",
   "metadata": {},
   "outputs": [],
   "source": [
    "for fname in os.listdir(os.getcwd()):\n",
    "    if 'Leas' in fname:\n",
    "        os.remove(os.path.join(os.getcwd(), fname))"
   ]
  },
  {
   "cell_type": "markdown",
   "id": "greek-dominican",
   "metadata": {},
   "source": [
    "What we are left with is 6856 non-lease auto ABS snapshots.\n",
    "\n",
    "Next, I will remove all but the most recent snapshot for each of the funds. I found automating this process to be more trouble than it was worth due to inconsistent filenames, so I performed this process by manually reviewing each filename in the file system and deleting them. See below for the final list of filenames after this process:"
   ]
  },
  {
   "cell_type": "code",
   "execution_count": 48,
   "id": "egyptian-costume",
   "metadata": {},
   "outputs": [
    {
     "name": "stdout",
     "output_type": "stream",
     "text": [
      "2022.01.04_GM Financial Consumer Automobile Receivables Trust 2022-1 Data Tape.csv\n",
      "2022.01.06_BMW Vehicle Owner Trust 2018-A Data Tape.csv\n",
      "2022.01.06_BMW Vehicle Owner Trust 2019-A Data Tape.csv\n",
      "2022.01.06_BMW Vehicle Owner Trust 2020-A Data Tape.csv\n",
      "2022.01.12_CarMax Auto Owner Trust 2022-1 Data Tape.csv\n",
      "2022.01.12_Ford Credit Auto Owner Trust 2022-A Data Tape.csv\n",
      "2022.01.13_CarMax Auto Owner Trust 2022-1 Data Tape.csv\n",
      "2022.01.14_Carvana Auto Receivables Trust 2020-P1 Data Tape.csv\n",
      "2022.01.14_Carvana Auto Receivables Trust 2021-N1 Data Tape.csv\n",
      "2022.01.14_Carvana Auto Receivables Trust 2021-N2 Data Tape.csv\n",
      "2022.01.14_Carvana Auto Receivables Trust 2021-N3 Data Tape.csv\n",
      "2022.01.14_Carvana Auto Receivables Trust 2021-N4 Data Tape.csv\n",
      "2022.01.14_Carvana Auto Receivables Trust 2021-P1 Data Tape.csv\n",
      "2022.01.14_Carvana Auto Receivables Trust 2021-P2 Data Tape.csv\n",
      "2022.01.14_Carvana Auto Receivables Trust 2021-P3 Data Tape.csv\n",
      "2022.01.14_Carvana Auto Receivables Trust 2021-P4 Data Tape.csv\n",
      "2022.01.14_Drive Auto Receivables Trust 2017-3 Data Tape.csv\n",
      "2022.01.14_Drive Auto Receivables Trust 2018-1 Data Tape.csv\n",
      "2022.01.14_Drive Auto Receivables Trust 2018-2 Data Tape.csv\n",
      "2022.01.14_Drive Auto Receivables Trust 2018-3 Data Tape.csv\n",
      "2022.01.14_Drive Auto Receivables Trust 2018-4 Data Tape.csv\n",
      "2022.01.14_Drive Auto Receivables Trust 2018-5 Data Tape.csv\n",
      "2022.01.14_Drive Auto Receivables Trust 2019-1 Data Tape.csv\n",
      "2022.01.14_Drive Auto Receivables Trust 2019-2 Data Tape.csv\n",
      "2022.01.14_Drive Auto Receivables Trust 2019-3 Data Tape.csv\n",
      "2022.01.14_Drive Auto Receivables Trust 2019-4 Data Tape.csv\n",
      "2022.01.14_Drive Auto Receivables Trust 2020-1 Data Tape.csv\n",
      "2022.01.14_Drive Auto Receivables Trust 2020-2 Data Tape.csv\n",
      "2022.01.14_Drive Auto Receivables Trust 2021-1 Data Tape.csv\n",
      "2022.01.14_Drive Auto Receivables Trust 2021-2 Data Tape.csv\n",
      "2022.01.14_Drive Auto Receivables Trust 2021-3 Data Tape.csv\n",
      "2022.01.14_Santander Drive Auto Receivables Trust 2017-3 Data Tape.csv\n",
      "2022.01.14_Santander Drive Auto Receivables Trust 2018-1 Data Tape.csv\n",
      "2022.01.14_Santander Drive Auto Receivables Trust 2018-2 Data Tape.csv\n",
      "2022.01.14_Santander Drive Auto Receivables Trust 2018-3 Data Tape.csv\n",
      "2022.01.14_Santander Drive Auto Receivables Trust 2018-4 Data Tape.csv\n",
      "2022.01.14_Santander Drive Auto Receivables Trust 2018-5 Data Tape.csv\n",
      "2022.01.14_Santander Drive Auto Receivables Trust 2019-1 Data Tape.csv\n",
      "2022.01.14_Santander Drive Auto Receivables Trust 2019-2 Data Tape.csv\n",
      "2022.01.14_Santander Drive Auto Receivables Trust 2019-3 Data Tape.csv\n",
      "2022.01.14_Santander Drive Auto Receivables Trust 2020-1 Data Tape.csv\n",
      "2022.01.14_Santander Drive Auto Receivables Trust 2020-2 Data Tape.csv\n",
      "2022.01.14_Santander Drive Auto Receivables Trust 2020-3 Data Tape.csv\n",
      "2022.01.14_Santander Drive Auto Receivables Trust 2020-4 Data Tape.csv\n",
      "2022.01.14_Santander Drive Auto Receivables Trust 2021-1 Data Tape.csv\n",
      "2022.01.14_Santander Drive Auto Receivables Trust 2021-2 Data Tape.csv\n",
      "2022.01.14_Santander Drive Auto Receivables Trust 2021-3 Data Tape.csv\n",
      "2022.01.14_Santander Drive Auto Receivables Trust 2021-4 Data Tape.csv\n",
      "2022.01.18_California Republic Auto Receivables Trust 2018-1 Data Tape.csv\n",
      "2022.01.18_Capital One Prime Auto Receivables Trust 2019-1 Data Tape.csv\n",
      "2022.01.18_Capital One Prime Auto Receivables Trust 2019-2 Data Tape.csv\n",
      "2022.01.18_Capital One Prime Auto Receivables Trust 2020-1 Data Tape.csv\n",
      "2022.01.18_Capital One Prime Auto Receivables Trust 2021-1 Data Tape.csv\n",
      "2022.01.18_CarMax Auto Owner Trust 2018-1 Data Tape.csv\n",
      "2022.01.18_CarMax Auto Owner Trust 2018-2 Data Tape.csv\n",
      "2022.01.18_CarMax Auto Owner Trust 2018-3 Data Tape.csv\n",
      "2022.01.18_CarMax Auto Owner Trust 2018-4 Data Tape.csv\n",
      "2022.01.18_CarMax Auto Owner Trust 2019-1 Data Tape.csv\n",
      "2022.01.18_CarMax Auto Owner Trust 2019-2 Data Tape.csv\n",
      "2022.01.18_CarMax Auto Owner Trust 2019-3 Data Tape.csv\n",
      "2022.01.18_CarMax Auto Owner Trust 2019-4 Data Tape.csv\n",
      "2022.01.18_CarMax Auto Owner Trust 2020-1 Data Tape.csv\n",
      "2022.01.18_CarMax Auto Owner Trust 2020-2 Data Tape.csv\n",
      "2022.01.18_CarMax Auto Owner Trust 2020-3 Data Tape.csv\n",
      "2022.01.18_CarMax Auto Owner Trust 2020-4 Data Tape.csv\n",
      "2022.01.18_CarMax Auto Owner Trust 2021-1 Data Tape.csv\n",
      "2022.01.18_CarMax Auto Owner Trust 2021-2 Data Tape.csv\n",
      "2022.01.18_CarMax Auto Owner Trust 2021-3 Data Tape.csv\n",
      "2022.01.18_CarMax Auto Owner Trust 2021-4 Data Tape.csv\n",
      "2022.01.18_Carvana Auto Receivables Trust 2021-N4 Data Tape.csv\n",
      "2022.01.18_Nissan Auto Receivables 2017-C Owner Trust Data Tape.csv\n",
      "2022.01.18_Nissan Auto Receivables 2018-A Owner Trust Data Tape.csv\n",
      "2022.01.18_Nissan Auto Receivables 2018-B Owner Trust Data Tape.csv\n",
      "2022.01.18_Nissan Auto Receivables 2018-C Owner Trust Data Tape.csv\n",
      "2022.01.18_Nissan Auto Receivables 2019-A Owner Trust Data Tape.csv\n",
      "2022.01.18_Nissan Auto Receivables 2019-B Owner Trust Data Tape.csv\n",
      "2022.01.18_Nissan Auto Receivables 2019-C Owner Trust Data Tape.csv\n",
      "2022.01.18_Nissan Auto Receivables 2020-A Owner Trust Data Tape.csv\n",
      "2022.01.18_Nissan Auto Receivables 2020-B Owner Trust Data Tape.csv\n",
      "2022.01.18_Nissan Auto Receivables 2021-A Owner Trust Data Tape.csv\n",
      "2022.01.18_Toyota Auto Receivables 2022-A Owner Trust Data Tape.csv\n",
      "2022.01.19_Ford Credit Auto Owner Trust 2018-A Data Tape.csv\n",
      "2022.01.19_Ford Credit Auto Owner Trust 2018-B Data Tape.csv\n",
      "2022.01.19_Ford Credit Auto Owner Trust 2019-A Data Tape.csv\n",
      "2022.01.19_Ford Credit Auto Owner Trust 2019-B Data Tape.csv\n",
      "2022.01.19_Ford Credit Auto Owner Trust 2019-C Data Tape.csv\n",
      "2022.01.19_Ford Credit Auto Owner Trust 2020-A Data Tape.csv\n",
      "2022.01.19_Ford Credit Auto Owner Trust 2020-B Data Tape.csv\n",
      "2022.01.19_Ford Credit Auto Owner Trust 2020-C Data Tape.csv\n",
      "2022.01.19_Ford Credit Auto Owner Trust 2021-A Data Tape.csv\n",
      "2022.01.19_USAA Auto Owner Trust 2019-1 Data Tape.csv\n",
      "2022.01.20_Honda Auto Receivables 2018-3 Owner Trust Data Tape.csv\n",
      "2022.01.20_Honda Auto Receivables 2018-4 Owner Trust Data Tape.csv\n",
      "2022.01.20_Honda Auto Receivables 2019-1 Owner Trust Data Tape.csv\n",
      "2022.01.20_Honda Auto Receivables 2019-2 Owner Trust Data Tape.csv\n",
      "2022.01.20_Honda Auto Receivables 2019-3 Owner Trust Data Tape.csv\n",
      "2022.01.20_Honda Auto Receivables 2019-4 Owner Trust Data Tape.csv\n",
      "2022.01.20_Honda Auto Receivables 2020-1 Owner Trust Data Tape.csv\n",
      "2022.01.20_Honda Auto Receivables 2020-2 Owner Trust Data Tape.csv\n",
      "2022.01.20_Honda Auto Receivables 2020-3 Owner Trust Data Tape.csv\n",
      "2022.01.20_Honda Auto Receivables 2021-1 Owner Trust Data Tape.csv\n",
      "2022.01.20_Honda Auto Receivables 2021-2 Owner Trust Data Tape.csv\n",
      "2022.01.20_Honda Auto Receivables 2021-3 Owner Trust Data Tape.csv\n",
      "2022.01.20_Honda Auto Receivables 2021-4 Owner Trust Data Tape.csv\n",
      "2022.01.20_Volkswagen Auto Loan Enhanced Trust 2018-2 Data Tape.csv\n",
      "2022.01.20_Volkswagen Auto Loan Enhanced Trust 2020-1 Data Tape.csv\n",
      "2022.01.20_Volkswagen Auto Loan Enhanced Trust 2021-1 Data Tape.csv\n",
      "2022.01.21_AmeriCredit Automobile Receivables Trust 2017-3 Data Tape.csv\n",
      "2022.01.21_AmeriCredit Automobile Receivables Trust 2017-4 Data Tape.csv\n",
      "2022.01.21_AmeriCredit Automobile Receivables Trust 2018-1 Data Tape.csv\n",
      "2022.01.21_AmeriCredit Automobile Receivables Trust 2018-2 Data Tape.csv\n",
      "2022.01.21_AmeriCredit Automobile Receivables Trust 2018-3 Data Tape.csv\n",
      "2022.01.21_AmeriCredit Automobile Receivables Trust 2019-1 Data Tape.csv\n",
      "2022.01.21_AmeriCredit Automobile Receivables Trust 2019-2 Data Tape.csv\n",
      "2022.01.21_AmeriCredit Automobile Receivables Trust 2019-3 Data Tape.csv\n",
      "2022.01.21_AmeriCredit Automobile Receivables Trust 2020-1 Data Tape.csv\n",
      "2022.01.21_AmeriCredit Automobile Receivables Trust 2020-2 Data Tape.csv\n",
      "2022.01.21_AmeriCredit Automobile Receivables Trust 2020-3 Data Tape.csv\n",
      "2022.01.21_AmeriCredit Automobile Receivables Trust 2021-1 Data Tape.csv\n",
      "2022.01.21_AmeriCredit Automobile Receivables Trust 2021-2 Data Tape.csv\n",
      "2022.01.21_AmeriCredit Automobile Receivables Trust 2021-3 Data Tape.csv\n",
      "2022.01.21_GM Financial Consumer Automobile Receivables Trust 2018-2 Data Tape.csv\n",
      "2022.01.21_GM Financial Consumer Automobile Receivables Trust 2018-3 Data Tape.csv\n",
      "2022.01.21_GM Financial Consumer Automobile Receivables Trust 2018-4 Data Tape.csv\n",
      "2022.01.21_GM Financial Consumer Automobile Receivables Trust 2019-1 Data Tape.csv\n",
      "2022.01.21_GM Financial Consumer Automobile Receivables Trust 2019-2 Data Tape.csv\n",
      "2022.01.21_GM Financial Consumer Automobile Receivables Trust 2019-3 Data Tape.csv\n",
      "2022.01.21_GM Financial Consumer Automobile Receivables Trust 2019-4 Data Tape.csv\n",
      "2022.01.21_GM Financial Consumer Automobile Receivables Trust 2020-1 Data Tape.csv\n",
      "2022.01.21_GM Financial Consumer Automobile Receivables Trust 2020-2 Data Tape.csv\n",
      "2022.01.21_GM Financial Consumer Automobile Receivables Trust 2020-3 Data Tape.csv\n",
      "2022.01.21_GM Financial Consumer Automobile Receivables Trust 2020-4 Data Tape.csv\n",
      "2022.01.21_GM Financial Consumer Automobile Receivables Trust 2021-1 Data Tape.csv\n",
      "2022.01.21_GM Financial Consumer Automobile Receivables Trust 2021-2 Data Tape.csv\n",
      "2022.01.21_GM Financial Consumer Automobile Receivables Trust 2021-3 Data Tape.csv\n",
      "2022.01.21_GM Financial Consumer Automobile Receivables Trust 2021-4 Data Tape.csv\n",
      "2022.01.21_Mercedes-Benz Auto Receivables Trust 2018-1 Data Tape.csv\n",
      "2022.01.21_Mercedes-Benz Auto Receivables Trust 2019-1 Data Tape.csv\n",
      "2022.01.21_Mercedes-Benz Auto Receivables Trust 2020-1 Data Tape.csv\n",
      "2022.01.21_Mercedes-Benz Auto Receivables Trust 2021-1 Data Tape.csv\n",
      "2022.01.25_Hyundai Auto Receivables Trust 2018-A Data Tape.csv\n",
      "2022.01.25_Hyundai Auto Receivables Trust 2018-B Data Tape.csv\n",
      "2022.01.25_Hyundai Auto Receivables Trust 2019-A Data Tape.csv\n",
      "2022.01.25_Hyundai Auto Receivables Trust 2019-B Data Tape.csv\n",
      "2022.01.25_Hyundai Auto Receivables Trust 2020-A Data Tape.csv\n",
      "2022.01.25_Hyundai Auto Receivables Trust 2020-B Data Tape.csv\n",
      "2022.01.25_Hyundai Auto Receivables Trust 2020-C Data Tape.csv\n",
      "2022.01.25_Hyundai Auto Receivables Trust 2021-A Data Tape.csv\n",
      "2022.01.25_Hyundai Auto Receivables Trust 2021-B Data Tape.csv\n",
      "2022.01.25_Hyundai Auto Receivables Trust 2021-C Data Tape.csv\n",
      "2022.01.26_Harley-Davidson Motorcycle Trust 2019-A Data Tape.csv\n",
      "2022.01.26_Harley-Davidson Motorcycle Trust 2020-A Data Tape.csv\n",
      "2022.01.26_Harley-Davidson Motorcycle Trust 2021-A Data Tape.csv\n",
      "2022.01.26_Harley-Davidson Motorcycle Trust 2021-B Data Tape.csv\n",
      "2022.01.27_Ally Auto Receivables Trust 2018-2 Data Tape.csv\n",
      "2022.01.27_Ally Auto Receivables Trust 2018-3 Data Tape.csv\n",
      "2022.01.27_Ally Auto Receivables Trust 2019-1 Data Tape.csv\n",
      "2022.01.27_Ally Auto Receivables Trust 2019-2 Data Tape.csv\n",
      "2022.01.27_Ally Auto Receivables Trust 2019-3 Data Tape.csv\n",
      "2022.01.27_Ally Auto Receivables Trust 2019-4 Data Tape.csv\n",
      "2022.01.27_Exeter Automobile Receivables Trust 2020-3 Data Tape.csv\n",
      "2022.01.27_Exeter Automobile Receivables Trust 2021-1 Data Tape.csv\n",
      "2022.01.27_Exeter Automobile Receivables Trust 2021-2 Data Tape.csv\n",
      "2022.01.27_Exeter Automobile Receivables Trust 2021-3 Data Tape.csv\n",
      "2022.01.27_Exeter Automobile Receivables Trust 2021-4 Data Tape.csv\n",
      "2022.01.27_Fifth Third Auto Trust 2019-1 Data Tape.csv\n",
      "2022.01.27_Toyota Auto Receivables 2018-A Owner Trust Data Tape.csv\n",
      "2022.01.27_Toyota Auto Receivables 2018-B Owner Trust Data Tape.csv\n",
      "2022.01.27_Toyota Auto Receivables 2018-C Owner Trust Data Tape.csv\n",
      "2022.01.27_Toyota Auto Receivables 2018-D Owner Trust Data Tape.csv\n",
      "2022.01.27_Toyota Auto Receivables 2019-A Owner Trust Data Tape.csv\n",
      "2022.01.27_Toyota Auto Receivables 2019-B Owner Trust Data Tape.csv\n",
      "2022.01.27_Toyota Auto Receivables 2019-C Owner Trust Data Tape.csv\n",
      "2022.01.27_Toyota Auto Receivables 2019-D Owner Trust Data Tape.csv\n",
      "2022.01.27_Toyota Auto Receivables 2020-A Owner Trust Data Tape.csv\n",
      "2022.01.27_Toyota Auto Receivables 2020-B Owner Trust Data Tape.csv\n",
      "2022.01.27_Toyota Auto Receivables 2020-C Owner Trust Data Tape.csv\n",
      "2022.01.27_Toyota Auto Receivables 2020-D Owner Trust Data Tape.csv\n",
      "2022.01.27_Toyota Auto Receivables 2021-A Owner Trust Data Tape.csv\n",
      "2022.01.27_Toyota Auto Receivables 2021-B Owner Trust Data Tape.csv\n",
      "2022.01.27_Toyota Auto Receivables 2021-C Owner Trust Data Tape.csv\n",
      "2022.01.27_Toyota Auto Receivables 2021-D Owner Trust Data Tape.csv\n",
      "2022.01.28_World Omni Auto Receivables Trust 2018-A Data Tape.csv\n",
      "2022.01.28_World Omni Auto Receivables Trust 2018-B Data Tape.csv\n",
      "2022.01.28_WORLD OMNI AUTO RECEIVABLES TRUST 2018-C Data Tape.csv\n",
      "2022.01.28_World Omni Auto Receivables Trust 2018-D Data Tape.csv\n",
      "2022.01.28_World Omni Auto Receivables Trust 2019-A Data Tape.csv\n",
      "2022.01.28_World Omni Auto Receivables Trust 2019-B Data Tape.csv\n",
      "2022.01.28_World Omni Auto Receivables Trust 2019-C Data Tape.csv\n",
      "2022.01.28_World Omni Auto Receivables Trust 2020-A Data Tape.csv\n",
      "2022.01.28_World Omni Auto Receivables Trust 2020-B Data Tape.csv\n",
      "2022.01.28_World Omni Auto Receivables Trust 2020-C Data Tape.csv\n",
      "2022.01.28_World Omni Auto Receivables Trust 2021-A Data Tape.csv\n",
      "2022.01.28_World Omni Auto Receivables Trust 2021-B Data Tape.csv\n",
      "2022.01.28_World Omni Auto Receivables Trust 2021-C Data Tape.csv\n",
      "2022.01.28_World Omni Auto Receivables Trust 2021-D Data Tape.csv\n",
      "2022.01.28_World Omni Select Auto Trust 2019-A Data Tape.csv\n",
      "2022.01.28_World Omni Select Auto Trust 2020-A Data Tape.csv\n",
      "2022.01.28_World Omni Select Auto Trust 2021-A Data Tape.csv\n",
      "2022.02.02_World Omni Auto Receivables Trust 2022-A Data Tape.csv\n"
     ]
    }
   ],
   "source": [
    "for fname in os.listdir(os.getcwd()):\n",
    "    print(fname)"
   ]
  },
  {
   "cell_type": "markdown",
   "id": "legendary-personality",
   "metadata": {},
   "source": [
    "The following are the total unique funds and years using only the snapshots between 1/1/2022 and 2/2/2022.\n",
    "I will be removing the motorcycle fund to limit this analysis to only cars:\n",
    "\n",
    "World Omni Auto Receivables Trust 2018-21  \n",
    "World Omni Select Auto Trust 2019-21  \n",
    "Toyota Auto Receivables 2018-22  \n",
    "Fifth Third Auto Trust 2019  \n",
    "Exeter Automobile Receivables Trust 2020-21  \n",
    "Ally Auto Receivables Trust 2018-19  \n",
    "<s>Harley-Davidson Motorcycle Trust 2019-21</s>  \n",
    "Hyundai Auto Receivables Trust 2018-21  \n",
    "Mercedez Benz Auto Receivables Trust 2018-21  \n",
    "GM Financial Consumer Automobile Receivables Trust 2018-22  \n",
    "AmeriCredit Automobile Receivables Trust 2017-21  \n",
    "Volkswagen Auto Loan Enhanced Trust 2018,2020,2021  \n",
    "Honda Auto Receivables 2018-21  \n",
    "USAA Auto Owner Trust 2019  \n",
    "Ford Credit Auto Owner Trust 2018-22  \n",
    "Nissan Auto Receivables 2017-21  \n",
    "Carvana Auto Receivables 2020-21  \n",
    "CarMax Auto Owner Trust 2021-22  \n",
    "Capital One Prime Auto Receivables Trust 2018-21  \n",
    "Santander Drive Auto Receivables Trust 2017-21  \n",
    "Drive Auto Receivables Trust 2017-21  \n",
    "BMW Vehicle Owner Trust 2018-20  \n",
    "\n",
    "This leaves us with 21 funds, 4 more than the consumer reports article identified from October 2021.  \n",
    "https://www.consumerreports.org/car-financing/many-americans-overpay-for-car-loans-a8076436935/"
   ]
  },
  {
   "cell_type": "markdown",
   "id": "advised-messenger",
   "metadata": {},
   "source": [
    "Next we will aggregate these files into a single csv and filter to only the columns needed in our analysis"
   ]
  },
  {
   "cell_type": "code",
   "execution_count": null,
   "id": "cognitive-meditation",
   "metadata": {},
   "outputs": [],
   "source": []
  }
 ],
 "metadata": {
  "kernelspec": {
   "display_name": "Python 3",
   "language": "python",
   "name": "python3"
  },
  "language_info": {
   "codemirror_mode": {
    "name": "ipython",
    "version": 3
   },
   "file_extension": ".py",
   "mimetype": "text/x-python",
   "name": "python",
   "nbconvert_exporter": "python",
   "pygments_lexer": "ipython3",
   "version": "3.9.2"
  }
 },
 "nbformat": 4,
 "nbformat_minor": 5
}
