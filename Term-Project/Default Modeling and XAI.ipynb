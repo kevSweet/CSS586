{
 "cells": [
  {
   "cell_type": "markdown",
   "id": "illegal-maldives",
   "metadata": {},
   "source": [
    "# Data Loading and Normalization"
   ]
  },
  {
   "cell_type": "code",
   "execution_count": 82,
   "id": "anticipated-natural",
   "metadata": {},
   "outputs": [],
   "source": [
    "# Helper functions for generating category-name mapping for anchors\n",
    "\n",
    "def map_array_values(array, value_map):\n",
    "    # value map must be { src : target }\n",
    "    ret = array.copy()\n",
    "    for src, target in value_map.items():\n",
    "        ret[ret == src] = target\n",
    "    return ret\n",
    "\n",
    "def replace_binary_values(array, values):\n",
    "    return map_array_values(array, {'0': values[0], '1': values[1]})"
   ]
  },
  {
   "cell_type": "code",
   "execution_count": 83,
   "id": "thick-deviation",
   "metadata": {},
   "outputs": [],
   "source": [
    "import numpy as np\n",
    "import pandas as pd\n",
    "from anchor import utils\n",
    "from anchor import anchor_tabular\n",
    "\n",
    "transforms = {\n",
    "            5: lambda x: replace_binary_values(x, ['No', 'Yes']),\n",
    "            6: lambda x: replace_binary_values(x, ['New Vehicle', 'Used Vehicle']),\n",
    "            7: lambda x: replace_binary_values(x, ['No', 'Yes']),\n",
    "            10: lambda x: replace_binary_values(x, ['No', 'Yes']),\n",
    "            11: lambda x: replace_binary_values(x, ['No', 'Yes']),\n",
    "            12: lambda x: replace_binary_values(x, ['No', 'Yes']),\n",
    "            13: lambda x: replace_binary_values(x, ['No', 'Yes']),\n",
    "            14: lambda x: replace_binary_values(x, ['No', 'Yes']),\n",
    "            15: lambda x: replace_binary_values(x, ['No', 'Yes']),\n",
    "            16: lambda x: replace_binary_values(x, ['No', 'Yes']),\n",
    "            17: lambda x: replace_binary_values(x, ['No', 'Yes']),\n",
    "            18: lambda x: replace_binary_values(x, ['No', 'Yes']),\n",
    "            19: lambda x: replace_binary_values(x, ['No', 'Yes']),\n",
    "            20: lambda x: replace_binary_values(x, ['No', 'Yes']),\n",
    "            21: lambda x: replace_binary_values(x, ['No', 'Yes']),\n",
    "            22: lambda x: replace_binary_values(x, ['Not Defaulted', 'Defaulted']),\n",
    "        }"
   ]
  },
  {
   "cell_type": "code",
   "execution_count": 84,
   "id": "prescribed-surrey",
   "metadata": {},
   "outputs": [],
   "source": [
    "# Load dataset using XAI data loader. This will 50/50 class balance the dataset by downsampling,\n",
    "#create mappings for column categories to explainable names and 80/20 split into train/test\n",
    "dataset = utils.load_csv_dataset('preprocessed.csv', 22, delimiter=',',\n",
    "                 categorical_features=[5,6,7,10,11,12,13,14,15,16,17,18,19,20,21],\n",
    "                 feature_transformations=transforms, discretize=False, balance=True, fill_na=0)"
   ]
  },
  {
   "cell_type": "code",
   "execution_count": 85,
   "id": "considered-creator",
   "metadata": {},
   "outputs": [
    {
     "data": {
      "text/plain": [
       "(410900,)"
      ]
     },
     "execution_count": 85,
     "metadata": {},
     "output_type": "execute_result"
    }
   ],
   "source": [
    "dataset.labels_train.shape"
   ]
  },
  {
   "cell_type": "code",
   "execution_count": 86,
   "id": "personal-coast",
   "metadata": {},
   "outputs": [],
   "source": [
    "# Add axis for skorch compatability\n",
    "dataset.labels_train = dataset.labels_train[:, np.newaxis]\n",
    "dataset.labels_test = dataset.labels_test[:, np.newaxis]\n",
    "\n",
    "# Cast to floats for skorch compatability\n",
    "dataset.train = dataset.train.astype(np.float32)\n",
    "dataset.labels_train = dataset.labels_train.astype(np.float32)\n",
    "dataset.test = dataset.test.astype(np.float32)\n",
    "dataset.labels_test = dataset.labels_test.astype(np.float32)"
   ]
  },
  {
   "cell_type": "code",
   "execution_count": 87,
   "id": "prescription-final",
   "metadata": {},
   "outputs": [
    {
     "data": {
      "text/plain": [
       "(410900, 1)"
      ]
     },
     "execution_count": 87,
     "metadata": {},
     "output_type": "execute_result"
    }
   ],
   "source": [
    "dataset.labels_train.shape"
   ]
  },
  {
   "cell_type": "code",
   "execution_count": 88,
   "id": "sufficient-university",
   "metadata": {},
   "outputs": [],
   "source": [
    "# Normalize training and test data using min-max normalization \n",
    "from sklearn.preprocessing import MinMaxScaler\n",
    "scaler = MinMaxScaler() \n",
    "dataset.train = scaler.fit_transform(dataset.train)\n",
    "dataset.test = scaler.transform(dataset.test)"
   ]
  },
  {
   "cell_type": "markdown",
   "id": "informed-piano",
   "metadata": {},
   "source": [
    "# Neural Network"
   ]
  },
  {
   "cell_type": "markdown",
   "id": "suspended-information",
   "metadata": {},
   "source": [
    "Now that the data is prepared, we will use grid search to find good parameters for a neural network."
   ]
  },
  {
   "cell_type": "code",
   "execution_count": 89,
   "id": "toxic-rings",
   "metadata": {},
   "outputs": [],
   "source": [
    "import torch\n",
    "# Making the code device-agnostic\n",
    "device = 'cuda' if torch.cuda.is_available() else 'cpu'"
   ]
  },
  {
   "cell_type": "code",
   "execution_count": 90,
   "id": "modern-transfer",
   "metadata": {},
   "outputs": [],
   "source": [
    "# Neural network module that can accept params we will use in our grid search\n",
    "import torch.nn as nn\n",
    "import torch.nn.functional as F\n",
    "\n",
    "# modules: list of (nn activation funcs or layers) see https://pytorch.org/docs/stable/nn.html\n",
    "# modules must retain proper input and output shape sequentially\n",
    "class NetModule(nn.Module):\n",
    "    def __init__(self, net_modules):\n",
    "        super(NetModule, self).__init__()\n",
    "        self.net_modules = nn.Sequential(*net_modules)\n",
    "        \n",
    "        \n",
    "    def forward(self, x):\n",
    "        x = self.net_modules(x)\n",
    "        return x"
   ]
  },
  {
   "cell_type": "code",
   "execution_count": 91,
   "id": "specific-japanese",
   "metadata": {},
   "outputs": [],
   "source": [
    "# Set internal dimensions\n",
    "input_dim = dataset.train.shape[1]\n",
    "output_dim = 1 # binary classification, default or no default"
   ]
  },
  {
   "cell_type": "code",
   "execution_count": 92,
   "id": "failing-affect",
   "metadata": {},
   "outputs": [
    {
     "name": "stdout",
     "output_type": "stream",
     "text": [
      "3\n"
     ]
    }
   ],
   "source": [
    "included_modules = []\n",
    "\n",
    "# Search Sigmoid activation with different neurons in hidden layer\n",
    "included_modules.append([nn.Linear(input_dim, 50),\n",
    "                          nn.Sigmoid(),\n",
    "                          nn.Linear(50, output_dim)\n",
    "                          ])\n",
    "\n",
    "# Search Sigmoid activation with different neurons in hidden layer\n",
    "included_modules.append([nn.Linear(input_dim, 50),\n",
    "                          nn.Sigmoid(),\n",
    "                          nn.Linear(50, 25),\n",
    "                          nn.ReLU(),\n",
    "                          nn.Linear(25, output_dim)\n",
    "                          ])\n",
    "\n",
    "\n",
    "# Search Sigmoid activation with different neurons in hidden layer\n",
    "included_modules.append([nn.Linear(input_dim, 75),\n",
    "                          nn.Sigmoid(),\n",
    "                          nn.Linear(75, 50),\n",
    "                          nn.ReLU(),\n",
    "                          nn.Linear(50, output_dim)\n",
    "                          ])\n",
    "\n",
    "# Number of architectures\n",
    "print(len(included_modules))"
   ]
  },
  {
   "cell_type": "code",
   "execution_count": 127,
   "id": "improved-newman",
   "metadata": {},
   "outputs": [],
   "source": [
    "from sklearn.metrics import precision_score\n",
    "from sklearn.metrics import accuracy_score\n",
    "from sklearn.metrics import make_scorer\n",
    "from sklearn.metrics import recall_score\n",
    "\n",
    "from sklearn.model_selection import GridSearchCV\n",
    "from skorch import NeuralNetClassifier\n",
    "from skorch.callbacks import EarlyStopping\n",
    "import time\n",
    "import pickle\n",
    "\n",
    "# Create sklearn scorer for use in architecture search\n",
    "precision_scorer = make_scorer(precision_score)\n",
    "early_stop = EarlyStopping(patience=7)"
   ]
  },
  {
   "cell_type": "code",
   "execution_count": 94,
   "id": "informative-sacramento",
   "metadata": {},
   "outputs": [],
   "source": [
    "#initialize skorch NN classifier with default params\n",
    "net = NeuralNetClassifier(\n",
    "    NetModule,\n",
    "    criterion= nn.BCEWithLogitsLoss(),\n",
    "    optimizer=torch.optim.SGD,\n",
    "    optimizer__momentum=0.95,\n",
    "    iterator_train__shuffle=True,\n",
    "    batch_size = len(dataset.train), \n",
    "    callbacks=[early_stop],\n",
    "    device=device\n",
    ")"
   ]
  },
  {
   "cell_type": "code",
   "execution_count": 16,
   "id": "peripheral-serve",
   "metadata": {},
   "outputs": [
    {
     "name": "stdout",
     "output_type": "stream",
     "text": [
      "Fitting 2 folds for each of 3 candidates, totalling 6 fits\n",
      "[CV 1/2; 1/3] START lr=0.2, max_epochs=100, module__net_modules=[Linear(in_features=22, out_features=50, bias=True), Sigmoid(), Linear(in_features=50, out_features=1, bias=True)]\n",
      "  epoch    train_loss    valid_acc    valid_loss     dur\n",
      "-------  ------------  -----------  ------------  ------\n",
      "      1        \u001b[36m0.7130\u001b[0m       \u001b[32m0.4996\u001b[0m        \u001b[35m0.6918\u001b[0m  4.2420\n",
      "      2        \u001b[36m0.6918\u001b[0m       \u001b[32m0.5004\u001b[0m        0.6970  2.4060\n",
      "      3        0.6971       0.5004        0.7115  2.4900\n",
      "      4        0.7116       0.5004        0.6986  2.4820\n",
      "      5        0.6987       \u001b[32m0.6244\u001b[0m        \u001b[35m0.6863\u001b[0m  2.4751\n",
      "      6        \u001b[36m0.6864\u001b[0m       0.4996        0.6982  2.4790\n",
      "      7        0.6983       0.4996        0.7005  2.3680\n",
      "      8        0.7007       0.4997        \u001b[35m0.6840\u001b[0m  2.4301\n",
      "      9        \u001b[36m0.6842\u001b[0m       0.5004        \u001b[35m0.6822\u001b[0m  2.6922\n",
      "     10        \u001b[36m0.6824\u001b[0m       0.5004        0.6918  2.5255\n",
      "     11        0.6920       0.5004        0.6838  2.4760\n",
      "     12        0.6840       \u001b[32m0.7291\u001b[0m        \u001b[35m0.6709\u001b[0m  2.4610\n",
      "     13        \u001b[36m0.6713\u001b[0m       0.5037        0.6752  2.3950\n",
      "     14        0.6755       0.4998        0.6772  2.4630\n",
      "     15        0.6777       0.6286        \u001b[35m0.6641\u001b[0m  2.4802\n",
      "     16        \u001b[36m0.6646\u001b[0m       0.6591        \u001b[35m0.6572\u001b[0m  2.4676\n",
      "     17        \u001b[36m0.6577\u001b[0m       0.5006        0.6612  2.3790\n",
      "     18        0.6617       0.5092        \u001b[35m0.6548\u001b[0m  2.3596\n",
      "     19        \u001b[36m0.6554\u001b[0m       \u001b[32m0.7325\u001b[0m        \u001b[35m0.6414\u001b[0m  2.3950\n",
      "     20        \u001b[36m0.6421\u001b[0m       0.7091        \u001b[35m0.6387\u001b[0m  2.4350\n",
      "     21        \u001b[36m0.6396\u001b[0m       0.6727        \u001b[35m0.6378\u001b[0m  2.4380\n",
      "     22        \u001b[36m0.6388\u001b[0m       0.7217        \u001b[35m0.6256\u001b[0m  2.4318\n",
      "     23        \u001b[36m0.6266\u001b[0m       \u001b[32m0.7479\u001b[0m        \u001b[35m0.6143\u001b[0m  2.3870\n",
      "     24        \u001b[36m0.6155\u001b[0m       0.6747        \u001b[35m0.6119\u001b[0m  2.4620\n",
      "     25        \u001b[36m0.6131\u001b[0m       0.6784        \u001b[35m0.6045\u001b[0m  2.4480\n",
      "     26        \u001b[36m0.6059\u001b[0m       0.7455        \u001b[35m0.5902\u001b[0m  2.4490\n",
      "     27        \u001b[36m0.5917\u001b[0m       0.7444        \u001b[35m0.5819\u001b[0m  2.4060\n",
      "     28        \u001b[36m0.5837\u001b[0m       0.7378        \u001b[35m0.5775\u001b[0m  2.3798\n",
      "     29        \u001b[36m0.5795\u001b[0m       0.7456        \u001b[35m0.5662\u001b[0m  2.3570\n",
      "     30        \u001b[36m0.5684\u001b[0m       \u001b[32m0.7514\u001b[0m        \u001b[35m0.5533\u001b[0m  2.4280\n",
      "     31        \u001b[36m0.5556\u001b[0m       0.7480        \u001b[35m0.5469\u001b[0m  2.4630\n",
      "     32        \u001b[36m0.5493\u001b[0m       0.7453        \u001b[35m0.5407\u001b[0m  2.4495\n",
      "     33        \u001b[36m0.5432\u001b[0m       \u001b[32m0.7536\u001b[0m        \u001b[35m0.5292\u001b[0m  2.4240\n",
      "     34        \u001b[36m0.5320\u001b[0m       \u001b[32m0.7557\u001b[0m        \u001b[35m0.5199\u001b[0m  2.4292\n",
      "     35        \u001b[36m0.5230\u001b[0m       0.7540        \u001b[35m0.5156\u001b[0m  2.4600\n",
      "     36        \u001b[36m0.5190\u001b[0m       0.7556        \u001b[35m0.5094\u001b[0m  2.4180\n",
      "     37        \u001b[36m0.5130\u001b[0m       \u001b[32m0.7602\u001b[0m        \u001b[35m0.5002\u001b[0m  2.5420\n",
      "     38        \u001b[36m0.5039\u001b[0m       \u001b[32m0.7632\u001b[0m        \u001b[35m0.4938\u001b[0m  2.3595\n",
      "     39        \u001b[36m0.4975\u001b[0m       \u001b[32m0.7633\u001b[0m        \u001b[35m0.4907\u001b[0m  2.3740\n",
      "     40        \u001b[36m0.4944\u001b[0m       \u001b[32m0.7661\u001b[0m        \u001b[35m0.4854\u001b[0m  2.4500\n",
      "     41        \u001b[36m0.4893\u001b[0m       \u001b[32m0.7711\u001b[0m        \u001b[35m0.4781\u001b[0m  2.4679\n",
      "     42        \u001b[36m0.4822\u001b[0m       \u001b[32m0.7757\u001b[0m        \u001b[35m0.4733\u001b[0m  2.4590\n",
      "     43        \u001b[36m0.4777\u001b[0m       \u001b[32m0.7793\u001b[0m        \u001b[35m0.4704\u001b[0m  2.3930\n",
      "     44        \u001b[36m0.4750\u001b[0m       \u001b[32m0.7843\u001b[0m        \u001b[35m0.4657\u001b[0m  2.4870\n",
      "     45        \u001b[36m0.4703\u001b[0m       \u001b[32m0.7893\u001b[0m        \u001b[35m0.4594\u001b[0m  2.4041\n",
      "     46        \u001b[36m0.4639\u001b[0m       \u001b[32m0.7916\u001b[0m        \u001b[35m0.4551\u001b[0m  2.4917\n",
      "     47        \u001b[36m0.4594\u001b[0m       \u001b[32m0.7927\u001b[0m        \u001b[35m0.4522\u001b[0m  2.3990\n",
      "     48        \u001b[36m0.4564\u001b[0m       \u001b[32m0.7979\u001b[0m        \u001b[35m0.4475\u001b[0m  2.3571\n",
      "     49        \u001b[36m0.4517\u001b[0m       \u001b[32m0.8065\u001b[0m        \u001b[35m0.4415\u001b[0m  2.3940\n",
      "     50        \u001b[36m0.4458\u001b[0m       \u001b[32m0.8126\u001b[0m        \u001b[35m0.4370\u001b[0m  2.5100\n",
      "     51        \u001b[36m0.4415\u001b[0m       \u001b[32m0.8144\u001b[0m        \u001b[35m0.4338\u001b[0m  2.4940\n",
      "     52        \u001b[36m0.4384\u001b[0m       \u001b[32m0.8179\u001b[0m        \u001b[35m0.4296\u001b[0m  2.5650\n",
      "     53        \u001b[36m0.4341\u001b[0m       \u001b[32m0.8223\u001b[0m        \u001b[35m0.4247\u001b[0m  2.4090\n",
      "     54        \u001b[36m0.4290\u001b[0m       \u001b[32m0.8254\u001b[0m        \u001b[35m0.4212\u001b[0m  2.5290\n",
      "     55        \u001b[36m0.4252\u001b[0m       \u001b[32m0.8274\u001b[0m        \u001b[35m0.4189\u001b[0m  2.5130\n",
      "     56        \u001b[36m0.4227\u001b[0m       \u001b[32m0.8303\u001b[0m        \u001b[35m0.4158\u001b[0m  2.4660\n",
      "     57        \u001b[36m0.4195\u001b[0m       \u001b[32m0.8334\u001b[0m        \u001b[35m0.4119\u001b[0m  2.3906\n",
      "     58        \u001b[36m0.4157\u001b[0m       \u001b[32m0.8349\u001b[0m        \u001b[35m0.4092\u001b[0m  2.4147\n",
      "     59        \u001b[36m0.4131\u001b[0m       \u001b[32m0.8356\u001b[0m        \u001b[35m0.4077\u001b[0m  2.3840\n",
      "     60        \u001b[36m0.4116\u001b[0m       \u001b[32m0.8363\u001b[0m        \u001b[35m0.4058\u001b[0m  2.5010\n",
      "     61        \u001b[36m0.4098\u001b[0m       \u001b[32m0.8372\u001b[0m        \u001b[35m0.4037\u001b[0m  2.4419\n",
      "     62        \u001b[36m0.4075\u001b[0m       \u001b[32m0.8373\u001b[0m        \u001b[35m0.4024\u001b[0m  2.4950\n",
      "     63        \u001b[36m0.4061\u001b[0m       0.8362        \u001b[35m0.4022\u001b[0m  2.3790\n",
      "     64        \u001b[36m0.4056\u001b[0m       0.8360        \u001b[35m0.4014\u001b[0m  2.4590\n",
      "     65        \u001b[36m0.4049\u001b[0m       0.8365        \u001b[35m0.4000\u001b[0m  2.4490\n",
      "     66        \u001b[36m0.4036\u001b[0m       0.8372        \u001b[35m0.3991\u001b[0m  2.5230\n",
      "     67        \u001b[36m0.4029\u001b[0m       0.8369        \u001b[35m0.3990\u001b[0m  2.3990\n",
      "     68        0.4029       0.8370        \u001b[35m0.3987\u001b[0m  2.3780\n",
      "     69        \u001b[36m0.4027\u001b[0m       0.8364        \u001b[35m0.3979\u001b[0m  2.4166\n",
      "     70        \u001b[36m0.4020\u001b[0m       0.8353        \u001b[35m0.3975\u001b[0m  2.4480\n",
      "     71        \u001b[36m0.4015\u001b[0m       0.8341        0.3976  2.5123\n",
      "     72        0.4017       0.8333        0.3975  2.4840\n",
      "     73        0.4016       0.8336        \u001b[35m0.3968\u001b[0m  2.4470\n",
      "     74        \u001b[36m0.4011\u001b[0m       0.8350        \u001b[35m0.3961\u001b[0m  2.5170\n",
      "     75        \u001b[36m0.4006\u001b[0m       0.8352        \u001b[35m0.3958\u001b[0m  2.4730\n",
      "     76        0.4006       0.8355        \u001b[35m0.3956\u001b[0m  2.5300\n",
      "     77        0.4006       0.8348        \u001b[35m0.3951\u001b[0m  2.4200\n",
      "     78        \u001b[36m0.4002\u001b[0m       0.8343        \u001b[35m0.3946\u001b[0m  2.4340\n",
      "     79        \u001b[36m0.3997\u001b[0m       0.8342        \u001b[35m0.3944\u001b[0m  2.4240\n",
      "     80        \u001b[36m0.3997\u001b[0m       0.8341        \u001b[35m0.3943\u001b[0m  2.4560\n",
      "     81        0.3997       0.8342        \u001b[35m0.3939\u001b[0m  2.4723\n",
      "     82        \u001b[36m0.3993\u001b[0m       0.8351        \u001b[35m0.3932\u001b[0m  2.4676\n",
      "     83        \u001b[36m0.3989\u001b[0m       0.8354        \u001b[35m0.3927\u001b[0m  2.4010\n",
      "     84        \u001b[36m0.3987\u001b[0m       0.8362        \u001b[35m0.3925\u001b[0m  2.4530\n",
      "     85        \u001b[36m0.3986\u001b[0m       0.8364        \u001b[35m0.3920\u001b[0m  2.4730\n",
      "     86        \u001b[36m0.3983\u001b[0m       0.8362        \u001b[35m0.3915\u001b[0m  2.4260\n",
      "     87        \u001b[36m0.3978\u001b[0m       0.8358        \u001b[35m0.3911\u001b[0m  2.3810\n",
      "     88        \u001b[36m0.3974\u001b[0m       0.8356        \u001b[35m0.3908\u001b[0m  2.4370\n",
      "     89        \u001b[36m0.3972\u001b[0m       0.8357        \u001b[35m0.3904\u001b[0m  2.4100\n",
      "     90        \u001b[36m0.3969\u001b[0m       0.8363        \u001b[35m0.3897\u001b[0m  2.4740\n",
      "     91        \u001b[36m0.3963\u001b[0m       \u001b[32m0.8374\u001b[0m        \u001b[35m0.3890\u001b[0m  2.4650\n",
      "     92        \u001b[36m0.3957\u001b[0m       \u001b[32m0.8381\u001b[0m        \u001b[35m0.3884\u001b[0m  2.5130\n",
      "     93        \u001b[36m0.3953\u001b[0m       \u001b[32m0.8386\u001b[0m        \u001b[35m0.3879\u001b[0m  2.5457\n",
      "     94        \u001b[36m0.3949\u001b[0m       \u001b[32m0.8387\u001b[0m        \u001b[35m0.3873\u001b[0m  2.4860\n",
      "     95        \u001b[36m0.3942\u001b[0m       0.8387        \u001b[35m0.3866\u001b[0m  2.4750\n",
      "     96        \u001b[36m0.3936\u001b[0m       0.8386        \u001b[35m0.3861\u001b[0m  2.4370\n",
      "     97        \u001b[36m0.3930\u001b[0m       0.8383        \u001b[35m0.3857\u001b[0m  2.4160\n",
      "     98        \u001b[36m0.3926\u001b[0m       \u001b[32m0.8388\u001b[0m        \u001b[35m0.3851\u001b[0m  2.4080\n",
      "     99        \u001b[36m0.3920\u001b[0m       \u001b[32m0.8391\u001b[0m        \u001b[35m0.3844\u001b[0m  2.3920\n",
      "    100        \u001b[36m0.3913\u001b[0m       \u001b[32m0.8399\u001b[0m        \u001b[35m0.3838\u001b[0m  2.4970\n",
      "[CV 1/2; 1/3] END lr=0.2, max_epochs=100, module__net_modules=[Linear(in_features=22, out_features=50, bias=True), Sigmoid(), Linear(in_features=50, out_features=1, bias=True)]; total time= 4.2min\n",
      "[CV 2/2; 1/3] START lr=0.2, max_epochs=100, module__net_modules=[Linear(in_features=22, out_features=50, bias=True), Sigmoid(), Linear(in_features=50, out_features=1, bias=True)]\n"
     ]
    },
    {
     "name": "stdout",
     "output_type": "stream",
     "text": [
      "  epoch    train_loss    valid_acc    valid_loss     dur\n",
      "-------  ------------  -----------  ------------  ------\n",
      "      1        \u001b[36m0.7129\u001b[0m       \u001b[32m0.4996\u001b[0m        \u001b[35m0.6919\u001b[0m  2.3140\n",
      "      2        \u001b[36m0.6918\u001b[0m       \u001b[32m0.5004\u001b[0m        0.6971  2.5210\n",
      "      3        0.6970       0.5004        0.7116  2.6570\n",
      "      4        0.7115       0.5004        0.6988  2.5610\n",
      "      5        0.6986       \u001b[32m0.6215\u001b[0m        \u001b[35m0.6865\u001b[0m  2.6273\n",
      "      6        \u001b[36m0.6863\u001b[0m       0.4996        0.6984  2.7930\n",
      "      7        0.6982       0.4996        0.7008  2.7150\n",
      "      8        0.7005       0.4997        \u001b[35m0.6843\u001b[0m  2.4670\n",
      "      9        \u001b[36m0.6840\u001b[0m       0.5004        \u001b[35m0.6824\u001b[0m  2.5080\n",
      "     10        \u001b[36m0.6822\u001b[0m       0.5004        0.6920  2.7229\n",
      "     11        0.6917       0.5004        0.6840  2.4500\n",
      "     12        0.6837       \u001b[32m0.7221\u001b[0m        \u001b[35m0.6713\u001b[0m  2.5070\n",
      "     13        \u001b[36m0.6709\u001b[0m       0.5035        0.6756  2.5080\n",
      "     14        0.6751       0.5000        0.6778  2.5340\n",
      "     15        0.6772       0.6282        \u001b[35m0.6646\u001b[0m  2.5360\n",
      "     16        \u001b[36m0.6640\u001b[0m       0.6553        \u001b[35m0.6577\u001b[0m  2.4770\n",
      "     17        \u001b[36m0.6571\u001b[0m       0.5010        0.6616  2.5310\n",
      "     18        0.6610       0.5113        \u001b[35m0.6554\u001b[0m  2.4730\n",
      "     19        \u001b[36m0.6546\u001b[0m       \u001b[32m0.7249\u001b[0m        \u001b[35m0.6421\u001b[0m  2.4635\n",
      "     20        \u001b[36m0.6412\u001b[0m       0.7064        \u001b[35m0.6396\u001b[0m  2.5310\n",
      "     21        \u001b[36m0.6385\u001b[0m       0.6712        \u001b[35m0.6389\u001b[0m  2.4965\n",
      "     22        \u001b[36m0.6376\u001b[0m       0.7171        \u001b[35m0.6267\u001b[0m  2.4970\n",
      "     23        \u001b[36m0.6253\u001b[0m       \u001b[32m0.7403\u001b[0m        \u001b[35m0.6154\u001b[0m  2.4690\n",
      "     24        \u001b[36m0.6140\u001b[0m       0.6707        \u001b[35m0.6129\u001b[0m  2.6715\n",
      "     25        \u001b[36m0.6115\u001b[0m       0.6735        \u001b[35m0.6057\u001b[0m  2.4670\n",
      "     26        \u001b[36m0.6041\u001b[0m       0.7380        \u001b[35m0.5917\u001b[0m  2.4780\n",
      "     27        \u001b[36m0.5899\u001b[0m       0.7367        \u001b[35m0.5839\u001b[0m  2.5130\n",
      "     28        \u001b[36m0.5817\u001b[0m       0.7324        \u001b[35m0.5799\u001b[0m  2.4910\n",
      "     29        \u001b[36m0.5775\u001b[0m       0.7394        \u001b[35m0.5689\u001b[0m  2.5108\n",
      "     30        \u001b[36m0.5663\u001b[0m       \u001b[32m0.7437\u001b[0m        \u001b[35m0.5559\u001b[0m  2.4780\n",
      "     31        \u001b[36m0.5534\u001b[0m       0.7411        \u001b[35m0.5496\u001b[0m  2.4450\n",
      "     32        \u001b[36m0.5471\u001b[0m       0.7385        \u001b[35m0.5435\u001b[0m  2.5110\n",
      "     33        \u001b[36m0.5410\u001b[0m       \u001b[32m0.7457\u001b[0m        \u001b[35m0.5326\u001b[0m  2.6395\n",
      "     34        \u001b[36m0.5299\u001b[0m       \u001b[32m0.7475\u001b[0m        \u001b[35m0.5241\u001b[0m  2.5311\n",
      "     35        \u001b[36m0.5209\u001b[0m       0.7459        \u001b[35m0.5205\u001b[0m  2.7040\n",
      "     36        \u001b[36m0.5169\u001b[0m       \u001b[32m0.7484\u001b[0m        \u001b[35m0.5149\u001b[0m  2.5000\n",
      "     37        \u001b[36m0.5111\u001b[0m       \u001b[32m0.7526\u001b[0m        \u001b[35m0.5057\u001b[0m  2.4796\n",
      "     38        \u001b[36m0.5021\u001b[0m       \u001b[32m0.7552\u001b[0m        \u001b[35m0.4990\u001b[0m  2.6062\n",
      "     39        \u001b[36m0.4957\u001b[0m       \u001b[32m0.7561\u001b[0m        \u001b[35m0.4958\u001b[0m  2.5160\n",
      "     40        \u001b[36m0.4926\u001b[0m       \u001b[32m0.7588\u001b[0m        \u001b[35m0.4908\u001b[0m  2.5320\n",
      "     41        \u001b[36m0.4877\u001b[0m       \u001b[32m0.7641\u001b[0m        \u001b[35m0.4840\u001b[0m  2.5660\n",
      "     42        \u001b[36m0.4808\u001b[0m       \u001b[32m0.7684\u001b[0m        \u001b[35m0.4796\u001b[0m  2.4730\n",
      "     43        \u001b[36m0.4762\u001b[0m       \u001b[32m0.7727\u001b[0m        \u001b[35m0.4771\u001b[0m  2.4479\n",
      "     44        \u001b[36m0.4735\u001b[0m       \u001b[32m0.7776\u001b[0m        \u001b[35m0.4724\u001b[0m  2.4490\n",
      "     45        \u001b[36m0.4689\u001b[0m       \u001b[32m0.7832\u001b[0m        \u001b[35m0.4657\u001b[0m  2.4510\n",
      "     46        \u001b[36m0.4626\u001b[0m       \u001b[32m0.7842\u001b[0m        \u001b[35m0.4606\u001b[0m  2.4700\n",
      "     47        \u001b[36m0.4580\u001b[0m       \u001b[32m0.7859\u001b[0m        \u001b[35m0.4571\u001b[0m  2.4640\n",
      "     48        \u001b[36m0.4549\u001b[0m       \u001b[32m0.7912\u001b[0m        \u001b[35m0.4524\u001b[0m  2.4450\n",
      "     49        \u001b[36m0.4504\u001b[0m       \u001b[32m0.8000\u001b[0m        \u001b[35m0.4465\u001b[0m  2.4770\n",
      "     50        \u001b[36m0.4445\u001b[0m       \u001b[32m0.8064\u001b[0m        \u001b[35m0.4420\u001b[0m  2.4700\n",
      "     51        \u001b[36m0.4400\u001b[0m       \u001b[32m0.8099\u001b[0m        \u001b[35m0.4388\u001b[0m  2.4260\n",
      "     52        \u001b[36m0.4369\u001b[0m       \u001b[32m0.8136\u001b[0m        \u001b[35m0.4344\u001b[0m  2.4785\n",
      "     53        \u001b[36m0.4327\u001b[0m       \u001b[32m0.8175\u001b[0m        \u001b[35m0.4289\u001b[0m  2.4986\n",
      "     54        \u001b[36m0.4276\u001b[0m       \u001b[32m0.8220\u001b[0m        \u001b[35m0.4244\u001b[0m  2.4700\n",
      "     55        \u001b[36m0.4237\u001b[0m       \u001b[32m0.8251\u001b[0m        \u001b[35m0.4215\u001b[0m  2.4850\n",
      "     56        \u001b[36m0.4212\u001b[0m       \u001b[32m0.8274\u001b[0m        \u001b[35m0.4182\u001b[0m  2.4610\n",
      "     57        \u001b[36m0.4181\u001b[0m       \u001b[32m0.8308\u001b[0m        \u001b[35m0.4143\u001b[0m  2.4390\n",
      "     58        \u001b[36m0.4143\u001b[0m       \u001b[32m0.8322\u001b[0m        \u001b[35m0.4116\u001b[0m  2.4620\n",
      "     59        \u001b[36m0.4116\u001b[0m       \u001b[32m0.8330\u001b[0m        \u001b[35m0.4102\u001b[0m  2.4785\n",
      "     60        \u001b[36m0.4102\u001b[0m       \u001b[32m0.8342\u001b[0m        \u001b[35m0.4083\u001b[0m  2.4940\n",
      "     61        \u001b[36m0.4084\u001b[0m       \u001b[32m0.8357\u001b[0m        \u001b[35m0.4057\u001b[0m  2.5016\n",
      "     62        \u001b[36m0.4061\u001b[0m       \u001b[32m0.8358\u001b[0m        \u001b[35m0.4038\u001b[0m  2.5998\n",
      "     63        \u001b[36m0.4047\u001b[0m       0.8352        \u001b[35m0.4031\u001b[0m  2.5280\n",
      "     64        \u001b[36m0.4042\u001b[0m       0.8341        \u001b[35m0.4023\u001b[0m  2.5550\n",
      "     65        \u001b[36m0.4036\u001b[0m       0.8349        \u001b[35m0.4011\u001b[0m  2.5569\n",
      "     66        \u001b[36m0.4023\u001b[0m       0.8353        \u001b[35m0.4004\u001b[0m  2.4949\n",
      "     67        \u001b[36m0.4016\u001b[0m       0.8350        0.4005  2.5436\n",
      "     68        0.4016       0.8350        \u001b[35m0.4004\u001b[0m  2.5021\n",
      "     69        \u001b[36m0.4015\u001b[0m       0.8346        \u001b[35m0.3995\u001b[0m  2.8122\n",
      "     70        \u001b[36m0.4008\u001b[0m       0.8339        \u001b[35m0.3988\u001b[0m  2.3750\n",
      "     71        \u001b[36m0.4003\u001b[0m       0.8328        \u001b[35m0.3987\u001b[0m  2.4680\n",
      "     72        0.4003       0.8317        \u001b[35m0.3986\u001b[0m  2.6320\n",
      "     73        0.4003       0.8326        \u001b[35m0.3982\u001b[0m  2.4930\n",
      "     74        \u001b[36m0.3998\u001b[0m       0.8333        \u001b[35m0.3978\u001b[0m  2.4640\n",
      "     75        \u001b[36m0.3993\u001b[0m       0.8331        0.3979  2.4655\n",
      "     76        \u001b[36m0.3992\u001b[0m       0.8328        0.3980  2.6879\n",
      "     77        0.3993       0.8328        \u001b[35m0.3976\u001b[0m  2.5166\n",
      "     78        \u001b[36m0.3989\u001b[0m       0.8322        \u001b[35m0.3970\u001b[0m  2.4850\n",
      "     79        \u001b[36m0.3983\u001b[0m       0.8318        \u001b[35m0.3967\u001b[0m  2.4800\n",
      "     80        \u001b[36m0.3982\u001b[0m       0.8317        \u001b[35m0.3967\u001b[0m  2.4950\n",
      "     81        \u001b[36m0.3982\u001b[0m       0.8316        \u001b[35m0.3964\u001b[0m  2.5210\n",
      "     82        \u001b[36m0.3979\u001b[0m       0.8319        \u001b[35m0.3961\u001b[0m  2.7651\n",
      "     83        \u001b[36m0.3974\u001b[0m       0.8323        \u001b[35m0.3959\u001b[0m  2.5220\n",
      "     84        \u001b[36m0.3971\u001b[0m       0.8326        0.3960  2.4420\n",
      "     85        \u001b[36m0.3970\u001b[0m       0.8329        \u001b[35m0.3957\u001b[0m  2.5180\n",
      "     86        \u001b[36m0.3967\u001b[0m       0.8329        \u001b[35m0.3952\u001b[0m  2.4840\n",
      "     87        \u001b[36m0.3962\u001b[0m       0.8326        \u001b[35m0.3947\u001b[0m  2.4860\n",
      "     88        \u001b[36m0.3958\u001b[0m       0.8321        \u001b[35m0.3943\u001b[0m  2.7807\n",
      "     89        \u001b[36m0.3955\u001b[0m       0.8322        \u001b[35m0.3940\u001b[0m  2.5540\n",
      "     90        \u001b[36m0.3952\u001b[0m       0.8327        \u001b[35m0.3934\u001b[0m  2.5030\n",
      "     91        \u001b[36m0.3946\u001b[0m       0.8338        \u001b[35m0.3929\u001b[0m  2.4780\n",
      "     92        \u001b[36m0.3940\u001b[0m       0.8342        \u001b[35m0.3925\u001b[0m  2.4730\n",
      "     93        \u001b[36m0.3936\u001b[0m       0.8344        \u001b[35m0.3921\u001b[0m  2.5260\n",
      "     94        \u001b[36m0.3931\u001b[0m       0.8346        \u001b[35m0.3915\u001b[0m  2.4770\n",
      "     95        \u001b[36m0.3925\u001b[0m       0.8346        \u001b[35m0.3908\u001b[0m  2.5350\n",
      "     96        \u001b[36m0.3918\u001b[0m       0.8348        \u001b[35m0.3901\u001b[0m  2.4840\n",
      "     97        \u001b[36m0.3912\u001b[0m       0.8344        \u001b[35m0.3895\u001b[0m  2.5323\n",
      "     98        \u001b[36m0.3908\u001b[0m       0.8346        \u001b[35m0.3889\u001b[0m  2.5190\n",
      "     99        \u001b[36m0.3902\u001b[0m       0.8350        \u001b[35m0.3883\u001b[0m  2.5290\n",
      "    100        \u001b[36m0.3896\u001b[0m       \u001b[32m0.8358\u001b[0m        \u001b[35m0.3878\u001b[0m  2.4360\n",
      "[CV 2/2; 1/3] END lr=0.2, max_epochs=100, module__net_modules=[Linear(in_features=22, out_features=50, bias=True), Sigmoid(), Linear(in_features=50, out_features=1, bias=True)]; total time= 4.3min\n",
      "[CV 1/2; 2/3] START lr=0.2, max_epochs=100, module__net_modules=[Linear(in_features=22, out_features=50, bias=True), Sigmoid(), Linear(in_features=50, out_features=25, bias=True), ReLU(), Linear(in_features=25, out_features=1, bias=True)]\n",
      "  epoch    train_loss    valid_acc    valid_loss     dur\n",
      "-------  ------------  -----------  ------------  ------\n",
      "      1        \u001b[36m0.7087\u001b[0m       \u001b[32m0.4996\u001b[0m        \u001b[35m0.7030\u001b[0m  2.2450\n"
     ]
    },
    {
     "name": "stdout",
     "output_type": "stream",
     "text": [
      "      2        \u001b[36m0.7030\u001b[0m       0.4996        \u001b[35m0.6969\u001b[0m  2.5130\n",
      "      3        \u001b[36m0.6969\u001b[0m       0.4996        \u001b[35m0.6937\u001b[0m  2.5280\n",
      "      4        \u001b[36m0.6937\u001b[0m       \u001b[32m0.5004\u001b[0m        \u001b[35m0.6932\u001b[0m  2.4690\n",
      "      5        \u001b[36m0.6932\u001b[0m       0.5004        0.6944  2.4770\n",
      "      6        0.6944       0.5004        0.6962  2.5040\n",
      "      7        0.6962       0.5004        0.6975  2.5530\n",
      "      8        0.6975       0.5004        0.6978  2.6041\n",
      "      9        0.6979       0.5004        0.6971  2.5140\n",
      "     10        0.6971       0.5004        0.6958  2.4790\n",
      "Stopping since valid_loss has not improved in the last 7 epochs.\n",
      "[CV 1/2; 2/3] END lr=0.2, max_epochs=100, module__net_modules=[Linear(in_features=22, out_features=50, bias=True), Sigmoid(), Linear(in_features=50, out_features=25, bias=True), ReLU(), Linear(in_features=25, out_features=1, bias=True)]; total time=  30.5s\n",
      "[CV 2/2; 2/3] START lr=0.2, max_epochs=100, module__net_modules=[Linear(in_features=22, out_features=50, bias=True), Sigmoid(), Linear(in_features=50, out_features=25, bias=True), ReLU(), Linear(in_features=25, out_features=1, bias=True)]\n",
      "  epoch    train_loss    valid_acc    valid_loss     dur\n",
      "-------  ------------  -----------  ------------  ------\n",
      "      1        \u001b[36m0.7087\u001b[0m       \u001b[32m0.4996\u001b[0m        \u001b[35m0.7029\u001b[0m  2.2770\n",
      "      2        \u001b[36m0.7030\u001b[0m       0.4996        \u001b[35m0.6969\u001b[0m  2.4320\n",
      "      3        \u001b[36m0.6969\u001b[0m       0.4996        \u001b[35m0.6937\u001b[0m  2.4390\n",
      "      4        \u001b[36m0.6937\u001b[0m       \u001b[32m0.5004\u001b[0m        \u001b[35m0.6932\u001b[0m  2.4592\n",
      "      5        \u001b[36m0.6932\u001b[0m       0.5004        0.6944  2.4750\n",
      "      6        0.6944       0.5004        0.6963  2.4580\n",
      "      7        0.6962       0.5004        0.6976  2.4680\n",
      "      8        0.6975       0.5004        0.6979  2.4531\n",
      "      9        0.6979       0.5004        0.6972  2.4702\n",
      "     10        0.6971       0.5004        0.6958  2.4947\n",
      "Stopping since valid_loss has not improved in the last 7 epochs.\n",
      "[CV 2/2; 2/3] END lr=0.2, max_epochs=100, module__net_modules=[Linear(in_features=22, out_features=50, bias=True), Sigmoid(), Linear(in_features=50, out_features=25, bias=True), ReLU(), Linear(in_features=25, out_features=1, bias=True)]; total time=  29.9s\n",
      "[CV 1/2; 3/3] START lr=0.2, max_epochs=100, module__net_modules=[Linear(in_features=22, out_features=75, bias=True), Sigmoid(), Linear(in_features=75, out_features=50, bias=True), ReLU(), Linear(in_features=50, out_features=1, bias=True)]\n",
      "  epoch    train_loss    valid_acc    valid_loss     dur\n",
      "-------  ------------  -----------  ------------  ------\n",
      "      1        \u001b[36m0.6918\u001b[0m       \u001b[32m0.6755\u001b[0m        \u001b[35m0.6915\u001b[0m  2.2860\n",
      "      2        \u001b[36m0.6915\u001b[0m       \u001b[32m0.6876\u001b[0m        \u001b[35m0.6912\u001b[0m  2.4742\n",
      "      3        \u001b[36m0.6912\u001b[0m       \u001b[32m0.6887\u001b[0m        \u001b[35m0.6908\u001b[0m  2.5580\n",
      "      4        \u001b[36m0.6909\u001b[0m       \u001b[32m0.6916\u001b[0m        \u001b[35m0.6903\u001b[0m  2.5080\n",
      "      5        \u001b[36m0.6904\u001b[0m       \u001b[32m0.7036\u001b[0m        \u001b[35m0.6897\u001b[0m  2.4290\n",
      "      6        \u001b[36m0.6897\u001b[0m       \u001b[32m0.7211\u001b[0m        \u001b[35m0.6889\u001b[0m  2.5474\n",
      "      7        \u001b[36m0.6890\u001b[0m       \u001b[32m0.7331\u001b[0m        \u001b[35m0.6880\u001b[0m  2.3531\n",
      "      8        \u001b[36m0.6881\u001b[0m       \u001b[32m0.7408\u001b[0m        \u001b[35m0.6870\u001b[0m  2.3830\n",
      "      9        \u001b[36m0.6871\u001b[0m       \u001b[32m0.7478\u001b[0m        \u001b[35m0.6858\u001b[0m  2.5000\n",
      "     10        \u001b[36m0.6859\u001b[0m       \u001b[32m0.7499\u001b[0m        \u001b[35m0.6845\u001b[0m  2.5347\n",
      "     11        \u001b[36m0.6846\u001b[0m       \u001b[32m0.7500\u001b[0m        \u001b[35m0.6829\u001b[0m  2.5021\n",
      "     12        \u001b[36m0.6831\u001b[0m       0.7494        \u001b[35m0.6812\u001b[0m  2.4803\n",
      "     13        \u001b[36m0.6813\u001b[0m       0.7491        \u001b[35m0.6791\u001b[0m  2.6323\n",
      "     14        \u001b[36m0.6793\u001b[0m       0.7475        \u001b[35m0.6767\u001b[0m  2.4790\n",
      "     15        \u001b[36m0.6770\u001b[0m       0.7486        \u001b[35m0.6740\u001b[0m  2.4100\n",
      "     16        \u001b[36m0.6743\u001b[0m       \u001b[32m0.7504\u001b[0m        \u001b[35m0.6708\u001b[0m  2.4360\n",
      "     17        \u001b[36m0.6711\u001b[0m       \u001b[32m0.7510\u001b[0m        \u001b[35m0.6670\u001b[0m  2.4805\n",
      "     18        \u001b[36m0.6674\u001b[0m       0.7506        \u001b[35m0.6626\u001b[0m  2.4719\n",
      "     19        \u001b[36m0.6630\u001b[0m       0.7500        \u001b[35m0.6574\u001b[0m  2.4987\n",
      "     20        \u001b[36m0.6579\u001b[0m       0.7496        \u001b[35m0.6514\u001b[0m  2.4657\n",
      "     21        \u001b[36m0.6520\u001b[0m       0.7488        \u001b[35m0.6442\u001b[0m  2.4876\n",
      "     22        \u001b[36m0.6449\u001b[0m       0.7484        \u001b[35m0.6359\u001b[0m  2.6065\n",
      "     23        \u001b[36m0.6368\u001b[0m       0.7485        \u001b[35m0.6263\u001b[0m  2.4512\n",
      "     24        \u001b[36m0.6273\u001b[0m       0.7482        \u001b[35m0.6152\u001b[0m  2.4120\n",
      "     25        \u001b[36m0.6164\u001b[0m       0.7484        \u001b[35m0.6026\u001b[0m  2.5304\n",
      "     26        \u001b[36m0.6040\u001b[0m       0.7491        \u001b[35m0.5886\u001b[0m  2.4812\n",
      "     27        \u001b[36m0.5903\u001b[0m       0.7498        \u001b[35m0.5734\u001b[0m  2.6820\n",
      "     28        \u001b[36m0.5754\u001b[0m       0.7504        \u001b[35m0.5575\u001b[0m  2.4210\n",
      "     29        \u001b[36m0.5598\u001b[0m       \u001b[32m0.7514\u001b[0m        \u001b[35m0.5414\u001b[0m  2.4760\n",
      "     30        \u001b[36m0.5441\u001b[0m       \u001b[32m0.7535\u001b[0m        \u001b[35m0.5259\u001b[0m  2.4990\n",
      "     31        \u001b[36m0.5291\u001b[0m       \u001b[32m0.7562\u001b[0m        \u001b[35m0.5118\u001b[0m  2.4839\n",
      "     32        \u001b[36m0.5155\u001b[0m       \u001b[32m0.7586\u001b[0m        \u001b[35m0.4997\u001b[0m  2.4982\n",
      "     33        \u001b[36m0.5037\u001b[0m       \u001b[32m0.7615\u001b[0m        \u001b[35m0.4895\u001b[0m  2.4611\n",
      "     34        \u001b[36m0.4940\u001b[0m       \u001b[32m0.7651\u001b[0m        \u001b[35m0.4811\u001b[0m  2.5026\n",
      "     35        \u001b[36m0.4860\u001b[0m       \u001b[32m0.7701\u001b[0m        \u001b[35m0.4737\u001b[0m  2.5060\n",
      "     36        \u001b[36m0.4789\u001b[0m       \u001b[32m0.7763\u001b[0m        \u001b[35m0.4663\u001b[0m  2.4887\n",
      "     37        \u001b[36m0.4717\u001b[0m       \u001b[32m0.7836\u001b[0m        \u001b[35m0.4586\u001b[0m  2.4892\n",
      "     38        \u001b[36m0.4640\u001b[0m       \u001b[32m0.7944\u001b[0m        \u001b[35m0.4501\u001b[0m  2.4944\n",
      "     39        \u001b[36m0.4556\u001b[0m       \u001b[32m0.8013\u001b[0m        \u001b[35m0.4414\u001b[0m  2.4935\n",
      "     40        \u001b[36m0.4466\u001b[0m       \u001b[32m0.8154\u001b[0m        \u001b[35m0.4329\u001b[0m  2.4904\n",
      "     41        \u001b[36m0.4384\u001b[0m       0.8045        0.4349  2.5541\n",
      "     42        0.4391       0.7854        0.4855  2.5701\n",
      "     43        0.4917       0.6424        0.6150  2.5600\n",
      "     44        0.6171       0.6682        0.9110  2.5521\n",
      "     45        0.9206       \u001b[32m0.8184\u001b[0m        0.4532  2.5481\n",
      "     46        0.4557       0.5286        0.6495  2.5431\n",
      "Stopping since valid_loss has not improved in the last 7 epochs.\n",
      "[CV 1/2; 3/3] END lr=0.2, max_epochs=100, module__net_modules=[Linear(in_features=22, out_features=75, bias=True), Sigmoid(), Linear(in_features=75, out_features=50, bias=True), ReLU(), Linear(in_features=50, out_features=1, bias=True)]; total time= 2.0min\n",
      "[CV 2/2; 3/3] START lr=0.2, max_epochs=100, module__net_modules=[Linear(in_features=22, out_features=75, bias=True), Sigmoid(), Linear(in_features=75, out_features=50, bias=True), ReLU(), Linear(in_features=50, out_features=1, bias=True)]\n",
      "  epoch    train_loss    valid_acc    valid_loss     dur\n",
      "-------  ------------  -----------  ------------  ------\n",
      "      1        \u001b[36m0.6918\u001b[0m       \u001b[32m0.6717\u001b[0m        \u001b[35m0.6915\u001b[0m  2.3254\n",
      "      2        \u001b[36m0.6915\u001b[0m       \u001b[32m0.6830\u001b[0m        \u001b[35m0.6913\u001b[0m  2.4811\n",
      "      3        \u001b[36m0.6912\u001b[0m       0.6817        \u001b[35m0.6909\u001b[0m  2.5222\n",
      "      4        \u001b[36m0.6909\u001b[0m       \u001b[32m0.6833\u001b[0m        \u001b[35m0.6904\u001b[0m  2.4900\n",
      "      5        \u001b[36m0.6904\u001b[0m       \u001b[32m0.6953\u001b[0m        \u001b[35m0.6898\u001b[0m  2.4330\n",
      "      6        \u001b[36m0.6897\u001b[0m       \u001b[32m0.7132\u001b[0m        \u001b[35m0.6890\u001b[0m  2.4600\n",
      "      7        \u001b[36m0.6890\u001b[0m       \u001b[32m0.7250\u001b[0m        \u001b[35m0.6881\u001b[0m  2.4582\n",
      "      8        \u001b[36m0.6881\u001b[0m       \u001b[32m0.7320\u001b[0m        \u001b[35m0.6871\u001b[0m  2.4766\n",
      "      9        \u001b[36m0.6870\u001b[0m       \u001b[32m0.7372\u001b[0m        \u001b[35m0.6860\u001b[0m  2.5622\n",
      "     10        \u001b[36m0.6859\u001b[0m       \u001b[32m0.7398\u001b[0m        \u001b[35m0.6846\u001b[0m  2.5174\n",
      "     11        \u001b[36m0.6845\u001b[0m       0.7386        \u001b[35m0.6831\u001b[0m  2.5441\n",
      "     12        \u001b[36m0.6830\u001b[0m       0.7381        \u001b[35m0.6814\u001b[0m  2.5745\n",
      "     13        \u001b[36m0.6812\u001b[0m       0.7372        \u001b[35m0.6793\u001b[0m  2.5881\n",
      "     14        \u001b[36m0.6791\u001b[0m       0.7363        \u001b[35m0.6770\u001b[0m  2.5386\n",
      "     15        \u001b[36m0.6767\u001b[0m       0.7385        \u001b[35m0.6743\u001b[0m  2.5583\n",
      "     16        \u001b[36m0.6740\u001b[0m       \u001b[32m0.7404\u001b[0m        \u001b[35m0.6711\u001b[0m  2.5504\n",
      "     17        \u001b[36m0.6707\u001b[0m       \u001b[32m0.7415\u001b[0m        \u001b[35m0.6674\u001b[0m  2.5619\n"
     ]
    },
    {
     "name": "stdout",
     "output_type": "stream",
     "text": [
      "     18        \u001b[36m0.6669\u001b[0m       \u001b[32m0.7417\u001b[0m        \u001b[35m0.6630\u001b[0m  2.4911\n",
      "     19        \u001b[36m0.6625\u001b[0m       0.7412        \u001b[35m0.6579\u001b[0m  2.4812\n",
      "     20        \u001b[36m0.6573\u001b[0m       0.7402        \u001b[35m0.6518\u001b[0m  2.4756\n",
      "     21        \u001b[36m0.6511\u001b[0m       0.7401        \u001b[35m0.6448\u001b[0m  2.4945\n",
      "     22        \u001b[36m0.6439\u001b[0m       0.7399        \u001b[35m0.6365\u001b[0m  2.4950\n",
      "     23        \u001b[36m0.6356\u001b[0m       0.7406        \u001b[35m0.6270\u001b[0m  2.5068\n",
      "     24        \u001b[36m0.6258\u001b[0m       0.7404        \u001b[35m0.6160\u001b[0m  2.5154\n",
      "     25        \u001b[36m0.6147\u001b[0m       0.7409        \u001b[35m0.6036\u001b[0m  2.5219\n",
      "     26        \u001b[36m0.6020\u001b[0m       0.7404        \u001b[35m0.5899\u001b[0m  2.5024\n",
      "     27        \u001b[36m0.5880\u001b[0m       0.7415        \u001b[35m0.5750\u001b[0m  2.4793\n",
      "     28        \u001b[36m0.5729\u001b[0m       \u001b[32m0.7421\u001b[0m        \u001b[35m0.5596\u001b[0m  2.5111\n",
      "     29        \u001b[36m0.5571\u001b[0m       \u001b[32m0.7436\u001b[0m        \u001b[35m0.5441\u001b[0m  2.5109\n",
      "     30        \u001b[36m0.5414\u001b[0m       \u001b[32m0.7451\u001b[0m        \u001b[35m0.5295\u001b[0m  2.4957\n",
      "     31        \u001b[36m0.5264\u001b[0m       \u001b[32m0.7469\u001b[0m        \u001b[35m0.5163\u001b[0m  2.4953\n",
      "     32        \u001b[36m0.5130\u001b[0m       \u001b[32m0.7503\u001b[0m        \u001b[35m0.5051\u001b[0m  2.5040\n",
      "     33        \u001b[36m0.5016\u001b[0m       \u001b[32m0.7537\u001b[0m        \u001b[35m0.4959\u001b[0m  2.4940\n",
      "     34        \u001b[36m0.4922\u001b[0m       \u001b[32m0.7569\u001b[0m        \u001b[35m0.4881\u001b[0m  2.4825\n",
      "     35        \u001b[36m0.4845\u001b[0m       \u001b[32m0.7622\u001b[0m        \u001b[35m0.4810\u001b[0m  2.5197\n",
      "     36        \u001b[36m0.4775\u001b[0m       \u001b[32m0.7688\u001b[0m        \u001b[35m0.4737\u001b[0m  2.4536\n",
      "     37        \u001b[36m0.4704\u001b[0m       \u001b[32m0.7770\u001b[0m        \u001b[35m0.4654\u001b[0m  2.4900\n",
      "     38        \u001b[36m0.4627\u001b[0m       \u001b[32m0.7884\u001b[0m        \u001b[35m0.4565\u001b[0m  2.4706\n",
      "     39        \u001b[36m0.4541\u001b[0m       \u001b[32m0.7957\u001b[0m        \u001b[35m0.4463\u001b[0m  2.5062\n",
      "     40        \u001b[36m0.4448\u001b[0m       \u001b[32m0.8113\u001b[0m        \u001b[35m0.4378\u001b[0m  2.4793\n",
      "     41        \u001b[36m0.4364\u001b[0m       0.8050        \u001b[35m0.4371\u001b[0m  2.4946\n",
      "     42        0.4376       0.7806        0.4966  2.4939\n",
      "     43        0.4934       0.6390        0.6261  2.4847\n",
      "     44        0.6290       0.6402        0.9850  2.5041\n",
      "     45        0.9750       0.8108        0.4595  2.5034\n",
      "     46        0.4595       0.5323        0.6519  2.5081\n",
      "     47        0.6527       0.6957        0.5587  2.4925\n",
      "Stopping since valid_loss has not improved in the last 7 epochs.\n",
      "[CV 2/2; 3/3] END lr=0.2, max_epochs=100, module__net_modules=[Linear(in_features=22, out_features=75, bias=True), Sigmoid(), Linear(in_features=75, out_features=50, bias=True), ReLU(), Linear(in_features=50, out_features=1, bias=True)]; total time= 2.1min\n",
      "  epoch    train_loss    valid_acc    valid_loss     dur\n",
      "-------  ------------  -----------  ------------  ------\n",
      "      1        \u001b[36m0.6918\u001b[0m       \u001b[32m0.6709\u001b[0m        \u001b[35m0.6915\u001b[0m  4.6319\n",
      "      2        \u001b[36m0.6915\u001b[0m       \u001b[32m0.6820\u001b[0m        \u001b[35m0.6913\u001b[0m  4.8010\n",
      "      3        \u001b[36m0.6912\u001b[0m       0.6820        \u001b[35m0.6909\u001b[0m  4.7972\n",
      "      4        \u001b[36m0.6908\u001b[0m       \u001b[32m0.6825\u001b[0m        \u001b[35m0.6904\u001b[0m  5.0174\n",
      "      5        \u001b[36m0.6903\u001b[0m       \u001b[32m0.6956\u001b[0m        \u001b[35m0.6898\u001b[0m  4.9266\n",
      "      6        \u001b[36m0.6897\u001b[0m       \u001b[32m0.7140\u001b[0m        \u001b[35m0.6890\u001b[0m  4.7030\n",
      "      7        \u001b[36m0.6890\u001b[0m       \u001b[32m0.7262\u001b[0m        \u001b[35m0.6881\u001b[0m  4.8081\n",
      "      8        \u001b[36m0.6881\u001b[0m       \u001b[32m0.7346\u001b[0m        \u001b[35m0.6871\u001b[0m  4.8096\n",
      "      9        \u001b[36m0.6871\u001b[0m       \u001b[32m0.7396\u001b[0m        \u001b[35m0.6860\u001b[0m  4.7120\n",
      "     10        \u001b[36m0.6859\u001b[0m       \u001b[32m0.7423\u001b[0m        \u001b[35m0.6846\u001b[0m  4.8021\n",
      "     11        \u001b[36m0.6845\u001b[0m       0.7414        \u001b[35m0.6831\u001b[0m  4.7300\n",
      "     12        \u001b[36m0.6830\u001b[0m       0.7406        \u001b[35m0.6813\u001b[0m  4.7047\n",
      "     13        \u001b[36m0.6812\u001b[0m       0.7394        \u001b[35m0.6793\u001b[0m  4.7640\n",
      "     14        \u001b[36m0.6792\u001b[0m       0.7387        \u001b[35m0.6769\u001b[0m  4.8334\n",
      "     15        \u001b[36m0.6768\u001b[0m       0.7399        \u001b[35m0.6742\u001b[0m  4.6620\n",
      "     16        \u001b[36m0.6741\u001b[0m       0.7422        \u001b[35m0.6710\u001b[0m  4.7840\n",
      "     17        \u001b[36m0.6708\u001b[0m       \u001b[32m0.7433\u001b[0m        \u001b[35m0.6673\u001b[0m  4.7771\n",
      "     18        \u001b[36m0.6671\u001b[0m       \u001b[32m0.7440\u001b[0m        \u001b[35m0.6629\u001b[0m  4.7541\n",
      "     19        \u001b[36m0.6627\u001b[0m       0.7435        \u001b[35m0.6577\u001b[0m  4.8360\n",
      "     20        \u001b[36m0.6575\u001b[0m       0.7427        \u001b[35m0.6517\u001b[0m  4.7971\n",
      "     21        \u001b[36m0.6514\u001b[0m       0.7424        \u001b[35m0.6446\u001b[0m  4.8970\n",
      "     22        \u001b[36m0.6443\u001b[0m       0.7424        \u001b[35m0.6363\u001b[0m  4.6990\n",
      "     23        \u001b[36m0.6360\u001b[0m       0.7429        \u001b[35m0.6268\u001b[0m  4.7030\n",
      "     24        \u001b[36m0.6263\u001b[0m       0.7431        \u001b[35m0.6158\u001b[0m  4.5866\n",
      "     25        \u001b[36m0.6153\u001b[0m       0.7431        \u001b[35m0.6033\u001b[0m  4.6830\n",
      "     26        \u001b[36m0.6027\u001b[0m       0.7428        \u001b[35m0.5895\u001b[0m  4.6701\n",
      "     27        \u001b[36m0.5888\u001b[0m       0.7435        \u001b[35m0.5746\u001b[0m  4.7580\n",
      "     28        \u001b[36m0.5737\u001b[0m       \u001b[32m0.7443\u001b[0m        \u001b[35m0.5590\u001b[0m  4.8733\n",
      "     29        \u001b[36m0.5580\u001b[0m       \u001b[32m0.7457\u001b[0m        \u001b[35m0.5434\u001b[0m  4.6940\n",
      "     30        \u001b[36m0.5422\u001b[0m       \u001b[32m0.7471\u001b[0m        \u001b[35m0.5286\u001b[0m  4.7155\n",
      "     31        \u001b[36m0.5271\u001b[0m       \u001b[32m0.7493\u001b[0m        \u001b[35m0.5153\u001b[0m  4.8125\n",
      "     32        \u001b[36m0.5136\u001b[0m       \u001b[32m0.7519\u001b[0m        \u001b[35m0.5039\u001b[0m  4.7351\n",
      "     33        \u001b[36m0.5020\u001b[0m       \u001b[32m0.7550\u001b[0m        \u001b[35m0.4946\u001b[0m  4.8209\n",
      "     34        \u001b[36m0.4924\u001b[0m       \u001b[32m0.7578\u001b[0m        \u001b[35m0.4868\u001b[0m  4.7463\n",
      "     35        \u001b[36m0.4846\u001b[0m       \u001b[32m0.7635\u001b[0m        \u001b[35m0.4799\u001b[0m  4.6166\n",
      "     36        \u001b[36m0.4775\u001b[0m       \u001b[32m0.7701\u001b[0m        \u001b[35m0.4728\u001b[0m  4.8010\n",
      "     37        \u001b[36m0.4704\u001b[0m       \u001b[32m0.7778\u001b[0m        \u001b[35m0.4650\u001b[0m  4.7329\n",
      "     38        \u001b[36m0.4626\u001b[0m       \u001b[32m0.7888\u001b[0m        \u001b[35m0.4564\u001b[0m  4.8230\n",
      "     39        \u001b[36m0.4541\u001b[0m       \u001b[32m0.7952\u001b[0m        \u001b[35m0.4471\u001b[0m  4.6461\n",
      "     40        \u001b[36m0.4450\u001b[0m       \u001b[32m0.8115\u001b[0m        \u001b[35m0.4387\u001b[0m  4.8291\n",
      "     41        \u001b[36m0.4367\u001b[0m       0.8033        \u001b[35m0.4386\u001b[0m  4.7531\n",
      "     42        0.4370       0.7850        0.4879  4.8423\n",
      "     43        0.4863       0.6647        0.5926  4.6630\n",
      "     44        0.5917       0.6739        0.8306  4.7712\n",
      "     45        0.8284       0.7513        0.4912  4.6711\n",
      "     46        0.4906       0.7193        0.5109  4.7246\n",
      "     47        0.5105       0.7032        0.6101  4.7260\n",
      "Stopping since valid_loss has not improved in the last 7 epochs.\n"
     ]
    }
   ],
   "source": [
    "# Perform grid search CV and output the best performing parameters\n",
    "\n",
    "#parameters to test using gridsearch\n",
    "params = {\n",
    "    'lr': [0.2], \n",
    "    'max_epochs': [100],\n",
    "    #pass parameters to NetModule constructor to set architecture\n",
    "    'module__net_modules': included_modules\n",
    "} \n",
    "\n",
    "# Perform grid search with 2-fold cross validation, will refit model at the end using best params on entire training set\n",
    "gs = GridSearchCV(net, params, refit=True, cv=2, scoring=precision_scorer, verbose=10)\n",
    "\n",
    "start_time = time.time()\n",
    "gs.fit(dataset.train, dataset.labels_train)\n",
    "elapsed_time = time.time() - start_time\n",
    "\n",
    "model_output = (elapsed_time, gs) \n",
    "pickle.dump( model_output, open( \"default_model.p\", \"wb\" ) ) "
   ]
  },
  {
   "cell_type": "code",
   "execution_count": 128,
   "id": "willing-drama",
   "metadata": {},
   "outputs": [
    {
     "name": "stdout",
     "output_type": "stream",
     "text": [
      "Best Precision: 0.9756385400492267\n",
      "Best Parameters: {'lr': 0.2, 'max_epochs': 100, 'module__net_modules': [Linear(in_features=22, out_features=75, bias=True), Sigmoid(), Linear(in_features=75, out_features=50, bias=True), ReLU(), Linear(in_features=50, out_features=1, bias=True)]}\n"
     ]
    }
   ],
   "source": [
    "elapsed, gs = pickle.load( open( \"default_model.p\", \"rb\" ) )\n",
    "print(\"Best Precision: \" + str(gs.best_score_) + \"\\nBest Parameters: \" + str(gs.best_params_))"
   ]
  },
  {
   "cell_type": "code",
   "execution_count": 129,
   "id": "searching-groove",
   "metadata": {},
   "outputs": [
    {
     "name": "stdout",
     "output_type": "stream",
     "text": [
      "Training Time: 1039.0 seconds\n"
     ]
    }
   ],
   "source": [
    "print(\"Training Time: \" + '{0:.5}'.format(elapsed) + ' seconds')"
   ]
  },
  {
   "cell_type": "code",
   "execution_count": 130,
   "id": "guided-register",
   "metadata": {
    "scrolled": true
   },
   "outputs": [
    {
     "name": "stdout",
     "output_type": "stream",
     "text": [
      "Precision on Test Data: 0.9370329057445622\n"
     ]
    }
   ],
   "source": [
    "y_pred = gs.predict(dataset.test)\n",
    "  \n",
    "print(\"Precision on Test Data: \" + str(precision_score(dataset.labels_test, y_pred)))"
   ]
  },
  {
   "cell_type": "code",
   "execution_count": 131,
   "id": "formed-tunnel",
   "metadata": {},
   "outputs": [
    {
     "name": "stdout",
     "output_type": "stream",
     "text": [
      "Recall on Test Data: 0.6562506103158018\n"
     ]
    }
   ],
   "source": [
    "print(\"Recall on Test Data: \" + str(recall_score(dataset.labels_test, y_pred)))"
   ]
  },
  {
   "cell_type": "code",
   "execution_count": 132,
   "id": "minus-approach",
   "metadata": {},
   "outputs": [
    {
     "name": "stdout",
     "output_type": "stream",
     "text": [
      "Accuracy: 0.806679905768744\n"
     ]
    }
   ],
   "source": [
    "print(\"Accuracy: \" + str(accuracy_score(dataset.labels_test, y_pred)))"
   ]
  },
  {
   "cell_type": "code",
   "execution_count": 133,
   "id": "working-recorder",
   "metadata": {
    "scrolled": false
   },
   "outputs": [
    {
     "data": {
      "text/plain": [
       "<sklearn.metrics._plot.confusion_matrix.ConfusionMatrixDisplay at 0x28188cec040>"
      ]
     },
     "execution_count": 133,
     "metadata": {},
     "output_type": "execute_result"
    },
    {
     "data": {
      "image/png": "[encoded data removed]",
      "text/plain": [
       "<Figure size 432x288 with 2 Axes>"
      ]
     },
     "metadata": {
      "needs_background": "light"
     },
     "output_type": "display_data"
    }
   ],
   "source": [
    "from sklearn.metrics import confusion_matrix\n",
    "from sklearn.metrics import ConfusionMatrixDisplay\n",
    "\n",
    "\n",
    "ConfusionMatrixDisplay(confusion_matrix(dataset.labels_test, y_pred), display_labels=[\"Not Defaulted\", \"Defaulted\"]).plot()"
   ]
  },
  {
   "cell_type": "code",
   "execution_count": 134,
   "id": "historic-charter",
   "metadata": {},
   "outputs": [],
   "source": [
    "roc = roc_curve(dataset.labels_test, y_pred)"
   ]
  },
  {
   "cell_type": "code",
   "execution_count": 136,
   "id": "curious-retreat",
   "metadata": {},
   "outputs": [
    {
     "data": {
      "text/plain": [
       "<sklearn.metrics._plot.roc_curve.RocCurveDisplay at 0x282bfe72d30>"
      ]
     },
     "execution_count": 136,
     "metadata": {},
     "output_type": "execute_result"
    },
    {
     "data": {
      "image/png": "[encoded data removed]",
      "text/plain": [
       "<Figure size 432x288 with 1 Axes>"
      ]
     },
     "metadata": {
      "needs_background": "light"
     },
     "output_type": "display_data"
    }
   ],
   "source": [
    "from sklearn.metrics import roc_curve\n",
    "from sklearn.metrics import RocCurveDisplay\n",
    "\n",
    "\n",
    "RocCurveDisplay(fpr=roc[0], tpr=roc[1]).plot()"
   ]
  },
  {
   "cell_type": "code",
   "execution_count": 137,
   "id": "immune-payroll",
   "metadata": {},
   "outputs": [
    {
     "data": {
      "text/plain": [
       "0.8062127612454735"
      ]
     },
     "execution_count": 137,
     "metadata": {},
     "output_type": "execute_result"
    }
   ],
   "source": [
    "from sklearn.metrics import roc_auc_score\n",
    "roc_auc_score(dataset.labels_test, y_pred)"
   ]
  },
  {
   "cell_type": "markdown",
   "id": "level-cliff",
   "metadata": {},
   "source": [
    "# Logistic Regression"
   ]
  },
  {
   "cell_type": "markdown",
   "id": "junior-national",
   "metadata": {},
   "source": [
    "We will now compare the performance of the neural network to the baseline performance of logistic regression."
   ]
  },
  {
   "cell_type": "code",
   "execution_count": 138,
   "id": "strategic-action",
   "metadata": {},
   "outputs": [
    {
     "name": "stderr",
     "output_type": "stream",
     "text": [
      "c:\\users\\kevin\\appdata\\local\\programs\\python\\python39\\lib\\site-packages\\sklearn\\utils\\validation.py:63: DataConversionWarning: A column-vector y was passed when a 1d array was expected. Please change the shape of y to (n_samples, ), for example using ravel().\n",
      "  return f(*args, **kwargs)\n"
     ]
    },
    {
     "name": "stdout",
     "output_type": "stream",
     "text": [
      "Precision on Test Data: 0.8665427430768256\n"
     ]
    },
    {
     "name": "stderr",
     "output_type": "stream",
     "text": [
      "c:\\users\\kevin\\appdata\\local\\programs\\python\\python39\\lib\\site-packages\\sklearn\\linear_model\\_logistic.py:763: ConvergenceWarning: lbfgs failed to converge (status=1):\n",
      "STOP: TOTAL NO. of ITERATIONS REACHED LIMIT.\n",
      "\n",
      "Increase the number of iterations (max_iter) or scale the data as shown in:\n",
      "    https://scikit-learn.org/stable/modules/preprocessing.html\n",
      "Please also refer to the documentation for alternative solver options:\n",
      "    https://scikit-learn.org/stable/modules/linear_model.html#logistic-regression\n",
      "  n_iter_i = _check_optimize_result(\n"
     ]
    }
   ],
   "source": [
    "from sklearn.linear_model import LogisticRegression\n",
    "\n",
    "log_reg = LogisticRegression().fit(dataset.train, dataset.labels_train)\n",
    "y_pred = log_reg.predict(dataset.test)\n",
    "\n",
    "print(\"Precision on Test Data: \" + str(precision_score(dataset.labels_test, y_pred)))"
   ]
  },
  {
   "cell_type": "code",
   "execution_count": 139,
   "id": "friendly-northern",
   "metadata": {},
   "outputs": [
    {
     "name": "stdout",
     "output_type": "stream",
     "text": [
      "Recall on Test Data: 0.801183524402867\n"
     ]
    }
   ],
   "source": [
    "print(\"Recall on Test Data: \" + str(recall_score(dataset.labels_test, y_pred)))"
   ]
  },
  {
   "cell_type": "code",
   "execution_count": 140,
   "id": "still-child",
   "metadata": {},
   "outputs": [
    {
     "name": "stdout",
     "output_type": "stream",
     "text": [
      "Accuracy: 0.8393980102408348\n"
     ]
    }
   ],
   "source": [
    "print(\"Accuracy: \" + str(accuracy_score(dataset.labels_test, y_pred)))"
   ]
  },
  {
   "cell_type": "code",
   "execution_count": 141,
   "id": "enhanced-harvest",
   "metadata": {
    "scrolled": true
   },
   "outputs": [
    {
     "data": {
      "text/plain": [
       "<sklearn.metrics._plot.confusion_matrix.ConfusionMatrixDisplay at 0x2825b23eb50>"
      ]
     },
     "execution_count": 141,
     "metadata": {},
     "output_type": "execute_result"
    },
    {
     "data": {
      "image/png": "[encoded data removed]",
      "text/plain": [
       "<Figure size 432x288 with 2 Axes>"
      ]
     },
     "metadata": {
      "needs_background": "light"
     },
     "output_type": "display_data"
    }
   ],
   "source": [
    "ConfusionMatrixDisplay(confusion_matrix(dataset.labels_test, y_pred), display_labels=[\"Not Defaulted\", \"Defaulted\"]).plot()"
   ]
  },
  {
   "cell_type": "code",
   "execution_count": 142,
   "id": "above-label",
   "metadata": {
    "scrolled": true
   },
   "outputs": [
    {
     "data": {
      "text/plain": [
       "<sklearn.metrics._plot.roc_curve.RocCurveDisplay at 0x282651a8df0>"
      ]
     },
     "execution_count": 142,
     "metadata": {},
     "output_type": "execute_result"
    },
    {
     "data": {
      "image/png": "[encoded data removed]",
      "text/plain": [
       "<Figure size 432x288 with 1 Axes>"
      ]
     },
     "metadata": {
      "needs_background": "light"
     },
     "output_type": "display_data"
    }
   ],
   "source": [
    "roc = roc_curve(dataset.labels_test, y_pred)\n",
    "RocCurveDisplay(fpr=roc[0], tpr=roc[1]).plot()"
   ]
  },
  {
   "cell_type": "code",
   "execution_count": 143,
   "id": "athletic-yesterday",
   "metadata": {},
   "outputs": [
    {
     "data": {
      "text/plain": [
       "0.8392793386236138"
      ]
     },
     "execution_count": 143,
     "metadata": {},
     "output_type": "execute_result"
    }
   ],
   "source": [
    "roc_auc_score(dataset.labels_test, y_pred)"
   ]
  },
  {
   "cell_type": "markdown",
   "id": "pleasant-course",
   "metadata": {},
   "source": [
    "# XAI Framework"
   ]
  },
  {
   "cell_type": "code",
   "execution_count": 108,
   "id": "challenging-flood",
   "metadata": {},
   "outputs": [],
   "source": [
    "explainer = anchor_tabular.AnchorTabularExplainer(dataset.class_names, dataset.feature_names,\n",
    "                                                  dataset.train, dataset.categorical_names)"
   ]
  },
  {
   "cell_type": "code",
   "execution_count": 109,
   "id": "valid-circle",
   "metadata": {},
   "outputs": [],
   "source": [
    "# Wrapper for outputting a flattened version of neural network predictions for use in explainer\n",
    "def predict_and_flatten(X):\n",
    "    y = gs.predict(X)\n",
    "    y = y.flatten()\n",
    "    return y"
   ]
  },
  {
   "cell_type": "markdown",
   "id": "legal-appendix",
   "metadata": {},
   "source": [
    "Lets look at a few examples of anchors generated using our two different models"
   ]
  },
  {
   "cell_type": "code",
   "execution_count": 110,
   "id": "deluxe-floating",
   "metadata": {},
   "outputs": [
    {
     "name": "stdout",
     "output_type": "stream",
     "text": [
      "Neural Network Prediction:  Defaulted\n",
      "Anchor: interestRate > 0.51 AND rateSubvention = No\n",
      "Precision: 0.97\n",
      "Coverage: 0.49\n"
     ]
    }
   ],
   "source": [
    "np.random.seed(1)\n",
    "print('Neural Network Prediction: ', explainer.class_names[int(gs.predict(dataset.test[0]))])\n",
    "exp = explainer.explain_instance(dataset.test[0], predict_and_flatten, threshold=0.95)\n",
    "print('Anchor: %s' % (' AND '.join(exp.names())))\n",
    "print('Precision: %.2f' % exp.precision())\n",
    "print('Coverage: %.2f' % exp.coverage())"
   ]
  },
  {
   "cell_type": "code",
   "execution_count": 111,
   "id": "governmental-dakota",
   "metadata": {
    "scrolled": false
   },
   "outputs": [
    {
     "name": "stdout",
     "output_type": "stream",
     "text": [
      "Logistic Regression Prediction:  Defaulted\n",
      "Anchor: interestRate > 0.51 AND rateSubvention = No AND creditScore <= 0.08\n",
      "Precision: 0.96\n",
      "Coverage: 0.49\n"
     ]
    }
   ],
   "source": [
    "print('Logistic Regression Prediction: ', explainer.class_names[int(log_reg.predict(dataset.test[0].reshape(1, -1)))])\n",
    "exp = explainer.explain_instance(dataset.test[0], log_reg.predict, threshold=0.95)\n",
    "print('Anchor: %s' % (' AND '.join(exp.names())))\n",
    "print('Precision: %.2f' % exp.precision())\n",
    "print('Coverage: %.2f' % exp.coverage())"
   ]
  },
  {
   "cell_type": "code",
   "execution_count": 112,
   "id": "cordless-porcelain",
   "metadata": {},
   "outputs": [
    {
     "name": "stdout",
     "output_type": "stream",
     "text": [
      "Neural Network Prediction:  Defaulted\n",
      "Anchor: interestRate > 0.18 AND creditScore <= 0.07 AND Stated, Verified Employment = No\n",
      "Precision: 0.96\n",
      "Coverage: 0.45\n"
     ]
    }
   ],
   "source": [
    "print('Neural Network Prediction: ', explainer.class_names[int(gs.predict(dataset.test[25]))])\n",
    "exp = explainer.explain_instance(dataset.test[25], predict_and_flatten, threshold=0.95)\n",
    "print('Anchor: %s' % (' AND '.join(exp.names())))\n",
    "print('Precision: %.2f' % exp.precision())\n",
    "print('Coverage: %.2f' % exp.coverage())"
   ]
  },
  {
   "cell_type": "code",
   "execution_count": 113,
   "id": "breathing-guest",
   "metadata": {
    "scrolled": true
   },
   "outputs": [
    {
     "name": "stdout",
     "output_type": "stream",
     "text": [
      "Logistic Regression Prediction:  Not Defaulted\n",
      "Anchor: interestRate <= 0.51 AND Scheduled Payment Amount <= 0.08 AND vehicleValueAmount > 0.07\n",
      "Precision: 0.96\n",
      "Coverage: 0.09\n"
     ]
    }
   ],
   "source": [
    "print('Logistic Regression Prediction: ', explainer.class_names[int(log_reg.predict(dataset.test[25].reshape(1, -1)))])\n",
    "exp = explainer.explain_instance(dataset.test[25], log_reg.predict, threshold=0.95)\n",
    "print('Anchor: %s' % (' AND '.join(exp.names())))\n",
    "print('Precision: %.2f' % exp.precision())\n",
    "print('Coverage: %.2f' % exp.coverage())"
   ]
  },
  {
   "cell_type": "markdown",
   "id": "second-burns",
   "metadata": {},
   "source": [
    "Here are some more examples"
   ]
  },
  {
   "cell_type": "code",
   "execution_count": 42,
   "id": "concerned-habitat",
   "metadata": {},
   "outputs": [
    {
     "name": "stdout",
     "output_type": "stream",
     "text": [
      "0 Neural Network Prediction:  Defaulted\n",
      "Anchor: interestRate > 0.51 AND rateSubvention = No\n",
      "Precision: 0.98\n",
      "Coverage: 0.49\n",
      "1 Neural Network Prediction:  Defaulted\n",
      "Anchor: interestRate > 0.69 AND rateSubvention = No\n",
      "Precision: 0.99\n",
      "Coverage: 0.24\n",
      "2 Neural Network Prediction:  Defaulted\n",
      "Anchor: interestRate > 0.51 AND rateSubvention = No\n",
      "Precision: 0.98\n",
      "Coverage: 0.50\n",
      "3 Neural Network Prediction:  Not Defaulted\n",
      "Anchor: rateSubvention = Yes AND interestRate <= 0.51\n",
      "Precision: 1.00\n",
      "Coverage: 0.18\n",
      "4 Neural Network Prediction:  Not Defaulted\n",
      "Anchor: interestRate <= 0.18 AND rateSubvention = Yes\n",
      "Precision: 1.00\n",
      "Coverage: 0.16\n",
      "5 Neural Network Prediction:  Not Defaulted\n",
      "Anchor: interestRate <= 0.18 AND paymentToIncomePercentage = 0.0\n",
      "Precision: 1.00\n",
      "Coverage: 0.00\n",
      "6 Neural Network Prediction:  Not Defaulted\n",
      "Anchor: rateSubvention = Yes AND interestRate <= 0.51\n",
      "Precision: 1.00\n",
      "Coverage: 0.17\n",
      "7 Neural Network Prediction:  Defaulted\n",
      "Anchor: interestRate > 0.18 AND rateSubvention = No AND creditScore <= 0.08 AND 0.72 < originalLoanTerm <= 0.79\n",
      "Precision: 0.97\n",
      "Coverage: 0.45\n",
      "8 Neural Network Prediction:  Not Defaulted\n",
      "Anchor: interestRate <= 0.18 AND rateSubvention = Yes\n",
      "Precision: 1.00\n",
      "Coverage: 0.16\n",
      "9 Neural Network Prediction:  Defaulted\n",
      "Anchor: interestRate > 0.51 AND rateSubvention = No\n",
      "Precision: 0.97\n",
      "Coverage: 0.49\n",
      "10 Neural Network Prediction:  Not Defaulted\n",
      "Anchor: interestRate <= 0.18\n",
      "Precision: 0.95\n",
      "Coverage: 0.24\n",
      "11 Neural Network Prediction:  Not Defaulted\n",
      "Anchor: interestRate <= 0.18\n",
      "Precision: 0.95\n",
      "Coverage: 0.25\n",
      "12 Neural Network Prediction:  Defaulted\n",
      "Anchor: interestRate > 0.69 AND rateSubvention = No\n",
      "Precision: 0.99\n",
      "Coverage: 0.24\n",
      "13 Neural Network Prediction:  Not Defaulted\n",
      "Anchor: interestRate <= 0.18\n",
      "Precision: 0.95\n",
      "Coverage: 0.25\n",
      "14 Neural Network Prediction:  Defaulted\n",
      "Anchor: interestRate > 0.51 AND rateSubvention = No\n",
      "Precision: 0.97\n",
      "Coverage: 0.49\n",
      "15 Neural Network Prediction:  Defaulted\n",
      "Anchor: interestRate > 0.51 AND creditScore <= 0.07\n",
      "Precision: 0.98\n",
      "Coverage: 0.42\n",
      "16 Neural Network Prediction:  Defaulted\n",
      "Anchor: interestRate > 0.18 AND vehicleValueAmount <= 0.07 AND originalLoanTerm > 0.72 AND underwritingIndicator = 1.0 AND creditScore <= 0.08\n",
      "Precision: 0.96\n",
      "Coverage: 0.16\n",
      "17 Neural Network Prediction:  Defaulted\n",
      "Anchor: interestRate > 0.69 AND rateSubvention = No\n",
      "Precision: 0.99\n",
      "Coverage: 0.23\n",
      "18 Neural Network Prediction:  Defaulted\n",
      "Anchor: interestRate > 0.51 AND rateSubvention = No\n",
      "Precision: 0.97\n",
      "Coverage: 0.49\n",
      "19 Neural Network Prediction:  Not Defaulted\n",
      "Anchor: interestRate <= 0.18 AND rateSubvention = Yes\n",
      "Precision: 1.00\n",
      "Coverage: 0.16\n",
      "20 Neural Network Prediction:  Defaulted\n"
     ]
    },
    {
     "ename": "KeyboardInterrupt",
     "evalue": "",
     "output_type": "error",
     "traceback": [
      "\u001b[1;31m---------------------------------------------------------------------------\u001b[0m",
      "\u001b[1;31mKeyboardInterrupt\u001b[0m                         Traceback (most recent call last)",
      "\u001b[1;32m<ipython-input-42-2a077b8dbbf2>\u001b[0m in \u001b[0;36m<module>\u001b[1;34m\u001b[0m\n\u001b[0;32m      1\u001b[0m \u001b[1;32mfor\u001b[0m \u001b[0midx\u001b[0m \u001b[1;32min\u001b[0m \u001b[0mrange\u001b[0m\u001b[1;33m(\u001b[0m\u001b[0mlen\u001b[0m\u001b[1;33m(\u001b[0m\u001b[0mdataset\u001b[0m\u001b[1;33m.\u001b[0m\u001b[0mtest\u001b[0m\u001b[1;33m)\u001b[0m\u001b[1;33m)\u001b[0m\u001b[1;33m:\u001b[0m\u001b[1;33m\u001b[0m\u001b[1;33m\u001b[0m\u001b[0m\n\u001b[0;32m      2\u001b[0m     \u001b[0mprint\u001b[0m\u001b[1;33m(\u001b[0m\u001b[0mstr\u001b[0m\u001b[1;33m(\u001b[0m\u001b[0midx\u001b[0m\u001b[1;33m)\u001b[0m \u001b[1;33m+\u001b[0m \u001b[1;34m' Neural Network Prediction: '\u001b[0m\u001b[1;33m,\u001b[0m \u001b[0mexplainer\u001b[0m\u001b[1;33m.\u001b[0m\u001b[0mclass_names\u001b[0m\u001b[1;33m[\u001b[0m\u001b[0mint\u001b[0m\u001b[1;33m(\u001b[0m\u001b[0mgs\u001b[0m\u001b[1;33m.\u001b[0m\u001b[0mpredict\u001b[0m\u001b[1;33m(\u001b[0m\u001b[0mdataset\u001b[0m\u001b[1;33m.\u001b[0m\u001b[0mtest\u001b[0m\u001b[1;33m[\u001b[0m\u001b[0midx\u001b[0m\u001b[1;33m]\u001b[0m\u001b[1;33m)\u001b[0m\u001b[1;33m)\u001b[0m\u001b[1;33m]\u001b[0m\u001b[1;33m)\u001b[0m\u001b[1;33m\u001b[0m\u001b[1;33m\u001b[0m\u001b[0m\n\u001b[1;32m----> 3\u001b[1;33m     \u001b[0mexp\u001b[0m \u001b[1;33m=\u001b[0m \u001b[0mexplainer\u001b[0m\u001b[1;33m.\u001b[0m\u001b[0mexplain_instance\u001b[0m\u001b[1;33m(\u001b[0m\u001b[0mdataset\u001b[0m\u001b[1;33m.\u001b[0m\u001b[0mtest\u001b[0m\u001b[1;33m[\u001b[0m\u001b[0midx\u001b[0m\u001b[1;33m]\u001b[0m\u001b[1;33m,\u001b[0m \u001b[0mpredict_and_flatten\u001b[0m\u001b[1;33m,\u001b[0m \u001b[0mthreshold\u001b[0m\u001b[1;33m=\u001b[0m\u001b[1;36m0.95\u001b[0m\u001b[1;33m)\u001b[0m\u001b[1;33m\u001b[0m\u001b[1;33m\u001b[0m\u001b[0m\n\u001b[0m\u001b[0;32m      4\u001b[0m     \u001b[0mprint\u001b[0m\u001b[1;33m(\u001b[0m\u001b[1;34m'Anchor: %s'\u001b[0m \u001b[1;33m%\u001b[0m \u001b[1;33m(\u001b[0m\u001b[1;34m' AND '\u001b[0m\u001b[1;33m.\u001b[0m\u001b[0mjoin\u001b[0m\u001b[1;33m(\u001b[0m\u001b[0mexp\u001b[0m\u001b[1;33m.\u001b[0m\u001b[0mnames\u001b[0m\u001b[1;33m(\u001b[0m\u001b[1;33m)\u001b[0m\u001b[1;33m)\u001b[0m\u001b[1;33m)\u001b[0m\u001b[1;33m)\u001b[0m\u001b[1;33m\u001b[0m\u001b[1;33m\u001b[0m\u001b[0m\n\u001b[0;32m      5\u001b[0m     \u001b[0mprint\u001b[0m\u001b[1;33m(\u001b[0m\u001b[1;34m'Precision: %.2f'\u001b[0m \u001b[1;33m%\u001b[0m \u001b[0mexp\u001b[0m\u001b[1;33m.\u001b[0m\u001b[0mprecision\u001b[0m\u001b[1;33m(\u001b[0m\u001b[1;33m)\u001b[0m\u001b[1;33m)\u001b[0m\u001b[1;33m\u001b[0m\u001b[1;33m\u001b[0m\u001b[0m\n",
      "\u001b[1;32mc:\\users\\kevin\\appdata\\local\\programs\\python\\python39\\lib\\site-packages\\anchor\\anchor_tabular.py\u001b[0m in \u001b[0;36mexplain_instance\u001b[1;34m(self, data_row, classifier_fn, threshold, delta, tau, batch_size, max_anchor_size, desired_label, beam_size, **kwargs)\u001b[0m\n\u001b[0;32m    276\u001b[0m             data_row, classifier_fn, desired_label=desired_label)\n\u001b[0;32m    277\u001b[0m         \u001b[1;31m# return sample_fn, mapping\u001b[0m\u001b[1;33m\u001b[0m\u001b[1;33m\u001b[0m\u001b[1;33m\u001b[0m\u001b[0m\n\u001b[1;32m--> 278\u001b[1;33m         exp = anchor_base.AnchorBaseBeam.anchor_beam(\n\u001b[0m\u001b[0;32m    279\u001b[0m             \u001b[0msample_fn\u001b[0m\u001b[1;33m,\u001b[0m \u001b[0mdelta\u001b[0m\u001b[1;33m=\u001b[0m\u001b[0mdelta\u001b[0m\u001b[1;33m,\u001b[0m \u001b[0mepsilon\u001b[0m\u001b[1;33m=\u001b[0m\u001b[0mtau\u001b[0m\u001b[1;33m,\u001b[0m \u001b[0mbatch_size\u001b[0m\u001b[1;33m=\u001b[0m\u001b[0mbatch_size\u001b[0m\u001b[1;33m,\u001b[0m\u001b[1;33m\u001b[0m\u001b[1;33m\u001b[0m\u001b[0m\n\u001b[0;32m    280\u001b[0m             \u001b[0mdesired_confidence\u001b[0m\u001b[1;33m=\u001b[0m\u001b[0mthreshold\u001b[0m\u001b[1;33m,\u001b[0m \u001b[0mmax_anchor_size\u001b[0m\u001b[1;33m=\u001b[0m\u001b[0mmax_anchor_size\u001b[0m\u001b[1;33m,\u001b[0m\u001b[1;33m\u001b[0m\u001b[1;33m\u001b[0m\u001b[0m\n",
      "\u001b[1;32mc:\\users\\kevin\\appdata\\local\\programs\\python\\python39\\lib\\site-packages\\anchor\\anchor_base.py\u001b[0m in \u001b[0;36manchor_beam\u001b[1;34m(sample_fn, delta, epsilon, batch_size, min_shared_samples, desired_confidence, beam_size, verbose, epsilon_stop, min_samples_start, max_anchor_size, verbose_every, stop_on_first, coverage_samples)\u001b[0m\n\u001b[0;32m    312\u001b[0m                                                                   state)\n\u001b[0;32m    313\u001b[0m             \u001b[1;31m# print tuples, beam_size\u001b[0m\u001b[1;33m\u001b[0m\u001b[1;33m\u001b[0m\u001b[1;33m\u001b[0m\u001b[0m\n\u001b[1;32m--> 314\u001b[1;33m             chosen_tuples = AnchorBaseBeam.lucb(\n\u001b[0m\u001b[0;32m    315\u001b[0m                 \u001b[0msample_fns\u001b[0m\u001b[1;33m,\u001b[0m \u001b[0minitial_stats\u001b[0m\u001b[1;33m,\u001b[0m \u001b[0mepsilon\u001b[0m\u001b[1;33m,\u001b[0m \u001b[0mdelta\u001b[0m\u001b[1;33m,\u001b[0m \u001b[0mbatch_size\u001b[0m\u001b[1;33m,\u001b[0m\u001b[1;33m\u001b[0m\u001b[1;33m\u001b[0m\u001b[0m\n\u001b[0;32m    316\u001b[0m                 \u001b[0mmin\u001b[0m\u001b[1;33m(\u001b[0m\u001b[0mbeam_size\u001b[0m\u001b[1;33m,\u001b[0m \u001b[0mlen\u001b[0m\u001b[1;33m(\u001b[0m\u001b[0mtuples\u001b[0m\u001b[1;33m)\u001b[0m\u001b[1;33m)\u001b[0m\u001b[1;33m,\u001b[0m\u001b[1;33m\u001b[0m\u001b[1;33m\u001b[0m\u001b[0m\n",
      "\u001b[1;32mc:\\users\\kevin\\appdata\\local\\programs\\python\\python39\\lib\\site-packages\\anchor\\anchor_base.py\u001b[0m in \u001b[0;36mlucb\u001b[1;34m(sample_fns, initial_stats, epsilon, delta, batch_size, top_n, verbose, verbose_every)\u001b[0m\n\u001b[0;32m    105\u001b[0m             \u001b[0mmeans\u001b[0m\u001b[1;33m[\u001b[0m\u001b[0mut\u001b[0m\u001b[1;33m]\u001b[0m \u001b[1;33m=\u001b[0m \u001b[0mpositives\u001b[0m\u001b[1;33m[\u001b[0m\u001b[0mut\u001b[0m\u001b[1;33m]\u001b[0m \u001b[1;33m/\u001b[0m \u001b[0mn_samples\u001b[0m\u001b[1;33m[\u001b[0m\u001b[0mut\u001b[0m\u001b[1;33m]\u001b[0m\u001b[1;33m\u001b[0m\u001b[1;33m\u001b[0m\u001b[0m\n\u001b[0;32m    106\u001b[0m             \u001b[0mn_samples\u001b[0m\u001b[1;33m[\u001b[0m\u001b[0mlt\u001b[0m\u001b[1;33m]\u001b[0m \u001b[1;33m+=\u001b[0m \u001b[0mbatch_size\u001b[0m\u001b[1;33m\u001b[0m\u001b[1;33m\u001b[0m\u001b[0m\n\u001b[1;32m--> 107\u001b[1;33m             \u001b[0mpositives\u001b[0m\u001b[1;33m[\u001b[0m\u001b[0mlt\u001b[0m\u001b[1;33m]\u001b[0m \u001b[1;33m+=\u001b[0m \u001b[0msample_fns\u001b[0m\u001b[1;33m[\u001b[0m\u001b[0mlt\u001b[0m\u001b[1;33m]\u001b[0m\u001b[1;33m(\u001b[0m\u001b[0mbatch_size\u001b[0m\u001b[1;33m)\u001b[0m\u001b[1;33m\u001b[0m\u001b[1;33m\u001b[0m\u001b[0m\n\u001b[0m\u001b[0;32m    108\u001b[0m             \u001b[0mmeans\u001b[0m\u001b[1;33m[\u001b[0m\u001b[0mlt\u001b[0m\u001b[1;33m]\u001b[0m \u001b[1;33m=\u001b[0m \u001b[0mpositives\u001b[0m\u001b[1;33m[\u001b[0m\u001b[0mlt\u001b[0m\u001b[1;33m]\u001b[0m \u001b[1;33m/\u001b[0m \u001b[0mn_samples\u001b[0m\u001b[1;33m[\u001b[0m\u001b[0mlt\u001b[0m\u001b[1;33m]\u001b[0m\u001b[1;33m\u001b[0m\u001b[1;33m\u001b[0m\u001b[0m\n\u001b[0;32m    109\u001b[0m             \u001b[0mt\u001b[0m \u001b[1;33m+=\u001b[0m \u001b[1;36m1\u001b[0m\u001b[1;33m\u001b[0m\u001b[1;33m\u001b[0m\u001b[0m\n",
      "\u001b[1;32mc:\\users\\kevin\\appdata\\local\\programs\\python\\python39\\lib\\site-packages\\anchor\\anchor_base.py\u001b[0m in \u001b[0;36m<lambda>\u001b[1;34m(n, t)\u001b[0m\n\u001b[0;32m    199\u001b[0m             \u001b[1;32mreturn\u001b[0m \u001b[0mlabels\u001b[0m\u001b[1;33m.\u001b[0m\u001b[0msum\u001b[0m\u001b[1;33m(\u001b[0m\u001b[1;33m)\u001b[0m\u001b[1;33m\u001b[0m\u001b[1;33m\u001b[0m\u001b[0m\n\u001b[0;32m    200\u001b[0m         \u001b[1;32mfor\u001b[0m \u001b[0mt\u001b[0m \u001b[1;32min\u001b[0m \u001b[0mtuples\u001b[0m\u001b[1;33m:\u001b[0m\u001b[1;33m\u001b[0m\u001b[1;33m\u001b[0m\u001b[0m\n\u001b[1;32m--> 201\u001b[1;33m             \u001b[0msample_fns\u001b[0m\u001b[1;33m.\u001b[0m\u001b[0mappend\u001b[0m\u001b[1;33m(\u001b[0m\u001b[1;32mlambda\u001b[0m \u001b[0mn\u001b[0m\u001b[1;33m,\u001b[0m \u001b[0mt\u001b[0m\u001b[1;33m=\u001b[0m\u001b[0mt\u001b[0m\u001b[1;33m:\u001b[0m \u001b[0mcomplete_sample_fn\u001b[0m\u001b[1;33m(\u001b[0m\u001b[0mt\u001b[0m\u001b[1;33m,\u001b[0m \u001b[0mn\u001b[0m\u001b[1;33m)\u001b[0m\u001b[1;33m)\u001b[0m\u001b[1;33m\u001b[0m\u001b[1;33m\u001b[0m\u001b[0m\n\u001b[0m\u001b[0;32m    202\u001b[0m         \u001b[1;32mreturn\u001b[0m \u001b[0msample_fns\u001b[0m\u001b[1;33m\u001b[0m\u001b[1;33m\u001b[0m\u001b[0m\n\u001b[0;32m    203\u001b[0m \u001b[1;33m\u001b[0m\u001b[0m\n",
      "\u001b[1;32mc:\\users\\kevin\\appdata\\local\\programs\\python\\python39\\lib\\site-packages\\anchor\\anchor_base.py\u001b[0m in \u001b[0;36mcomplete_sample_fn\u001b[1;34m(t, n)\u001b[0m\n\u001b[0;32m    169\u001b[0m         \u001b[0msample_fns\u001b[0m \u001b[1;33m=\u001b[0m \u001b[1;33m[\u001b[0m\u001b[1;33m]\u001b[0m\u001b[1;33m\u001b[0m\u001b[1;33m\u001b[0m\u001b[0m\n\u001b[0;32m    170\u001b[0m         \u001b[1;32mdef\u001b[0m \u001b[0mcomplete_sample_fn\u001b[0m\u001b[1;33m(\u001b[0m\u001b[0mt\u001b[0m\u001b[1;33m,\u001b[0m \u001b[0mn\u001b[0m\u001b[1;33m)\u001b[0m\u001b[1;33m:\u001b[0m\u001b[1;33m\u001b[0m\u001b[1;33m\u001b[0m\u001b[0m\n\u001b[1;32m--> 171\u001b[1;33m             \u001b[0mraw_data\u001b[0m\u001b[1;33m,\u001b[0m \u001b[0mdata\u001b[0m\u001b[1;33m,\u001b[0m \u001b[0mlabels\u001b[0m \u001b[1;33m=\u001b[0m \u001b[0msample_fn\u001b[0m\u001b[1;33m(\u001b[0m\u001b[0mlist\u001b[0m\u001b[1;33m(\u001b[0m\u001b[0mt\u001b[0m\u001b[1;33m)\u001b[0m\u001b[1;33m,\u001b[0m \u001b[0mn\u001b[0m\u001b[1;33m)\u001b[0m\u001b[1;33m\u001b[0m\u001b[1;33m\u001b[0m\u001b[0m\n\u001b[0m\u001b[0;32m    172\u001b[0m             \u001b[0mcurrent_idx\u001b[0m \u001b[1;33m=\u001b[0m \u001b[0mstate\u001b[0m\u001b[1;33m[\u001b[0m\u001b[1;34m'current_idx'\u001b[0m\u001b[1;33m]\u001b[0m\u001b[1;33m\u001b[0m\u001b[1;33m\u001b[0m\u001b[0m\n\u001b[0;32m    173\u001b[0m             \u001b[1;31m# idxs = range(state['data'].shape[0], state['data'].shape[0] + n)\u001b[0m\u001b[1;33m\u001b[0m\u001b[1;33m\u001b[0m\u001b[1;33m\u001b[0m\u001b[0m\n",
      "\u001b[1;32mc:\\users\\kevin\\appdata\\local\\programs\\python\\python39\\lib\\site-packages\\anchor\\anchor_tabular.py\u001b[0m in \u001b[0;36msample_fn\u001b[1;34m(present, num_samples, compute_labels)\u001b[0m\n\u001b[0;32m    248\u001b[0m                     \u001b[0mconditions_geq\u001b[0m\u001b[1;33m[\u001b[0m\u001b[0mf\u001b[0m\u001b[1;33m]\u001b[0m \u001b[1;33m=\u001b[0m \u001b[0mmax\u001b[0m\u001b[1;33m(\u001b[0m\u001b[0mconditions_geq\u001b[0m\u001b[1;33m[\u001b[0m\u001b[0mf\u001b[0m\u001b[1;33m]\u001b[0m\u001b[1;33m,\u001b[0m \u001b[0mv\u001b[0m\u001b[1;33m)\u001b[0m\u001b[1;33m\u001b[0m\u001b[1;33m\u001b[0m\u001b[0m\n\u001b[0;32m    249\u001b[0m             \u001b[1;31m# conditions_eq = dict([(x, data_row[x]) for x in present])\u001b[0m\u001b[1;33m\u001b[0m\u001b[1;33m\u001b[0m\u001b[1;33m\u001b[0m\u001b[0m\n\u001b[1;32m--> 250\u001b[1;33m             raw_data = self.sample_from_train(\n\u001b[0m\u001b[0;32m    251\u001b[0m                 conditions_eq, {}, conditions_geq, conditions_leq, num_samples)\n\u001b[0;32m    252\u001b[0m             \u001b[0md_raw_data\u001b[0m \u001b[1;33m=\u001b[0m \u001b[0mself\u001b[0m\u001b[1;33m.\u001b[0m\u001b[0mdisc\u001b[0m\u001b[1;33m.\u001b[0m\u001b[0mdiscretize\u001b[0m\u001b[1;33m(\u001b[0m\u001b[0mraw_data\u001b[0m\u001b[1;33m)\u001b[0m\u001b[1;33m\u001b[0m\u001b[1;33m\u001b[0m\u001b[0m\n",
      "\u001b[1;32mc:\\users\\kevin\\appdata\\local\\programs\\python\\python39\\lib\\site-packages\\anchor\\anchor_tabular.py\u001b[0m in \u001b[0;36msample_from_train\u001b[1;34m(self, conditions_eq, conditions_neq, conditions_geq, conditions_leq, num_samples)\u001b[0m\n\u001b[0;32m     87\u001b[0m             \u001b[1;32mif\u001b[0m \u001b[0midx\u001b[0m\u001b[1;33m.\u001b[0m\u001b[0msum\u001b[0m\u001b[1;33m(\u001b[0m\u001b[1;33m)\u001b[0m \u001b[1;33m==\u001b[0m \u001b[1;36m0\u001b[0m\u001b[1;33m:\u001b[0m\u001b[1;33m\u001b[0m\u001b[1;33m\u001b[0m\u001b[0m\n\u001b[0;32m     88\u001b[0m                 \u001b[1;32mcontinue\u001b[0m\u001b[1;33m\u001b[0m\u001b[1;33m\u001b[0m\u001b[0m\n\u001b[1;32m---> 89\u001b[1;33m             \u001b[0moptions\u001b[0m \u001b[1;33m=\u001b[0m \u001b[0md_train\u001b[0m\u001b[1;33m[\u001b[0m\u001b[1;33m:\u001b[0m\u001b[1;33m,\u001b[0m \u001b[0mf\u001b[0m\u001b[1;33m]\u001b[0m \u001b[1;33m>\u001b[0m \u001b[0mconditions_geq\u001b[0m\u001b[1;33m[\u001b[0m\u001b[0mf\u001b[0m\u001b[1;33m]\u001b[0m\u001b[1;33m\u001b[0m\u001b[1;33m\u001b[0m\u001b[0m\n\u001b[0m\u001b[0;32m     90\u001b[0m             \u001b[1;32mif\u001b[0m \u001b[0mf\u001b[0m \u001b[1;32min\u001b[0m \u001b[0mconditions_leq\u001b[0m\u001b[1;33m:\u001b[0m\u001b[1;33m\u001b[0m\u001b[1;33m\u001b[0m\u001b[0m\n\u001b[0;32m     91\u001b[0m                 \u001b[0moptions\u001b[0m \u001b[1;33m=\u001b[0m \u001b[0moptions\u001b[0m \u001b[1;33m*\u001b[0m \u001b[1;33m(\u001b[0m\u001b[0md_train\u001b[0m\u001b[1;33m[\u001b[0m\u001b[1;33m:\u001b[0m\u001b[1;33m,\u001b[0m \u001b[0mf\u001b[0m\u001b[1;33m]\u001b[0m \u001b[1;33m<=\u001b[0m \u001b[0mconditions_leq\u001b[0m\u001b[1;33m[\u001b[0m\u001b[0mf\u001b[0m\u001b[1;33m]\u001b[0m\u001b[1;33m)\u001b[0m\u001b[1;33m\u001b[0m\u001b[1;33m\u001b[0m\u001b[0m\n",
      "\u001b[1;31mKeyboardInterrupt\u001b[0m: "
     ]
    }
   ],
   "source": [
    "for idx in range(len(dataset.test)):\n",
    "    print(str(idx) + ' Neural Network Prediction: ', explainer.class_names[int(gs.predict(dataset.test[idx]))])\n",
    "    exp = explainer.explain_instance(dataset.test[idx], predict_and_flatten, threshold=0.95)\n",
    "    print('Anchor: %s' % (' AND '.join(exp.names())))\n",
    "    print('Precision: %.2f' % exp.precision())\n",
    "    print('Coverage: %.2f' % exp.coverage())"
   ]
  },
  {
   "cell_type": "code",
   "execution_count": 43,
   "id": "prospective-ideal",
   "metadata": {
    "scrolled": false
   },
   "outputs": [
    {
     "name": "stdout",
     "output_type": "stream",
     "text": [
      "0 Logistic Regression Prediction:  Defaulted\n",
      "Anchor: interestRate > 0.51 AND rateSubvention = No AND incomeVerifiedIndicator = -1 AND creditScore <= 0.08\n",
      "Precision: 0.98\n",
      "Coverage: 0.41\n",
      "1 Logistic Regression Prediction:  Defaulted\n",
      "Anchor: interestRate > 0.69 AND rateSubvention = No\n",
      "Precision: 0.97\n",
      "Coverage: 0.24\n",
      "2 Logistic Regression Prediction:  Defaulted\n",
      "Anchor: interestRate > 0.51 AND usedIndicator = Used Vehicle AND Stated, Verified Employment = No\n",
      "Precision: 0.96\n",
      "Coverage: 0.33\n",
      "3 Logistic Regression Prediction:  Not Defaulted\n",
      "Anchor: interestRate <= 0.51 AND cashRebateSubvention = Yes\n",
      "Precision: 1.00\n",
      "Coverage: 0.10\n",
      "4 Logistic Regression Prediction:  Not Defaulted\n",
      "Anchor: interestRate <= 0.18\n",
      "Precision: 0.99\n",
      "Coverage: 0.25\n",
      "5 Logistic Regression Prediction:  Not Defaulted\n",
      "Anchor: interestRate <= 0.18\n",
      "Precision: 1.00\n",
      "Coverage: 0.25\n",
      "6 Logistic Regression Prediction:  Not Defaulted\n",
      "Anchor: interestRate <= 0.51 AND rateSubvention = Yes\n",
      "Precision: 1.00\n",
      "Coverage: 0.17\n",
      "7 Logistic Regression Prediction:  Defaulted\n",
      "Anchor: interestRate > 0.18 AND creditScore <= 0.08 AND 0.72 < originalLoanTerm <= 0.79 AND incomeVerifiedIndicator = -1 AND vehicleValueAmount <= 0.12 AND Scheduled Payment Amount > 0.08 AND SUV = No\n",
      "Precision: 0.95\n",
      "Coverage: 0.19\n",
      "8 Logistic Regression Prediction:  Not Defaulted\n",
      "Anchor: interestRate <= 0.18\n",
      "Precision: 1.00\n",
      "Coverage: 0.25\n",
      "9 Logistic Regression Prediction:  Defaulted\n",
      "Anchor: interestRate > 0.51 AND creditScore <= 0.07 AND incomeVerifiedIndicator = -1\n",
      "Precision: 0.99\n",
      "Coverage: 0.35\n",
      "10 Logistic Regression Prediction:  Not Defaulted\n",
      "Anchor: interestRate <= 0.18\n",
      "Precision: 1.00\n",
      "Coverage: 0.25\n",
      "11 Logistic Regression Prediction:  Not Defaulted\n",
      "Anchor: interestRate <= 0.18\n",
      "Precision: 1.00\n",
      "Coverage: 0.25\n",
      "12 Logistic Regression Prediction:  Defaulted\n",
      "Anchor: interestRate > 0.69 AND vehicleValueAmount <= 0.09\n",
      "Precision: 0.97\n",
      "Coverage: 0.19\n",
      "13 Logistic Regression Prediction:  Not Defaulted\n",
      "Anchor: interestRate <= 0.18\n",
      "Precision: 1.00\n",
      "Coverage: 0.25\n",
      "14 Logistic Regression Prediction:  Defaulted\n",
      "Anchor: interestRate > 0.51 AND creditScore <= 0.07 AND Stated, Verified Employment = No\n",
      "Precision: 0.98\n",
      "Coverage: 0.38\n",
      "15 Logistic Regression Prediction:  Defaulted\n",
      "Anchor: interestRate > 0.51 AND vehicleValueAmount <= 0.07\n",
      "Precision: 0.97\n",
      "Coverage: 0.19\n",
      "16 Logistic Regression Prediction:  Defaulted\n",
      "Anchor: interestRate > 0.18 AND vehicleValueAmount <= 0.07 AND originalLoanTerm > 0.72 AND incomeVerifiedIndicator = -1 AND originalLoanAmount <= 0.06 AND creditScore <= 0.08 AND underwritingIndicator = 1.0\n",
      "Precision: 0.96\n",
      "Coverage: 0.11\n",
      "17 Logistic Regression Prediction:  Defaulted\n",
      "Anchor: interestRate > 0.69 AND cashRebateSubvention = No\n",
      "Precision: 0.96\n",
      "Coverage: 0.24\n",
      "18 Logistic Regression Prediction:  Defaulted\n",
      "Anchor: interestRate > 0.51 AND vehicleValueAmount <= 0.07\n",
      "Precision: 0.95\n",
      "Coverage: 0.19\n",
      "19 Logistic Regression Prediction:  Not Defaulted\n",
      "Anchor: interestRate <= 0.18\n",
      "Precision: 1.00\n",
      "Coverage: 0.25\n",
      "20 Logistic Regression Prediction:  Defaulted\n",
      "Anchor: interestRate > 0.51 AND vehicleValueAmount <= 0.07 AND Stated, Verified Employment = No\n",
      "Precision: 0.98\n",
      "Coverage: 0.17\n",
      "21 Logistic Regression Prediction:  Not Defaulted\n"
     ]
    },
    {
     "ename": "KeyboardInterrupt",
     "evalue": "",
     "output_type": "error",
     "traceback": [
      "\u001b[1;31m---------------------------------------------------------------------------\u001b[0m",
      "\u001b[1;31mKeyboardInterrupt\u001b[0m                         Traceback (most recent call last)",
      "\u001b[1;32m<ipython-input-43-e458d2352487>\u001b[0m in \u001b[0;36m<module>\u001b[1;34m\u001b[0m\n\u001b[0;32m      1\u001b[0m \u001b[1;32mfor\u001b[0m \u001b[0midx\u001b[0m \u001b[1;32min\u001b[0m \u001b[0mrange\u001b[0m\u001b[1;33m(\u001b[0m\u001b[0mlen\u001b[0m\u001b[1;33m(\u001b[0m\u001b[0mdataset\u001b[0m\u001b[1;33m.\u001b[0m\u001b[0mtest\u001b[0m\u001b[1;33m)\u001b[0m\u001b[1;33m)\u001b[0m\u001b[1;33m:\u001b[0m\u001b[1;33m\u001b[0m\u001b[1;33m\u001b[0m\u001b[0m\n\u001b[0;32m      2\u001b[0m     \u001b[0mprint\u001b[0m\u001b[1;33m(\u001b[0m\u001b[0mstr\u001b[0m\u001b[1;33m(\u001b[0m\u001b[0midx\u001b[0m\u001b[1;33m)\u001b[0m \u001b[1;33m+\u001b[0m \u001b[1;34m' Logistic Regression Prediction: '\u001b[0m\u001b[1;33m,\u001b[0m \u001b[0mexplainer\u001b[0m\u001b[1;33m.\u001b[0m\u001b[0mclass_names\u001b[0m\u001b[1;33m[\u001b[0m\u001b[0mint\u001b[0m\u001b[1;33m(\u001b[0m\u001b[0mlog_reg\u001b[0m\u001b[1;33m.\u001b[0m\u001b[0mpredict\u001b[0m\u001b[1;33m(\u001b[0m\u001b[0mdataset\u001b[0m\u001b[1;33m.\u001b[0m\u001b[0mtest\u001b[0m\u001b[1;33m[\u001b[0m\u001b[0midx\u001b[0m\u001b[1;33m]\u001b[0m\u001b[1;33m.\u001b[0m\u001b[0mreshape\u001b[0m\u001b[1;33m(\u001b[0m\u001b[1;36m1\u001b[0m\u001b[1;33m,\u001b[0m \u001b[1;33m-\u001b[0m\u001b[1;36m1\u001b[0m\u001b[1;33m)\u001b[0m\u001b[1;33m)\u001b[0m\u001b[1;33m)\u001b[0m\u001b[1;33m]\u001b[0m\u001b[1;33m)\u001b[0m\u001b[1;33m\u001b[0m\u001b[1;33m\u001b[0m\u001b[0m\n\u001b[1;32m----> 3\u001b[1;33m     \u001b[0mexp\u001b[0m \u001b[1;33m=\u001b[0m \u001b[0mexplainer\u001b[0m\u001b[1;33m.\u001b[0m\u001b[0mexplain_instance\u001b[0m\u001b[1;33m(\u001b[0m\u001b[0mdataset\u001b[0m\u001b[1;33m.\u001b[0m\u001b[0mtest\u001b[0m\u001b[1;33m[\u001b[0m\u001b[0midx\u001b[0m\u001b[1;33m]\u001b[0m\u001b[1;33m,\u001b[0m \u001b[0mlog_reg\u001b[0m\u001b[1;33m.\u001b[0m\u001b[0mpredict\u001b[0m\u001b[1;33m,\u001b[0m \u001b[0mthreshold\u001b[0m\u001b[1;33m=\u001b[0m\u001b[1;36m0.95\u001b[0m\u001b[1;33m)\u001b[0m\u001b[1;33m\u001b[0m\u001b[1;33m\u001b[0m\u001b[0m\n\u001b[0m\u001b[0;32m      4\u001b[0m     \u001b[0mprint\u001b[0m\u001b[1;33m(\u001b[0m\u001b[1;34m'Anchor: %s'\u001b[0m \u001b[1;33m%\u001b[0m \u001b[1;33m(\u001b[0m\u001b[1;34m' AND '\u001b[0m\u001b[1;33m.\u001b[0m\u001b[0mjoin\u001b[0m\u001b[1;33m(\u001b[0m\u001b[0mexp\u001b[0m\u001b[1;33m.\u001b[0m\u001b[0mnames\u001b[0m\u001b[1;33m(\u001b[0m\u001b[1;33m)\u001b[0m\u001b[1;33m)\u001b[0m\u001b[1;33m)\u001b[0m\u001b[1;33m)\u001b[0m\u001b[1;33m\u001b[0m\u001b[1;33m\u001b[0m\u001b[0m\n\u001b[0;32m      5\u001b[0m     \u001b[0mprint\u001b[0m\u001b[1;33m(\u001b[0m\u001b[1;34m'Precision: %.2f'\u001b[0m \u001b[1;33m%\u001b[0m \u001b[0mexp\u001b[0m\u001b[1;33m.\u001b[0m\u001b[0mprecision\u001b[0m\u001b[1;33m(\u001b[0m\u001b[1;33m)\u001b[0m\u001b[1;33m)\u001b[0m\u001b[1;33m\u001b[0m\u001b[1;33m\u001b[0m\u001b[0m\n",
      "\u001b[1;32mc:\\users\\kevin\\appdata\\local\\programs\\python\\python39\\lib\\site-packages\\anchor\\anchor_tabular.py\u001b[0m in \u001b[0;36mexplain_instance\u001b[1;34m(self, data_row, classifier_fn, threshold, delta, tau, batch_size, max_anchor_size, desired_label, beam_size, **kwargs)\u001b[0m\n\u001b[0;32m    276\u001b[0m             data_row, classifier_fn, desired_label=desired_label)\n\u001b[0;32m    277\u001b[0m         \u001b[1;31m# return sample_fn, mapping\u001b[0m\u001b[1;33m\u001b[0m\u001b[1;33m\u001b[0m\u001b[1;33m\u001b[0m\u001b[0m\n\u001b[1;32m--> 278\u001b[1;33m         exp = anchor_base.AnchorBaseBeam.anchor_beam(\n\u001b[0m\u001b[0;32m    279\u001b[0m             \u001b[0msample_fn\u001b[0m\u001b[1;33m,\u001b[0m \u001b[0mdelta\u001b[0m\u001b[1;33m=\u001b[0m\u001b[0mdelta\u001b[0m\u001b[1;33m,\u001b[0m \u001b[0mepsilon\u001b[0m\u001b[1;33m=\u001b[0m\u001b[0mtau\u001b[0m\u001b[1;33m,\u001b[0m \u001b[0mbatch_size\u001b[0m\u001b[1;33m=\u001b[0m\u001b[0mbatch_size\u001b[0m\u001b[1;33m,\u001b[0m\u001b[1;33m\u001b[0m\u001b[1;33m\u001b[0m\u001b[0m\n\u001b[0;32m    280\u001b[0m             \u001b[0mdesired_confidence\u001b[0m\u001b[1;33m=\u001b[0m\u001b[0mthreshold\u001b[0m\u001b[1;33m,\u001b[0m \u001b[0mmax_anchor_size\u001b[0m\u001b[1;33m=\u001b[0m\u001b[0mmax_anchor_size\u001b[0m\u001b[1;33m,\u001b[0m\u001b[1;33m\u001b[0m\u001b[1;33m\u001b[0m\u001b[0m\n",
      "\u001b[1;32mc:\\users\\kevin\\appdata\\local\\programs\\python\\python39\\lib\\site-packages\\anchor\\anchor_base.py\u001b[0m in \u001b[0;36manchor_beam\u001b[1;34m(sample_fn, delta, epsilon, batch_size, min_shared_samples, desired_confidence, beam_size, verbose, epsilon_stop, min_samples_start, max_anchor_size, verbose_every, stop_on_first, coverage_samples)\u001b[0m\n\u001b[0;32m    312\u001b[0m                                                                   state)\n\u001b[0;32m    313\u001b[0m             \u001b[1;31m# print tuples, beam_size\u001b[0m\u001b[1;33m\u001b[0m\u001b[1;33m\u001b[0m\u001b[1;33m\u001b[0m\u001b[0m\n\u001b[1;32m--> 314\u001b[1;33m             chosen_tuples = AnchorBaseBeam.lucb(\n\u001b[0m\u001b[0;32m    315\u001b[0m                 \u001b[0msample_fns\u001b[0m\u001b[1;33m,\u001b[0m \u001b[0minitial_stats\u001b[0m\u001b[1;33m,\u001b[0m \u001b[0mepsilon\u001b[0m\u001b[1;33m,\u001b[0m \u001b[0mdelta\u001b[0m\u001b[1;33m,\u001b[0m \u001b[0mbatch_size\u001b[0m\u001b[1;33m,\u001b[0m\u001b[1;33m\u001b[0m\u001b[1;33m\u001b[0m\u001b[0m\n\u001b[0;32m    316\u001b[0m                 \u001b[0mmin\u001b[0m\u001b[1;33m(\u001b[0m\u001b[0mbeam_size\u001b[0m\u001b[1;33m,\u001b[0m \u001b[0mlen\u001b[0m\u001b[1;33m(\u001b[0m\u001b[0mtuples\u001b[0m\u001b[1;33m)\u001b[0m\u001b[1;33m)\u001b[0m\u001b[1;33m,\u001b[0m\u001b[1;33m\u001b[0m\u001b[1;33m\u001b[0m\u001b[0m\n",
      "\u001b[1;32mc:\\users\\kevin\\appdata\\local\\programs\\python\\python39\\lib\\site-packages\\anchor\\anchor_base.py\u001b[0m in \u001b[0;36mlucb\u001b[1;34m(sample_fns, initial_stats, epsilon, delta, batch_size, top_n, verbose, verbose_every)\u001b[0m\n\u001b[0;32m    105\u001b[0m             \u001b[0mmeans\u001b[0m\u001b[1;33m[\u001b[0m\u001b[0mut\u001b[0m\u001b[1;33m]\u001b[0m \u001b[1;33m=\u001b[0m \u001b[0mpositives\u001b[0m\u001b[1;33m[\u001b[0m\u001b[0mut\u001b[0m\u001b[1;33m]\u001b[0m \u001b[1;33m/\u001b[0m \u001b[0mn_samples\u001b[0m\u001b[1;33m[\u001b[0m\u001b[0mut\u001b[0m\u001b[1;33m]\u001b[0m\u001b[1;33m\u001b[0m\u001b[1;33m\u001b[0m\u001b[0m\n\u001b[0;32m    106\u001b[0m             \u001b[0mn_samples\u001b[0m\u001b[1;33m[\u001b[0m\u001b[0mlt\u001b[0m\u001b[1;33m]\u001b[0m \u001b[1;33m+=\u001b[0m \u001b[0mbatch_size\u001b[0m\u001b[1;33m\u001b[0m\u001b[1;33m\u001b[0m\u001b[0m\n\u001b[1;32m--> 107\u001b[1;33m             \u001b[0mpositives\u001b[0m\u001b[1;33m[\u001b[0m\u001b[0mlt\u001b[0m\u001b[1;33m]\u001b[0m \u001b[1;33m+=\u001b[0m \u001b[0msample_fns\u001b[0m\u001b[1;33m[\u001b[0m\u001b[0mlt\u001b[0m\u001b[1;33m]\u001b[0m\u001b[1;33m(\u001b[0m\u001b[0mbatch_size\u001b[0m\u001b[1;33m)\u001b[0m\u001b[1;33m\u001b[0m\u001b[1;33m\u001b[0m\u001b[0m\n\u001b[0m\u001b[0;32m    108\u001b[0m             \u001b[0mmeans\u001b[0m\u001b[1;33m[\u001b[0m\u001b[0mlt\u001b[0m\u001b[1;33m]\u001b[0m \u001b[1;33m=\u001b[0m \u001b[0mpositives\u001b[0m\u001b[1;33m[\u001b[0m\u001b[0mlt\u001b[0m\u001b[1;33m]\u001b[0m \u001b[1;33m/\u001b[0m \u001b[0mn_samples\u001b[0m\u001b[1;33m[\u001b[0m\u001b[0mlt\u001b[0m\u001b[1;33m]\u001b[0m\u001b[1;33m\u001b[0m\u001b[1;33m\u001b[0m\u001b[0m\n\u001b[0;32m    109\u001b[0m             \u001b[0mt\u001b[0m \u001b[1;33m+=\u001b[0m \u001b[1;36m1\u001b[0m\u001b[1;33m\u001b[0m\u001b[1;33m\u001b[0m\u001b[0m\n",
      "\u001b[1;32mc:\\users\\kevin\\appdata\\local\\programs\\python\\python39\\lib\\site-packages\\anchor\\anchor_base.py\u001b[0m in \u001b[0;36m<lambda>\u001b[1;34m(n, t)\u001b[0m\n\u001b[0;32m    199\u001b[0m             \u001b[1;32mreturn\u001b[0m \u001b[0mlabels\u001b[0m\u001b[1;33m.\u001b[0m\u001b[0msum\u001b[0m\u001b[1;33m(\u001b[0m\u001b[1;33m)\u001b[0m\u001b[1;33m\u001b[0m\u001b[1;33m\u001b[0m\u001b[0m\n\u001b[0;32m    200\u001b[0m         \u001b[1;32mfor\u001b[0m \u001b[0mt\u001b[0m \u001b[1;32min\u001b[0m \u001b[0mtuples\u001b[0m\u001b[1;33m:\u001b[0m\u001b[1;33m\u001b[0m\u001b[1;33m\u001b[0m\u001b[0m\n\u001b[1;32m--> 201\u001b[1;33m             \u001b[0msample_fns\u001b[0m\u001b[1;33m.\u001b[0m\u001b[0mappend\u001b[0m\u001b[1;33m(\u001b[0m\u001b[1;32mlambda\u001b[0m \u001b[0mn\u001b[0m\u001b[1;33m,\u001b[0m \u001b[0mt\u001b[0m\u001b[1;33m=\u001b[0m\u001b[0mt\u001b[0m\u001b[1;33m:\u001b[0m \u001b[0mcomplete_sample_fn\u001b[0m\u001b[1;33m(\u001b[0m\u001b[0mt\u001b[0m\u001b[1;33m,\u001b[0m \u001b[0mn\u001b[0m\u001b[1;33m)\u001b[0m\u001b[1;33m)\u001b[0m\u001b[1;33m\u001b[0m\u001b[1;33m\u001b[0m\u001b[0m\n\u001b[0m\u001b[0;32m    202\u001b[0m         \u001b[1;32mreturn\u001b[0m \u001b[0msample_fns\u001b[0m\u001b[1;33m\u001b[0m\u001b[1;33m\u001b[0m\u001b[0m\n\u001b[0;32m    203\u001b[0m \u001b[1;33m\u001b[0m\u001b[0m\n",
      "\u001b[1;32mc:\\users\\kevin\\appdata\\local\\programs\\python\\python39\\lib\\site-packages\\anchor\\anchor_base.py\u001b[0m in \u001b[0;36mcomplete_sample_fn\u001b[1;34m(t, n)\u001b[0m\n\u001b[0;32m    169\u001b[0m         \u001b[0msample_fns\u001b[0m \u001b[1;33m=\u001b[0m \u001b[1;33m[\u001b[0m\u001b[1;33m]\u001b[0m\u001b[1;33m\u001b[0m\u001b[1;33m\u001b[0m\u001b[0m\n\u001b[0;32m    170\u001b[0m         \u001b[1;32mdef\u001b[0m \u001b[0mcomplete_sample_fn\u001b[0m\u001b[1;33m(\u001b[0m\u001b[0mt\u001b[0m\u001b[1;33m,\u001b[0m \u001b[0mn\u001b[0m\u001b[1;33m)\u001b[0m\u001b[1;33m:\u001b[0m\u001b[1;33m\u001b[0m\u001b[1;33m\u001b[0m\u001b[0m\n\u001b[1;32m--> 171\u001b[1;33m             \u001b[0mraw_data\u001b[0m\u001b[1;33m,\u001b[0m \u001b[0mdata\u001b[0m\u001b[1;33m,\u001b[0m \u001b[0mlabels\u001b[0m \u001b[1;33m=\u001b[0m \u001b[0msample_fn\u001b[0m\u001b[1;33m(\u001b[0m\u001b[0mlist\u001b[0m\u001b[1;33m(\u001b[0m\u001b[0mt\u001b[0m\u001b[1;33m)\u001b[0m\u001b[1;33m,\u001b[0m \u001b[0mn\u001b[0m\u001b[1;33m)\u001b[0m\u001b[1;33m\u001b[0m\u001b[1;33m\u001b[0m\u001b[0m\n\u001b[0m\u001b[0;32m    172\u001b[0m             \u001b[0mcurrent_idx\u001b[0m \u001b[1;33m=\u001b[0m \u001b[0mstate\u001b[0m\u001b[1;33m[\u001b[0m\u001b[1;34m'current_idx'\u001b[0m\u001b[1;33m]\u001b[0m\u001b[1;33m\u001b[0m\u001b[1;33m\u001b[0m\u001b[0m\n\u001b[0;32m    173\u001b[0m             \u001b[1;31m# idxs = range(state['data'].shape[0], state['data'].shape[0] + n)\u001b[0m\u001b[1;33m\u001b[0m\u001b[1;33m\u001b[0m\u001b[1;33m\u001b[0m\u001b[0m\n",
      "\u001b[1;32mc:\\users\\kevin\\appdata\\local\\programs\\python\\python39\\lib\\site-packages\\anchor\\anchor_tabular.py\u001b[0m in \u001b[0;36msample_fn\u001b[1;34m(present, num_samples, compute_labels)\u001b[0m\n\u001b[0;32m    248\u001b[0m                     \u001b[0mconditions_geq\u001b[0m\u001b[1;33m[\u001b[0m\u001b[0mf\u001b[0m\u001b[1;33m]\u001b[0m \u001b[1;33m=\u001b[0m \u001b[0mmax\u001b[0m\u001b[1;33m(\u001b[0m\u001b[0mconditions_geq\u001b[0m\u001b[1;33m[\u001b[0m\u001b[0mf\u001b[0m\u001b[1;33m]\u001b[0m\u001b[1;33m,\u001b[0m \u001b[0mv\u001b[0m\u001b[1;33m)\u001b[0m\u001b[1;33m\u001b[0m\u001b[1;33m\u001b[0m\u001b[0m\n\u001b[0;32m    249\u001b[0m             \u001b[1;31m# conditions_eq = dict([(x, data_row[x]) for x in present])\u001b[0m\u001b[1;33m\u001b[0m\u001b[1;33m\u001b[0m\u001b[1;33m\u001b[0m\u001b[0m\n\u001b[1;32m--> 250\u001b[1;33m             raw_data = self.sample_from_train(\n\u001b[0m\u001b[0;32m    251\u001b[0m                 conditions_eq, {}, conditions_geq, conditions_leq, num_samples)\n\u001b[0;32m    252\u001b[0m             \u001b[0md_raw_data\u001b[0m \u001b[1;33m=\u001b[0m \u001b[0mself\u001b[0m\u001b[1;33m.\u001b[0m\u001b[0mdisc\u001b[0m\u001b[1;33m.\u001b[0m\u001b[0mdiscretize\u001b[0m\u001b[1;33m(\u001b[0m\u001b[0mraw_data\u001b[0m\u001b[1;33m)\u001b[0m\u001b[1;33m\u001b[0m\u001b[1;33m\u001b[0m\u001b[0m\n",
      "\u001b[1;32mc:\\users\\kevin\\appdata\\local\\programs\\python\\python39\\lib\\site-packages\\anchor\\anchor_tabular.py\u001b[0m in \u001b[0;36msample_from_train\u001b[1;34m(self, conditions_eq, conditions_neq, conditions_geq, conditions_leq, num_samples)\u001b[0m\n\u001b[0;32m     87\u001b[0m             \u001b[1;32mif\u001b[0m \u001b[0midx\u001b[0m\u001b[1;33m.\u001b[0m\u001b[0msum\u001b[0m\u001b[1;33m(\u001b[0m\u001b[1;33m)\u001b[0m \u001b[1;33m==\u001b[0m \u001b[1;36m0\u001b[0m\u001b[1;33m:\u001b[0m\u001b[1;33m\u001b[0m\u001b[1;33m\u001b[0m\u001b[0m\n\u001b[0;32m     88\u001b[0m                 \u001b[1;32mcontinue\u001b[0m\u001b[1;33m\u001b[0m\u001b[1;33m\u001b[0m\u001b[0m\n\u001b[1;32m---> 89\u001b[1;33m             \u001b[0moptions\u001b[0m \u001b[1;33m=\u001b[0m \u001b[0md_train\u001b[0m\u001b[1;33m[\u001b[0m\u001b[1;33m:\u001b[0m\u001b[1;33m,\u001b[0m \u001b[0mf\u001b[0m\u001b[1;33m]\u001b[0m \u001b[1;33m>\u001b[0m \u001b[0mconditions_geq\u001b[0m\u001b[1;33m[\u001b[0m\u001b[0mf\u001b[0m\u001b[1;33m]\u001b[0m\u001b[1;33m\u001b[0m\u001b[1;33m\u001b[0m\u001b[0m\n\u001b[0m\u001b[0;32m     90\u001b[0m             \u001b[1;32mif\u001b[0m \u001b[0mf\u001b[0m \u001b[1;32min\u001b[0m \u001b[0mconditions_leq\u001b[0m\u001b[1;33m:\u001b[0m\u001b[1;33m\u001b[0m\u001b[1;33m\u001b[0m\u001b[0m\n\u001b[0;32m     91\u001b[0m                 \u001b[0moptions\u001b[0m \u001b[1;33m=\u001b[0m \u001b[0moptions\u001b[0m \u001b[1;33m*\u001b[0m \u001b[1;33m(\u001b[0m\u001b[0md_train\u001b[0m\u001b[1;33m[\u001b[0m\u001b[1;33m:\u001b[0m\u001b[1;33m,\u001b[0m \u001b[0mf\u001b[0m\u001b[1;33m]\u001b[0m \u001b[1;33m<=\u001b[0m \u001b[0mconditions_leq\u001b[0m\u001b[1;33m[\u001b[0m\u001b[0mf\u001b[0m\u001b[1;33m]\u001b[0m\u001b[1;33m)\u001b[0m\u001b[1;33m\u001b[0m\u001b[1;33m\u001b[0m\u001b[0m\n",
      "\u001b[1;31mKeyboardInterrupt\u001b[0m: "
     ]
    }
   ],
   "source": [
    "for idx in range(len(dataset.test)):\n",
    "    print(str(idx) + ' Logistic Regression Prediction: ', explainer.class_names[int(log_reg.predict(dataset.test[idx].reshape(1, -1)))])\n",
    "    exp = explainer.explain_instance(dataset.test[idx], log_reg.predict, threshold=0.95)\n",
    "    print('Anchor: %s' % (' AND '.join(exp.names())))\n",
    "    print('Precision: %.2f' % exp.precision())\n",
    "    print('Coverage: %.2f' % exp.coverage())"
   ]
  },
  {
   "cell_type": "markdown",
   "id": "accessible-shadow",
   "metadata": {},
   "source": [
    "Lets compare this explanation with the logistic regression log odds to see if this aligns with the XAI interpretations"
   ]
  },
  {
   "cell_type": "code",
   "execution_count": 144,
   "id": "cardiac-marsh",
   "metadata": {},
   "outputs": [
    {
     "name": "stdout",
     "output_type": "stream",
     "text": [
      "originalLoanAmount coefficient: -4.306865049187424\n",
      "originalLoanAmount odds: 0.013475729192399529\n",
      "originalLoanTerm coefficient: -0.6840838991230576\n",
      "originalLoanTerm odds: 0.5045522386673531\n",
      "Scheduled Payment Amount coefficient: -8.665094988705706\n",
      "Scheduled Payment Amount odds: 0.0001725031624347721\n",
      "interestRate coefficient: -5.829609679194432\n",
      "interestRate odds: 0.002939223996634915\n",
      "creditScore coefficient: 5.341994303235848\n",
      "creditScore odds: 208.92896279083527\n",
      "incomeVerifiedIndicator coefficient: 2.0098013599304796\n",
      "incomeVerifiedIndicator odds: 7.461834980676051\n",
      "usedIndicator coefficient: 0.5622927982100091\n",
      "usedIndicator odds: 1.7546910441657564\n",
      "underwritingIndicator coefficient: -0.7675286708471938\n",
      "underwritingIndicator odds: 0.46415874108924726\n",
      "gracePeriodNumber coefficient: 0.1788520814508661\n",
      "gracePeriodNumber odds: 1.1958438435984324\n",
      "vehicleValueAmount coefficient: 14.826051214888576\n",
      "vehicleValueAmount odds: 2747085.8445725767\n",
      "coObligorIndicator coefficient: 0.10027485523939657\n",
      "coObligorIndicator odds: 1.1054747218420253\n",
      "paymentToIncomePercentage coefficient: -0.36286286624983366\n",
      "paymentToIncomePercentage odds: 0.6956818284160675\n",
      "assetAddedIndicator coefficient: 6.364809414481381\n",
      "assetAddedIndicator odds: 581.0340810822698\n",
      "rateSubvention coefficient: 0.6422814630180405\n",
      "rateSubvention odds: 1.9008125697123444\n",
      "cashRebateSubvention coefficient: 1.7095896087680151\n",
      "cashRebateSubvention odds: 5.5266929058444285\n",
      "otherSubvention coefficient: 0.36225943204189065\n",
      "otherSubvention odds: 1.4365715863202795\n",
      "Not stated, Not Verified Employment coefficient: -0.26047790745810234\n",
      "Not stated, Not Verified Employment odds: 0.7706831825384749\n",
      "Stated, Not Verified Employment coefficient: 0.33941266709682316\n",
      "Stated, Not Verified Employment odds: 1.4041226608942996\n",
      "Stated, Verified Employment coefficient: 1.000384773007627\n",
      "Stated, Verified Employment odds: 2.7193279511807456\n",
      "Car coefficient: 0.23587659533592498\n",
      "Car odds: 1.2660180679921782\n",
      "Truck coefficient: 0.2668139219949895\n",
      "Truck odds: 1.3057974435393767\n",
      "SUV coefficient: 0.5766290153154043\n",
      "SUV odds: 1.7800278590183212\n"
     ]
    }
   ],
   "source": [
    "import math\n",
    "for i in range(len(explainer.feature_names)):\n",
    "    print(str(explainer.feature_names[i]) + \" coefficient: \" + str((log_reg.coef_[0][i])))  \n",
    "    print(str(explainer.feature_names[i]) + \" odds: \" + str(math.exp(log_reg.coef_[0][i])))    "
   ]
  },
  {
   "cell_type": "markdown",
   "id": "objective-boxing",
   "metadata": {},
   "source": [
    "We see different results than the XAI framework. It is a bit harder to interpret due to the data being min-max normalized, but all else being equal, the odds of default from 1 point change in normalized interest rate (i.e. the difference between the max and min actual interest rate) is changed by a factor of 0.0029. \n",
    "\n",
    "Put differently, this means that all else being equal, a 1 point change in normalized interest rate results in a \n",
    "1 - 0.0029 = 99.71% decrease in the odds of default.\n",
    "\n",
    "What this means is that, counter to the XAI framework, the logistic regression model infers an inverse relationship between interest rate and probability of default. This is counter-intuitive to a conceptual understanding of high interest rates reflecting high risk, and thus high likelihood of default. This can be further investigated by finding the p value for this coefficient to determine if that coefficient is statistically significant. The issue with this model may be that the features of \"credit score\", \"interest rate\", \"monthly payment\" and \"term\" might be highly correlated, which may mean that the effects of the other variables on interest rate could cause this inverse relationship to appear."
   ]
  },
  {
   "cell_type": "code",
   "execution_count": 151,
   "id": "forty-diving",
   "metadata": {},
   "outputs": [
    {
     "data": {
      "text/plain": [
       "array([-5.27339708e-03,  5.74474875e-03, -4.38538226e-05,  7.58879597e-02,\n",
       "       -4.14145162e-03,  8.12256600e-03,  5.47270116e-02,  1.84442720e-02,\n",
       "       -2.88354349e-03, -7.42409441e-03, -1.23997215e-02,  2.57254390e-02,\n",
       "       -5.06659997e-04, -6.55909055e-02, -3.13330619e-02, -1.29132732e-03,\n",
       "        4.96549612e-03, -1.58023700e-02,  1.08368739e-02,  2.77417288e-02,\n",
       "       -6.66031184e-03, -2.10814169e-02])"
      ]
     },
     "execution_count": 151,
     "metadata": {},
     "output_type": "execute_result"
    }
   ],
   "source": [
    "# index 3 corresponds to interest rate\n",
    "np.cov(dataset.test, rowvar=False)[3]"
   ]
  },
  {
   "cell_type": "code",
   "execution_count": 152,
   "id": "unsigned-ethernet",
   "metadata": {
    "scrolled": true
   },
   "outputs": [
    {
     "data": {
      "text/plain": [
       "array([-0.41229742,  0.22918329, -0.00364809,  1.        , -0.6020109 ,\n",
       "        0.18871902,  0.40567998,  0.27323537, -0.08036643, -0.52264594,\n",
       "       -0.1029316 ,  0.33602246, -0.03437017, -0.61868378, -0.37469486,\n",
       "       -0.07965441,  0.10621315, -0.19586893,  0.15949498,  0.20178872,\n",
       "       -0.07910542, -0.15895817])"
      ]
     },
     "execution_count": 152,
     "metadata": {},
     "output_type": "execute_result"
    }
   ],
   "source": [
    "np.corrcoef(dataset.test, rowvar=False)[3]"
   ]
  },
  {
   "cell_type": "markdown",
   "id": "clear-lesbian",
   "metadata": {},
   "source": [
    "We see that index 4 (credit score) and index 13 (rate subvention) are somewhat inversely correlated with interest rate."
   ]
  },
  {
   "cell_type": "markdown",
   "id": "northern-legend",
   "metadata": {},
   "source": [
    "# Findings and Reflection"
   ]
  },
  {
   "cell_type": "markdown",
   "id": "electric-daughter",
   "metadata": {},
   "source": [
    "### Finding 1: High precision and accuracy can be achieved with auto loan ABS data\n",
    "\n",
    "Auto loan default can be predicted using the data provided in asset backed securities. We have found a neural network archiecture that predicts the probability of default with 93% precision and 80% accuracy, but only 66% recall. \n",
    "\n",
    "### Finding 2: Lower precision, but higher accuracy and recall can be found with logistic regression opposed to a multi-layer perceptron\n",
    "\n",
    "Logistic regression performed with 86% precision and 83% accuracy as well as 80% recall. Logistic regression had better recall than the neural network, for relatively similar precision. More information on how this model will be applied in practice is needed to properly assess to what extent we should prioritize precision over recall.\n",
    "\n",
    "### Finding 3: Anchor explanations are similar regardless of which of the two models are used\n",
    "\n",
    "The two models we assessed made predictions for very similar reasons. Most of the explanations for the two models came from a single distinguishing factor: interest rate. More often than not, having an interest rate that is less than 18% of the maximum rate observed in the training set was enough to predict that an individual was not likely to default.\n",
    "\n",
    "\n",
    "### Finding 4: There is evidence that anchor explanations differ from the log odds interpretation from logistic regression\n",
    "\n",
    "The logistic regression coefficients were not aligned with the interpretations provided by anchors. Interest rate was a significant differentiator between the classes for anchors, but for logistic regression, the inverse relationship was observed.\n",
    "\n",
    "### Limitations and Next Steps\n",
    "\n",
    "* In the future, different model types can be explored that might be more applicable to this problem such as XGBoost.\n",
    "* To improve interpretability of the explanations, we should take the inverse of the min-max normalization to return the values to their real values\n",
    "* To verify the importance of features to the logistic regression model, we should display the full output of the coefficients with their p-values\n",
    "* The anchors data loader performs class balancing before the train test split. This means that the data tested on is properly balanced as well, which would be unlikely to occur when this model assesses future data. \n",
    "* The anchors data loader performs a split of the test set into two parts: test and validation. This means that the original 20% that is reserved is further split into 10% test and 10% validation. This results in less confidence in the results of the test. In this analysis, I addressed this issue by removing that split in my local version of the anchors package. A future pull request on the repository could be done to make this feature optional in the data loader.\n"
   ]
  },
  {
   "cell_type": "code",
   "execution_count": null,
   "id": "thick-layout",
   "metadata": {},
   "outputs": [],
   "source": []
  }
 ],
 "metadata": {
  "kernelspec": {
   "display_name": "Python 3",
   "language": "python",
   "name": "python3"
  },
  "language_info": {
   "codemirror_mode": {
    "name": "ipython",
    "version": 3
   },
   "file_extension": ".py",
   "mimetype": "text/x-python",
   "name": "python",
   "nbconvert_exporter": "python",
   "pygments_lexer": "ipython3",
   "version": "3.9.2"
  }
 },
 "nbformat": 4,
 "nbformat_minor": 5
}
