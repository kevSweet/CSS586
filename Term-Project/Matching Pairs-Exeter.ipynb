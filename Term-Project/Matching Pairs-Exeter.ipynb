{
 "cells": [
  {
   "cell_type": "markdown",
   "id": "5e1ba34b",
   "metadata": {},
   "source": [
    "# Goal\n",
    "\n",
    "The goal of this analysis is to retrieve all similar pairs of car loans to determine if these similar loans received the same interest raste"
   ]
  },
  {
   "cell_type": "code",
   "execution_count": 1,
   "id": "cbc596df",
   "metadata": {
    "scrolled": true
   },
   "outputs": [
    {
     "name": "stderr",
     "output_type": "stream",
     "text": [
      "C:\\Users\\sweet\\AppData\\Local\\Temp\\ipykernel_4396\\871723915.py:2: DtypeWarning: Columns (9) have mixed types. Specify dtype option on import or set low_memory=False.\n",
      "  df = pd.read_csv('cleaned.csv')\n"
     ]
    }
   ],
   "source": [
    "import pandas as pd\n",
    "df = pd.read_csv('cleaned.csv')"
   ]
  },
  {
   "cell_type": "code",
   "execution_count": 2,
   "id": "ede62588",
   "metadata": {
    "scrolled": true
   },
   "outputs": [
    {
     "data": {
      "text/html": [
       "<div>\n",
       "<style scoped>\n",
       "    .dataframe tbody tr th:only-of-type {\n",
       "        vertical-align: middle;\n",
       "    }\n",
       "\n",
       "    .dataframe tbody tr th {\n",
       "        vertical-align: top;\n",
       "    }\n",
       "\n",
       "    .dataframe thead th {\n",
       "        text-align: right;\n",
       "    }\n",
       "</style>\n",
       "<table border=\"1\" class=\"dataframe\">\n",
       "  <thead>\n",
       "    <tr style=\"text-align: right;\">\n",
       "      <th></th>\n",
       "      <th>assetNumber</th>\n",
       "      <th>originalLoanAmount</th>\n",
       "      <th>originalLoanTerm</th>\n",
       "      <th>Scheduled Payment Amount</th>\n",
       "      <th>interestRate</th>\n",
       "      <th>reportingPeriodEndingDate</th>\n",
       "      <th>originalFirstPaymentDate</th>\n",
       "      <th>underwritingIndicator</th>\n",
       "      <th>gracePeriodNumber</th>\n",
       "      <th>subvented</th>\n",
       "      <th>...</th>\n",
       "      <th>nextReportingPeriodPaymentAmountDue</th>\n",
       "      <th>currentDelinquencyStatus</th>\n",
       "      <th>reportingPeriodBeginningDate</th>\n",
       "      <th>originatorName</th>\n",
       "      <th>originationDate</th>\n",
       "      <th>loanMaturityDate</th>\n",
       "      <th>vehicleManufacturerName</th>\n",
       "      <th>vehicleModelName</th>\n",
       "      <th>reportingPeriodBeginningLoanBalanceAmount</th>\n",
       "      <th>obligorGeographicLocation</th>\n",
       "    </tr>\n",
       "  </thead>\n",
       "  <tbody>\n",
       "    <tr>\n",
       "      <th>0</th>\n",
       "      <td>537581964</td>\n",
       "      <td>40873.54</td>\n",
       "      <td>72</td>\n",
       "      <td>601.109763</td>\n",
       "      <td>0.0190</td>\n",
       "      <td>2/28/2022</td>\n",
       "      <td>5/1/2021</td>\n",
       "      <td>0.0</td>\n",
       "      <td>0</td>\n",
       "      <td>1</td>\n",
       "      <td>...</td>\n",
       "      <td>1202.22</td>\n",
       "      <td>1.0</td>\n",
       "      <td>2/1/2022</td>\n",
       "      <td>TMCC</td>\n",
       "      <td>05/2021</td>\n",
       "      <td>04/2027</td>\n",
       "      <td>LEXUS</td>\n",
       "      <td>LX IS 300</td>\n",
       "      <td>36573.22</td>\n",
       "      <td>CA</td>\n",
       "    </tr>\n",
       "    <tr>\n",
       "      <th>1</th>\n",
       "      <td>362660414</td>\n",
       "      <td>34991.78</td>\n",
       "      <td>72</td>\n",
       "      <td>561.918571</td>\n",
       "      <td>0.0490</td>\n",
       "      <td>2/28/2022</td>\n",
       "      <td>3/1/2021</td>\n",
       "      <td>0.0</td>\n",
       "      <td>0</td>\n",
       "      <td>1</td>\n",
       "      <td>...</td>\n",
       "      <td>864.96</td>\n",
       "      <td>1.0</td>\n",
       "      <td>2/1/2022</td>\n",
       "      <td>TMCC</td>\n",
       "      <td>03/2021</td>\n",
       "      <td>02/2027</td>\n",
       "      <td>TOYOTA</td>\n",
       "      <td>SIENNA</td>\n",
       "      <td>29932.87</td>\n",
       "      <td>CT</td>\n",
       "    </tr>\n",
       "    <tr>\n",
       "      <th>2</th>\n",
       "      <td>234565769</td>\n",
       "      <td>25777.35</td>\n",
       "      <td>72</td>\n",
       "      <td>379.096519</td>\n",
       "      <td>0.0190</td>\n",
       "      <td>2/28/2022</td>\n",
       "      <td>8/1/2020</td>\n",
       "      <td>0.0</td>\n",
       "      <td>0</td>\n",
       "      <td>1;2</td>\n",
       "      <td>...</td>\n",
       "      <td>758.18</td>\n",
       "      <td>1.0</td>\n",
       "      <td>2/1/2022</td>\n",
       "      <td>TMCC</td>\n",
       "      <td>08/2020</td>\n",
       "      <td>07/2026</td>\n",
       "      <td>TOYOTA</td>\n",
       "      <td>CAMRY</td>\n",
       "      <td>19605.36</td>\n",
       "      <td>CA</td>\n",
       "    </tr>\n",
       "    <tr>\n",
       "      <th>3</th>\n",
       "      <td>224112672</td>\n",
       "      <td>21659.20</td>\n",
       "      <td>72</td>\n",
       "      <td>380.708480</td>\n",
       "      <td>0.0809</td>\n",
       "      <td>2/28/2022</td>\n",
       "      <td>8/1/2020</td>\n",
       "      <td>0.0</td>\n",
       "      <td>0</td>\n",
       "      <td>2</td>\n",
       "      <td>...</td>\n",
       "      <td>761.40</td>\n",
       "      <td>1.0</td>\n",
       "      <td>2/1/2022</td>\n",
       "      <td>TMCC</td>\n",
       "      <td>08/2020</td>\n",
       "      <td>07/2026</td>\n",
       "      <td>TOYOTA</td>\n",
       "      <td>CAMRY</td>\n",
       "      <td>17164.56</td>\n",
       "      <td>CA</td>\n",
       "    </tr>\n",
       "    <tr>\n",
       "      <th>4</th>\n",
       "      <td>530166042</td>\n",
       "      <td>36085.40</td>\n",
       "      <td>72</td>\n",
       "      <td>666.693978</td>\n",
       "      <td>0.0990</td>\n",
       "      <td>2/28/2022</td>\n",
       "      <td>5/1/2021</td>\n",
       "      <td>0.0</td>\n",
       "      <td>0</td>\n",
       "      <td>2</td>\n",
       "      <td>...</td>\n",
       "      <td>666.69</td>\n",
       "      <td>0.0</td>\n",
       "      <td>2/1/2022</td>\n",
       "      <td>TMCC</td>\n",
       "      <td>05/2021</td>\n",
       "      <td>05/2027</td>\n",
       "      <td>TOYOTA</td>\n",
       "      <td>VENZA</td>\n",
       "      <td>33178.82</td>\n",
       "      <td>CA</td>\n",
       "    </tr>\n",
       "  </tbody>\n",
       "</table>\n",
       "<p>5 rows × 28 columns</p>\n",
       "</div>"
      ],
      "text/plain": [
       "   assetNumber  originalLoanAmount  originalLoanTerm  \\\n",
       "0    537581964            40873.54                72   \n",
       "1    362660414            34991.78                72   \n",
       "2    234565769            25777.35                72   \n",
       "3    224112672            21659.20                72   \n",
       "4    530166042            36085.40                72   \n",
       "\n",
       "   Scheduled Payment Amount  interestRate reportingPeriodEndingDate  \\\n",
       "0                601.109763        0.0190                 2/28/2022   \n",
       "1                561.918571        0.0490                 2/28/2022   \n",
       "2                379.096519        0.0190                 2/28/2022   \n",
       "3                380.708480        0.0809                 2/28/2022   \n",
       "4                666.693978        0.0990                 2/28/2022   \n",
       "\n",
       "  originalFirstPaymentDate  underwritingIndicator  gracePeriodNumber  \\\n",
       "0                 5/1/2021                    0.0                  0   \n",
       "1                 3/1/2021                    0.0                  0   \n",
       "2                 8/1/2020                    0.0                  0   \n",
       "3                 8/1/2020                    0.0                  0   \n",
       "4                 5/1/2021                    0.0                  0   \n",
       "\n",
       "  subvented  ...  nextReportingPeriodPaymentAmountDue  \\\n",
       "0         1  ...                              1202.22   \n",
       "1         1  ...                               864.96   \n",
       "2       1;2  ...                               758.18   \n",
       "3         2  ...                               761.40   \n",
       "4         2  ...                               666.69   \n",
       "\n",
       "   currentDelinquencyStatus  reportingPeriodBeginningDate  originatorName  \\\n",
       "0                       1.0                      2/1/2022            TMCC   \n",
       "1                       1.0                      2/1/2022            TMCC   \n",
       "2                       1.0                      2/1/2022            TMCC   \n",
       "3                       1.0                      2/1/2022            TMCC   \n",
       "4                       0.0                      2/1/2022            TMCC   \n",
       "\n",
       "   originationDate  loanMaturityDate  vehicleManufacturerName  \\\n",
       "0          05/2021           04/2027                    LEXUS   \n",
       "1          03/2021           02/2027                   TOYOTA   \n",
       "2          08/2020           07/2026                   TOYOTA   \n",
       "3          08/2020           07/2026                   TOYOTA   \n",
       "4          05/2021           05/2027                   TOYOTA   \n",
       "\n",
       "   vehicleModelName  reportingPeriodBeginningLoanBalanceAmount  \\\n",
       "0         LX IS 300                                   36573.22   \n",
       "1            SIENNA                                   29932.87   \n",
       "2             CAMRY                                   19605.36   \n",
       "3             CAMRY                                   17164.56   \n",
       "4             VENZA                                   33178.82   \n",
       "\n",
       "   obligorGeographicLocation  \n",
       "0                         CA  \n",
       "1                         CT  \n",
       "2                         CA  \n",
       "3                         CA  \n",
       "4                         CA  \n",
       "\n",
       "[5 rows x 28 columns]"
      ]
     },
     "execution_count": 2,
     "metadata": {},
     "output_type": "execute_result"
    }
   ],
   "source": [
    "df.head()"
   ]
  },
  {
   "cell_type": "code",
   "execution_count": 3,
   "id": "7366fca9",
   "metadata": {},
   "outputs": [
    {
     "data": {
      "text/plain": [
       "(5402476, 28)"
      ]
     },
     "execution_count": 3,
     "metadata": {},
     "output_type": "execute_result"
    }
   ],
   "source": [
    "df.shape"
   ]
  },
  {
   "cell_type": "code",
   "execution_count": 4,
   "id": "3b58b893",
   "metadata": {},
   "outputs": [
    {
     "data": {
      "text/plain": [
       "array(['TMCC', 'Fifth Third Bank National Association',\n",
       "       'BMW Bank of North America', 'Exeter Finance',\n",
       "       'WORLD OMNI FINANCIAL CORP', 'Ally Bank', 'Ford Credit', 'NMAC',\n",
       "       'USAAFSB', 'VW Credit', 'AHFC', 'MBFS USA LLC', 'SC',\n",
       "       'Carvana, LLC', 'Mechanics Bank'], dtype=object)"
      ]
     },
     "execution_count": 4,
     "metadata": {},
     "output_type": "execute_result"
    }
   ],
   "source": [
    "df.originatorName.unique()"
   ]
  },
  {
   "cell_type": "code",
   "execution_count": 5,
   "id": "7c7da83c",
   "metadata": {
    "scrolled": true
   },
   "outputs": [],
   "source": [
    "import itertools"
   ]
  },
  {
   "cell_type": "markdown",
   "id": "414e631a",
   "metadata": {},
   "source": [
    "Criteria:  \n",
    "Same Model Year  \n",
    "Same Model  \n",
    "Same Loan Term  \n",
    "Same Origination Month  \n",
    "Vehicle Value: +- 10% of value A  \n",
    "Credit Score: +- 7 points of value A  \n",
    "PTI: +- 10% of value A  \n",
    "Loan Amount: +- 5%   "
   ]
  },
  {
   "cell_type": "code",
   "execution_count": 6,
   "id": "a5f12e14",
   "metadata": {},
   "outputs": [],
   "source": [
    "# Retrieves combinations\n",
    "def getCombos(dat, vehicle_years, vehicle_models, loan_terms, orig_dates):\n",
    "    \n",
    "    output = []\n",
    "    \n",
    "    num_rows = dat[(dat['vehicleModelYear'].isin(vehicle_years)) & (dat['vehicleModelName'].isin(vehicle_models)) & \n",
    "                      (dat['originalLoanTerm'].isin(loan_terms)) & (dat['originationDate'].isin(orig_dates))].shape[0]\n",
    "    \n",
    "    # For every combination of year, model, term, and origination date\n",
    "    for v_year, v_model, l_term, orig_date in itertools.product(vehicle_years, vehicle_models, loan_terms, orig_dates):\n",
    "        # filter dataset to these years\n",
    "        result = dat[(dat['vehicleModelYear']==v_year) & (dat['vehicleModelName']==v_model) & \n",
    "                      (dat['originalLoanTerm']==l_term) & (dat['originationDate']==orig_date)]\n",
    "        # If there is at least 1 combination,\n",
    "        if result.shape[0] < 2:\n",
    "            continue\n",
    "        # For every combination of rows in resulting set\n",
    "        for combo in itertools.combinations(result.values, 2):\n",
    "            # determine if within 7 obligorCreditScore points\n",
    "            if not abs(combo[0][13] - combo[1][13]) < 8:\n",
    "                continue\n",
    "            # determine if within 5% of originalLoanAmount\n",
    "            if not abs(combo[0][1] - combo[1][1]) < (0.05 * combo[0][1]):\n",
    "                continue\n",
    "            # determine if within 10% of paymentToIncomePercentage\n",
    "            if not abs(combo[0][17] - combo[1][17]) < (0.1 * combo[0][17]):\n",
    "                continue\n",
    "            # determine if within 10% of vehicleValueAmount\n",
    "            if not abs(combo[0][12] - combo[1][12]) < (0.1 * combo[0][12]):\n",
    "                continue\n",
    "            # Append combination to list, using itertools.chain to flatten combo to single element\n",
    "            output.append(list(itertools.chain(*combo)))\n",
    "    # generate column names for resulting dataframe\n",
    "    A_names = [col + ' A' for col in list(df.columns)]\n",
    "    B_names = [col + ' B' for col in list(df.columns)]\n",
    "    # convert list to dataframe\n",
    "    output = pd.DataFrame(output, columns=A_names+B_names)\n",
    "    # record rows of source dataset for context\n",
    "    output['total_rows'] = num_rows\n",
    "    # record absolute difference in interest rate\n",
    "    output['interest_diff'] = abs(output['interestRate A'] - output['interestRate B'])\n",
    "    return output"
   ]
  },
  {
   "cell_type": "markdown",
   "id": "1fd1eefb",
   "metadata": {},
   "source": [
    "I will be starting with Volkswagen Credit, a captive originator. Due to the size of the data and the vastness of the combinations needed to assess, I will be filtering this data down using analysis done in tableau."
   ]
  },
  {
   "cell_type": "code",
   "execution_count": 7,
   "id": "caf9025f",
   "metadata": {},
   "outputs": [],
   "source": [
    "exeter = df[df['originatorName'] == 'Exeter Finance']"
   ]
  },
  {
   "cell_type": "code",
   "execution_count": 8,
   "id": "850b308c",
   "metadata": {},
   "outputs": [],
   "source": [
    "import matplotlib.pyplot as plt"
   ]
  },
  {
   "cell_type": "code",
   "execution_count": 9,
   "id": "e2b576ce",
   "metadata": {},
   "outputs": [
    {
     "data": {
      "text/plain": [
       "(array([7.60000e+01, 5.16000e+02, 4.97600e+03, 1.85170e+04, 4.82700e+04,\n",
       "        8.54470e+04, 1.16896e+05, 8.94590e+04, 2.08160e+04, 7.12000e+02]),\n",
       " array([2004. , 2005.9, 2007.8, 2009.7, 2011.6, 2013.5, 2015.4, 2017.3,\n",
       "        2019.2, 2021.1, 2023. ]),\n",
       " <BarContainer object of 10 artists>)"
      ]
     },
     "execution_count": 9,
     "metadata": {},
     "output_type": "execute_result"
    },
    {
     "data": {
      "image/png": "[encoded data removed]",
      "text/plain": [
       "<Figure size 432x288 with 1 Axes>"
      ]
     },
     "metadata": {
      "needs_background": "light"
     },
     "output_type": "display_data"
    }
   ],
   "source": [
    "plt.hist(exeter['vehicleModelYear'])"
   ]
  },
  {
   "cell_type": "markdown",
   "id": "53fbf165",
   "metadata": {},
   "source": [
    "Using the quantity of loans distributed across vehicle years, I chose to only concentrate on years 2010 and to 2020."
   ]
  },
  {
   "cell_type": "code",
   "execution_count": 10,
   "id": "6c1696ae",
   "metadata": {
    "scrolled": false
   },
   "outputs": [
    {
     "data": {
      "text/plain": [
       "[2010, 2011, 2012, 2013, 2014, 2015, 2016, 2017, 2018, 2019, 2020]"
      ]
     },
     "execution_count": 10,
     "metadata": {},
     "output_type": "execute_result"
    }
   ],
   "source": [
    "import itertools, numpy as np\n",
    "vehicle_years = [*range(2010, 2021)]\n",
    "vehicle_years"
   ]
  },
  {
   "cell_type": "code",
   "execution_count": 11,
   "id": "8f1f1e2b",
   "metadata": {},
   "outputs": [
    {
     "data": {
      "text/plain": [
       "Index(['assetNumber', 'originalLoanAmount', 'originalLoanTerm',\n",
       "       'Scheduled Payment Amount', 'interestRate', 'reportingPeriodEndingDate',\n",
       "       'originalFirstPaymentDate', 'underwritingIndicator',\n",
       "       'gracePeriodNumber', 'subvented', 'vehicleNewUsedCode',\n",
       "       'vehicleModelYear', 'vehicleValueAmount', 'obligorCreditScore',\n",
       "       'obligorIncomeVerificationLevelCode',\n",
       "       'obligorEmploymentVerificationCode', 'coObligorIndicator',\n",
       "       'paymentToIncomePercentage', 'nextReportingPeriodPaymentAmountDue',\n",
       "       'currentDelinquencyStatus', 'reportingPeriodBeginningDate',\n",
       "       'originatorName', 'originationDate', 'loanMaturityDate',\n",
       "       'vehicleManufacturerName', 'vehicleModelName',\n",
       "       'reportingPeriodBeginningLoanBalanceAmount',\n",
       "       'obligorGeographicLocation'],\n",
       "      dtype='object')"
      ]
     },
     "execution_count": 11,
     "metadata": {},
     "output_type": "execute_result"
    }
   ],
   "source": [
    "exeter.columns"
   ]
  },
  {
   "cell_type": "code",
   "execution_count": 12,
   "id": "ca9bc947",
   "metadata": {},
   "outputs": [
    {
     "data": {
      "text/plain": [
       "vehicleModelName\n",
       "SILVERADO 1500    2.167387e+08\n",
       "ALTIMA            2.141394e+08\n",
       "F150              2.090205e+08\n",
       "1500              1.874098e+08\n",
       "ACCORD            1.733467e+08\n",
       "MALIBU            1.695956e+08\n",
       "EQUINOX           1.662198e+08\n",
       "CAMRY             1.573057e+08\n",
       "FUSION            1.562118e+08\n",
       "ROGUE             1.560408e+08\n",
       "Name: originalLoanAmount, dtype: float64"
      ]
     },
     "execution_count": 12,
     "metadata": {},
     "output_type": "execute_result"
    }
   ],
   "source": [
    "exeter.groupby(by='vehicleModelName').sum().sort_values('originalLoanAmount', ascending=False)['originalLoanAmount'][0:10]"
   ]
  },
  {
   "cell_type": "markdown",
   "id": "4983944f",
   "metadata": {},
   "source": [
    "I chose the top 10 model names by loan amount"
   ]
  },
  {
   "cell_type": "code",
   "execution_count": 13,
   "id": "bb3bf386",
   "metadata": {
    "scrolled": false
   },
   "outputs": [
    {
     "data": {
      "text/plain": [
       "['SILVERADO 1500',\n",
       " 'ALTIMA',\n",
       " 'F150',\n",
       " '1500',\n",
       " 'ACCORD',\n",
       " 'MALIBU',\n",
       " 'EQUINOX',\n",
       " 'CAMRY',\n",
       " 'FUSION',\n",
       " 'ROGUE']"
      ]
     },
     "execution_count": 13,
     "metadata": {},
     "output_type": "execute_result"
    }
   ],
   "source": [
    "vehicle_models = exeter.groupby(by='vehicleModelName').sum().sort_values('originalLoanAmount', ascending=False)[0:10] \n",
    "vehicle_models = list(vehicle_models.index)\n",
    "vehicle_models"
   ]
  },
  {
   "cell_type": "code",
   "execution_count": 14,
   "id": "a0ec141d",
   "metadata": {},
   "outputs": [
    {
     "data": {
      "text/plain": [
       "[80, 79, 78, 77, 76, 75, 74, 73, 72, 71]"
      ]
     },
     "execution_count": 14,
     "metadata": {},
     "output_type": "execute_result"
    }
   ],
   "source": [
    "loan_terms = exeter.groupby(by='originalLoanTerm').count().sort_values('originalLoanTerm', ascending=False)[0:10] \n",
    "loan_terms = list(loan_terms.index)\n",
    "loan_terms"
   ]
  },
  {
   "cell_type": "markdown",
   "id": "91d7c0b6",
   "metadata": {},
   "source": [
    "Likewise, I only focused on the latest full year data was available for all originators"
   ]
  },
  {
   "cell_type": "code",
   "execution_count": 15,
   "id": "50249bca",
   "metadata": {
    "scrolled": false
   },
   "outputs": [
    {
     "data": {
      "text/plain": [
       "['01/2020',\n",
       " '02/2020',\n",
       " '03/2020',\n",
       " '04/2020',\n",
       " '05/2020',\n",
       " '06/2020',\n",
       " '07/2020',\n",
       " '08/2020',\n",
       " '09/2020',\n",
       " '10/2020',\n",
       " '11/2020',\n",
       " '12/2020']"
      ]
     },
     "execution_count": 15,
     "metadata": {},
     "output_type": "execute_result"
    }
   ],
   "source": [
    "orig_dates = ['01/2020', '02/2020', '03/2020', '04/2020', '05/2020', '06/2020', '07/2020', '08/2020',\n",
    "              '09/2020', '10/2020', '11/2020', '12/2020']\n",
    "orig_dates"
   ]
  },
  {
   "cell_type": "code",
   "execution_count": 16,
   "id": "eec029f6",
   "metadata": {
    "scrolled": true
   },
   "outputs": [
    {
     "data": {
      "text/html": [
       "<div>\n",
       "<style scoped>\n",
       "    .dataframe tbody tr th:only-of-type {\n",
       "        vertical-align: middle;\n",
       "    }\n",
       "\n",
       "    .dataframe tbody tr th {\n",
       "        vertical-align: top;\n",
       "    }\n",
       "\n",
       "    .dataframe thead th {\n",
       "        text-align: right;\n",
       "    }\n",
       "</style>\n",
       "<table border=\"1\" class=\"dataframe\">\n",
       "  <thead>\n",
       "    <tr style=\"text-align: right;\">\n",
       "      <th></th>\n",
       "      <th>assetNumber A</th>\n",
       "      <th>originalLoanAmount A</th>\n",
       "      <th>originalLoanTerm A</th>\n",
       "      <th>Scheduled Payment Amount A</th>\n",
       "      <th>interestRate A</th>\n",
       "      <th>reportingPeriodEndingDate A</th>\n",
       "      <th>originalFirstPaymentDate A</th>\n",
       "      <th>underwritingIndicator A</th>\n",
       "      <th>gracePeriodNumber A</th>\n",
       "      <th>subvented A</th>\n",
       "      <th>...</th>\n",
       "      <th>reportingPeriodBeginningDate B</th>\n",
       "      <th>originatorName B</th>\n",
       "      <th>originationDate B</th>\n",
       "      <th>loanMaturityDate B</th>\n",
       "      <th>vehicleManufacturerName B</th>\n",
       "      <th>vehicleModelName B</th>\n",
       "      <th>reportingPeriodBeginningLoanBalanceAmount B</th>\n",
       "      <th>obligorGeographicLocation B</th>\n",
       "      <th>total_rows</th>\n",
       "      <th>interest_diff</th>\n",
       "    </tr>\n",
       "  </thead>\n",
       "  <tbody>\n",
       "    <tr>\n",
       "      <th>0</th>\n",
       "      <td>210471729924254301</td>\n",
       "      <td>11084.00</td>\n",
       "      <td>74</td>\n",
       "      <td>315.953223</td>\n",
       "      <td>0.2800</td>\n",
       "      <td>2/28/2022</td>\n",
       "      <td>9/1/2020</td>\n",
       "      <td>1.0</td>\n",
       "      <td>2</td>\n",
       "      <td>0</td>\n",
       "      <td>...</td>\n",
       "      <td>2/1/2022</td>\n",
       "      <td>Exeter Finance</td>\n",
       "      <td>07/2020</td>\n",
       "      <td>10/2026</td>\n",
       "      <td>TOYOTA</td>\n",
       "      <td>CAMRY</td>\n",
       "      <td>10559.81</td>\n",
       "      <td>WI</td>\n",
       "      <td>20582</td>\n",
       "      <td>0.0533</td>\n",
       "    </tr>\n",
       "    <tr>\n",
       "      <th>1</th>\n",
       "      <td>210204229922854301</td>\n",
       "      <td>13639.77</td>\n",
       "      <td>74</td>\n",
       "      <td>319.431514</td>\n",
       "      <td>0.1966</td>\n",
       "      <td>2/28/2022</td>\n",
       "      <td>8/1/2020</td>\n",
       "      <td>1.0</td>\n",
       "      <td>2</td>\n",
       "      <td>0</td>\n",
       "      <td>...</td>\n",
       "      <td>2/1/2022</td>\n",
       "      <td>Exeter Finance</td>\n",
       "      <td>06/2020</td>\n",
       "      <td>11/2026</td>\n",
       "      <td>TOYOTA</td>\n",
       "      <td>CAMRY</td>\n",
       "      <td>13092.22</td>\n",
       "      <td>NC</td>\n",
       "      <td>20582</td>\n",
       "      <td>0.0834</td>\n",
       "    </tr>\n",
       "    <tr>\n",
       "      <th>2</th>\n",
       "      <td>210861229930154301</td>\n",
       "      <td>14943.59</td>\n",
       "      <td>74</td>\n",
       "      <td>387.456482</td>\n",
       "      <td>0.2387</td>\n",
       "      <td>2/28/2022</td>\n",
       "      <td>1/1/2021</td>\n",
       "      <td>1.0</td>\n",
       "      <td>2</td>\n",
       "      <td>0</td>\n",
       "      <td>...</td>\n",
       "      <td>2/1/2022</td>\n",
       "      <td>Exeter Finance</td>\n",
       "      <td>11/2020</td>\n",
       "      <td>12/2026</td>\n",
       "      <td>NISSAN</td>\n",
       "      <td>ALTIMA</td>\n",
       "      <td>0.00</td>\n",
       "      <td>VA</td>\n",
       "      <td>20582</td>\n",
       "      <td>0.0245</td>\n",
       "    </tr>\n",
       "    <tr>\n",
       "      <th>3</th>\n",
       "      <td>210566729928954301</td>\n",
       "      <td>25361.69</td>\n",
       "      <td>74</td>\n",
       "      <td>698.878893</td>\n",
       "      <td>0.2650</td>\n",
       "      <td>2/28/2022</td>\n",
       "      <td>12/1/2020</td>\n",
       "      <td>1.0</td>\n",
       "      <td>2</td>\n",
       "      <td>0</td>\n",
       "      <td>...</td>\n",
       "      <td>2/1/2022</td>\n",
       "      <td>Exeter Finance</td>\n",
       "      <td>10/2020</td>\n",
       "      <td>11/2026</td>\n",
       "      <td>FORD</td>\n",
       "      <td>F150</td>\n",
       "      <td>23656.27</td>\n",
       "      <td>OH</td>\n",
       "      <td>20582</td>\n",
       "      <td>0.0267</td>\n",
       "    </tr>\n",
       "    <tr>\n",
       "      <th>4</th>\n",
       "      <td>210045029922154301</td>\n",
       "      <td>23021.33</td>\n",
       "      <td>73</td>\n",
       "      <td>603.464943</td>\n",
       "      <td>0.2408</td>\n",
       "      <td>2/28/2022</td>\n",
       "      <td>7/1/2020</td>\n",
       "      <td>1.0</td>\n",
       "      <td>1</td>\n",
       "      <td>0</td>\n",
       "      <td>...</td>\n",
       "      <td>2/1/2022</td>\n",
       "      <td>Exeter Finance</td>\n",
       "      <td>06/2020</td>\n",
       "      <td>08/2026</td>\n",
       "      <td>FORD</td>\n",
       "      <td>F150</td>\n",
       "      <td>20786.61</td>\n",
       "      <td>MO</td>\n",
       "      <td>20582</td>\n",
       "      <td>0.0067</td>\n",
       "    </tr>\n",
       "    <tr>\n",
       "      <th>...</th>\n",
       "      <td>...</td>\n",
       "      <td>...</td>\n",
       "      <td>...</td>\n",
       "      <td>...</td>\n",
       "      <td>...</td>\n",
       "      <td>...</td>\n",
       "      <td>...</td>\n",
       "      <td>...</td>\n",
       "      <td>...</td>\n",
       "      <td>...</td>\n",
       "      <td>...</td>\n",
       "      <td>...</td>\n",
       "      <td>...</td>\n",
       "      <td>...</td>\n",
       "      <td>...</td>\n",
       "      <td>...</td>\n",
       "      <td>...</td>\n",
       "      <td>...</td>\n",
       "      <td>...</td>\n",
       "      <td>...</td>\n",
       "      <td>...</td>\n",
       "    </tr>\n",
       "    <tr>\n",
       "      <th>354</th>\n",
       "      <td>210972629928254301</td>\n",
       "      <td>21035.99</td>\n",
       "      <td>73</td>\n",
       "      <td>482.826294</td>\n",
       "      <td>0.1856</td>\n",
       "      <td>2/28/2022</td>\n",
       "      <td>11/1/2020</td>\n",
       "      <td>1.0</td>\n",
       "      <td>1</td>\n",
       "      <td>0</td>\n",
       "      <td>...</td>\n",
       "      <td>2/1/2022</td>\n",
       "      <td>Exeter Finance</td>\n",
       "      <td>10/2020</td>\n",
       "      <td>12/2026</td>\n",
       "      <td>NISSAN</td>\n",
       "      <td>ALTIMA</td>\n",
       "      <td>18686.96</td>\n",
       "      <td>MD</td>\n",
       "      <td>20582</td>\n",
       "      <td>0.0412</td>\n",
       "    </tr>\n",
       "    <tr>\n",
       "      <th>355</th>\n",
       "      <td>210754029930854301</td>\n",
       "      <td>18837.08</td>\n",
       "      <td>73</td>\n",
       "      <td>364.328184</td>\n",
       "      <td>0.1195</td>\n",
       "      <td>2/28/2022</td>\n",
       "      <td>1/1/2021</td>\n",
       "      <td>1.0</td>\n",
       "      <td>1</td>\n",
       "      <td>0</td>\n",
       "      <td>...</td>\n",
       "      <td>2/1/2022</td>\n",
       "      <td>Exeter Finance</td>\n",
       "      <td>12/2020</td>\n",
       "      <td>02/2027</td>\n",
       "      <td>NISSAN</td>\n",
       "      <td>ALTIMA</td>\n",
       "      <td>18051.81</td>\n",
       "      <td>GA</td>\n",
       "      <td>20582</td>\n",
       "      <td>0.0288</td>\n",
       "    </tr>\n",
       "    <tr>\n",
       "      <th>356</th>\n",
       "      <td>210953729930754301</td>\n",
       "      <td>23035.00</td>\n",
       "      <td>73</td>\n",
       "      <td>521.366902</td>\n",
       "      <td>0.1800</td>\n",
       "      <td>2/28/2022</td>\n",
       "      <td>1/1/2021</td>\n",
       "      <td>1.0</td>\n",
       "      <td>1</td>\n",
       "      <td>0</td>\n",
       "      <td>...</td>\n",
       "      <td>2/1/2022</td>\n",
       "      <td>Exeter Finance</td>\n",
       "      <td>12/2020</td>\n",
       "      <td>12/2026</td>\n",
       "      <td>NISSAN</td>\n",
       "      <td>ALTIMA</td>\n",
       "      <td>19802.32</td>\n",
       "      <td>LA</td>\n",
       "      <td>20582</td>\n",
       "      <td>0.0000</td>\n",
       "    </tr>\n",
       "    <tr>\n",
       "      <th>357</th>\n",
       "      <td>210221329931254301</td>\n",
       "      <td>20617.00</td>\n",
       "      <td>74</td>\n",
       "      <td>519.429485</td>\n",
       "      <td>0.2266</td>\n",
       "      <td>2/28/2022</td>\n",
       "      <td>2/1/2021</td>\n",
       "      <td>1.0</td>\n",
       "      <td>2</td>\n",
       "      <td>0</td>\n",
       "      <td>...</td>\n",
       "      <td>2/1/2022</td>\n",
       "      <td>Exeter Finance</td>\n",
       "      <td>12/2020</td>\n",
       "      <td>02/2027</td>\n",
       "      <td>CHEVROLET</td>\n",
       "      <td>MALIBU</td>\n",
       "      <td>20087.37</td>\n",
       "      <td>MI</td>\n",
       "      <td>20582</td>\n",
       "      <td>0.0167</td>\n",
       "    </tr>\n",
       "    <tr>\n",
       "      <th>358</th>\n",
       "      <td>210948329931154301</td>\n",
       "      <td>20380.52</td>\n",
       "      <td>73</td>\n",
       "      <td>502.517842</td>\n",
       "      <td>0.2149</td>\n",
       "      <td>2/28/2022</td>\n",
       "      <td>1/1/2021</td>\n",
       "      <td>1.0</td>\n",
       "      <td>1</td>\n",
       "      <td>0</td>\n",
       "      <td>...</td>\n",
       "      <td>2/1/2022</td>\n",
       "      <td>Exeter Finance</td>\n",
       "      <td>12/2020</td>\n",
       "      <td>12/2026</td>\n",
       "      <td>CHEVROLET</td>\n",
       "      <td>MALIBU</td>\n",
       "      <td>0.00</td>\n",
       "      <td>AL</td>\n",
       "      <td>20582</td>\n",
       "      <td>0.0101</td>\n",
       "    </tr>\n",
       "  </tbody>\n",
       "</table>\n",
       "<p>359 rows × 58 columns</p>\n",
       "</div>"
      ],
      "text/plain": [
       "          assetNumber A  originalLoanAmount A  originalLoanTerm A  \\\n",
       "0    210471729924254301              11084.00                  74   \n",
       "1    210204229922854301              13639.77                  74   \n",
       "2    210861229930154301              14943.59                  74   \n",
       "3    210566729928954301              25361.69                  74   \n",
       "4    210045029922154301              23021.33                  73   \n",
       "..                  ...                   ...                 ...   \n",
       "354  210972629928254301              21035.99                  73   \n",
       "355  210754029930854301              18837.08                  73   \n",
       "356  210953729930754301              23035.00                  73   \n",
       "357  210221329931254301              20617.00                  74   \n",
       "358  210948329931154301              20380.52                  73   \n",
       "\n",
       "     Scheduled Payment Amount A  interestRate A reportingPeriodEndingDate A  \\\n",
       "0                    315.953223          0.2800                   2/28/2022   \n",
       "1                    319.431514          0.1966                   2/28/2022   \n",
       "2                    387.456482          0.2387                   2/28/2022   \n",
       "3                    698.878893          0.2650                   2/28/2022   \n",
       "4                    603.464943          0.2408                   2/28/2022   \n",
       "..                          ...             ...                         ...   \n",
       "354                  482.826294          0.1856                   2/28/2022   \n",
       "355                  364.328184          0.1195                   2/28/2022   \n",
       "356                  521.366902          0.1800                   2/28/2022   \n",
       "357                  519.429485          0.2266                   2/28/2022   \n",
       "358                  502.517842          0.2149                   2/28/2022   \n",
       "\n",
       "    originalFirstPaymentDate A  underwritingIndicator A  gracePeriodNumber A  \\\n",
       "0                     9/1/2020                      1.0                    2   \n",
       "1                     8/1/2020                      1.0                    2   \n",
       "2                     1/1/2021                      1.0                    2   \n",
       "3                    12/1/2020                      1.0                    2   \n",
       "4                     7/1/2020                      1.0                    1   \n",
       "..                         ...                      ...                  ...   \n",
       "354                  11/1/2020                      1.0                    1   \n",
       "355                   1/1/2021                      1.0                    1   \n",
       "356                   1/1/2021                      1.0                    1   \n",
       "357                   2/1/2021                      1.0                    2   \n",
       "358                   1/1/2021                      1.0                    1   \n",
       "\n",
       "    subvented A  ...  reportingPeriodBeginningDate B  originatorName B  \\\n",
       "0             0  ...                        2/1/2022    Exeter Finance   \n",
       "1             0  ...                        2/1/2022    Exeter Finance   \n",
       "2             0  ...                        2/1/2022    Exeter Finance   \n",
       "3             0  ...                        2/1/2022    Exeter Finance   \n",
       "4             0  ...                        2/1/2022    Exeter Finance   \n",
       "..          ...  ...                             ...               ...   \n",
       "354           0  ...                        2/1/2022    Exeter Finance   \n",
       "355           0  ...                        2/1/2022    Exeter Finance   \n",
       "356           0  ...                        2/1/2022    Exeter Finance   \n",
       "357           0  ...                        2/1/2022    Exeter Finance   \n",
       "358           0  ...                        2/1/2022    Exeter Finance   \n",
       "\n",
       "     originationDate B  loanMaturityDate B  vehicleManufacturerName B  \\\n",
       "0              07/2020             10/2026                     TOYOTA   \n",
       "1              06/2020             11/2026                     TOYOTA   \n",
       "2              11/2020             12/2026                     NISSAN   \n",
       "3              10/2020             11/2026                       FORD   \n",
       "4              06/2020             08/2026                       FORD   \n",
       "..                 ...                 ...                        ...   \n",
       "354            10/2020             12/2026                     NISSAN   \n",
       "355            12/2020             02/2027                     NISSAN   \n",
       "356            12/2020             12/2026                     NISSAN   \n",
       "357            12/2020             02/2027                  CHEVROLET   \n",
       "358            12/2020             12/2026                  CHEVROLET   \n",
       "\n",
       "     vehicleModelName B  reportingPeriodBeginningLoanBalanceAmount B  \\\n",
       "0                 CAMRY                                     10559.81   \n",
       "1                 CAMRY                                     13092.22   \n",
       "2                ALTIMA                                         0.00   \n",
       "3                  F150                                     23656.27   \n",
       "4                  F150                                     20786.61   \n",
       "..                  ...                                          ...   \n",
       "354              ALTIMA                                     18686.96   \n",
       "355              ALTIMA                                     18051.81   \n",
       "356              ALTIMA                                     19802.32   \n",
       "357              MALIBU                                     20087.37   \n",
       "358              MALIBU                                         0.00   \n",
       "\n",
       "     obligorGeographicLocation B  total_rows  interest_diff  \n",
       "0                             WI       20582         0.0533  \n",
       "1                             NC       20582         0.0834  \n",
       "2                             VA       20582         0.0245  \n",
       "3                             OH       20582         0.0267  \n",
       "4                             MO       20582         0.0067  \n",
       "..                           ...         ...            ...  \n",
       "354                           MD       20582         0.0412  \n",
       "355                           GA       20582         0.0288  \n",
       "356                           LA       20582         0.0000  \n",
       "357                           MI       20582         0.0167  \n",
       "358                           AL       20582         0.0101  \n",
       "\n",
       "[359 rows x 58 columns]"
      ]
     },
     "execution_count": 16,
     "metadata": {},
     "output_type": "execute_result"
    }
   ],
   "source": [
    "exeter_combos = getCombos(exeter, vehicle_years, vehicle_models, loan_terms, orig_dates)\n",
    "exeter_combos"
   ]
  },
  {
   "cell_type": "code",
   "execution_count": 17,
   "id": "c3cec28d",
   "metadata": {},
   "outputs": [
    {
     "data": {
      "text/plain": [
       "0.14100000000000001"
      ]
     },
     "execution_count": 17,
     "metadata": {},
     "output_type": "execute_result"
    }
   ],
   "source": [
    "max(exeter_combos['interest_diff'])"
   ]
  },
  {
   "cell_type": "code",
   "execution_count": 18,
   "id": "7dd0bad4",
   "metadata": {},
   "outputs": [
    {
     "data": {
      "text/plain": [
       "0.03407381615598886"
      ]
     },
     "execution_count": 18,
     "metadata": {},
     "output_type": "execute_result"
    }
   ],
   "source": [
    "np.mean(exeter_combos['interest_diff'])"
   ]
  },
  {
   "cell_type": "code",
   "execution_count": 19,
   "id": "e5f4eb09",
   "metadata": {},
   "outputs": [],
   "source": [
    "exeter_combos.to_csv('exeter.csv')"
   ]
  },
  {
   "cell_type": "code",
   "execution_count": null,
   "id": "2dcabb96",
   "metadata": {},
   "outputs": [],
   "source": []
  }
 ],
 "metadata": {
  "kernelspec": {
   "display_name": "Python 3 (ipykernel)",
   "language": "python",
   "name": "python3"
  },
  "language_info": {
   "codemirror_mode": {
    "name": "ipython",
    "version": 3
   },
   "file_extension": ".py",
   "mimetype": "text/x-python",
   "name": "python",
   "nbconvert_exporter": "python",
   "pygments_lexer": "ipython3",
   "version": "3.9.2"
  }
 },
 "nbformat": 4,
 "nbformat_minor": 5
}
